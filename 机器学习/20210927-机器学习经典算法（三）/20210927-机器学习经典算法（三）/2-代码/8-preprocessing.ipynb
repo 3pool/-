{
 "cells": [
  {
   "cell_type": "code",
   "execution_count": 3,
   "id": "c81c4725",
   "metadata": {},
   "outputs": [],
   "source": [
    "# 导入sklearn数据预处理模块\n",
    "from sklearn import preprocessing\n",
    "import numpy as np"
   ]
  },
  {
   "cell_type": "code",
   "execution_count": 4,
   "id": "34757e39",
   "metadata": {},
   "outputs": [],
   "source": [
    "# 3个样本3个特征\n",
    "x = np.array([[1., -1., 2.],\n",
    "              [2., 0., 0.],\n",
    "              [0., 1., -1.]])"
   ]
  },
  {
   "cell_type": "code",
   "execution_count": 5,
   "id": "b071847b",
   "metadata": {},
   "outputs": [
    {
     "data": {
      "text/plain": [
       "array([[ 0.        , -1.22474487,  1.33630621],\n",
       "       [ 1.22474487,  0.        , -0.26726124],\n",
       "       [-1.22474487,  1.22474487, -1.06904497]])"
      ]
     },
     "execution_count": 5,
     "metadata": {},
     "output_type": "execute_result"
    }
   ],
   "source": [
    "x_scale = preprocessing.scale(x)\n",
    "x_scale"
   ]
  },
  {
   "cell_type": "code",
   "execution_count": 7,
   "id": "7c796d4b",
   "metadata": {},
   "outputs": [
    {
     "data": {
      "text/plain": [
       "array([0., 0., 0.])"
      ]
     },
     "execution_count": 7,
     "metadata": {},
     "output_type": "execute_result"
    }
   ],
   "source": [
    "# 按列求平均\n",
    "x_scale.mean(axis=0)"
   ]
  },
  {
   "cell_type": "code",
   "execution_count": 9,
   "id": "b767d6da",
   "metadata": {},
   "outputs": [
    {
     "data": {
      "text/plain": [
       "array([1., 1., 1.])"
      ]
     },
     "execution_count": 9,
     "metadata": {},
     "output_type": "execute_result"
    }
   ],
   "source": [
    "# 按列求标准差\n",
    "x_scale.std(axis=0)"
   ]
  },
  {
   "cell_type": "code",
   "execution_count": null,
   "id": "645e384c",
   "metadata": {},
   "outputs": [],
   "source": [
    "# True  False"
   ]
  },
  {
   "cell_type": "code",
   "execution_count": null,
   "id": "e303ea85",
   "metadata": {},
   "outputs": [],
   "source": [
    "x = np.array([[1., -1., 2.],\n",
    "              [2., 0., 0.],\n",
    "              [0., 1., -1.]])"
   ]
  },
  {
   "cell_type": "code",
   "execution_count": 10,
   "id": "7cf09485",
   "metadata": {},
   "outputs": [
    {
     "data": {
      "text/plain": [
       "array([[1., 0., 1.],\n",
       "       [1., 0., 0.],\n",
       "       [0., 1., 0.]])"
      ]
     },
     "execution_count": 10,
     "metadata": {},
     "output_type": "execute_result"
    }
   ],
   "source": [
    "# 实例化一个Binarizer()转化器，并训练参数\n",
    "# 特征二值化默认阈值是0\n",
    "binarizer = preprocessing.Binarizer().fit(x)\n",
    "# 开始转化特征\n",
    "binarizer.transform(x)"
   ]
  },
  {
   "cell_type": "code",
   "execution_count": 11,
   "id": "12c1b420",
   "metadata": {},
   "outputs": [
    {
     "data": {
      "text/plain": [
       "array([[0., 0., 1.],\n",
       "       [1., 0., 0.],\n",
       "       [0., 0., 0.]])"
      ]
     },
     "execution_count": 11,
     "metadata": {},
     "output_type": "execute_result"
    }
   ],
   "source": [
    "#当然也可以自己设置这个阀值，只需传出参数threshold即可\n",
    "binarizer = preprocessing.Binarizer(threshold=1.5)\n",
    "binarizer.transform(x)"
   ]
  },
  {
   "cell_type": "code",
   "execution_count": 13,
   "id": "0dea3f4d",
   "metadata": {},
   "outputs": [
    {
     "data": {
      "text/plain": [
       "OneHotEncoder()"
      ]
     },
     "execution_count": 13,
     "metadata": {},
     "output_type": "execute_result"
    }
   ],
   "source": [
    "# 创建一个独热编码器\n",
    "enc = preprocessing.OneHotEncoder()\n",
    "\n",
    "# 随机模拟一些样本\n",
    "sample = np.array([[0, 0, 3], \n",
    "                   [1, 1, 0], \n",
    "                   [0, 2, 1], \n",
    "                   [1, 0, 2]])\n",
    "# fit来学习编码\n",
    "enc.fit(sample)    "
   ]
  },
  {
   "cell_type": "code",
   "execution_count": 16,
   "id": "7656952c",
   "metadata": {},
   "outputs": [
    {
     "data": {
      "text/plain": [
       "[array([0, 1]), array([0, 1, 2]), array([0, 1, 2, 3])]"
      ]
     },
     "execution_count": 16,
     "metadata": {},
     "output_type": "execute_result"
    }
   ],
   "source": [
    "# 以下是独热编码器学习到的参数\n",
    "enc.categories_"
   ]
  },
  {
   "cell_type": "code",
   "execution_count": 17,
   "id": "872283ed",
   "metadata": {},
   "outputs": [
    {
     "data": {
      "text/plain": [
       "array([[1., 0., 0., 1., 0., 0., 0., 0., 1.],\n",
       "       [0., 1., 0., 0., 1., 0., 1., 0., 0.]])"
      ]
     },
     "execution_count": 17,
     "metadata": {},
     "output_type": "execute_result"
    }
   ],
   "source": [
    "# 进行编码\n",
    "enc.transform([[0, 1, 3],\n",
    "               [1, 2, 1]]).toarray()  "
   ]
  },
  {
   "cell_type": "code",
   "execution_count": 20,
   "id": "117a68bb",
   "metadata": {},
   "outputs": [
    {
     "data": {
      "text/plain": [
       "MinMaxScaler()"
      ]
     },
     "execution_count": 20,
     "metadata": {},
     "output_type": "execute_result"
    }
   ],
   "source": [
    "from sklearn.preprocessing import MinMaxScaler\n",
    "data = [[-1, 2], \n",
    "        [-0.5, 6], \n",
    "        [0, 10], \n",
    "        [1, 18]]\n",
    "# 实例化归一化转换器\n",
    "scaler = MinMaxScaler()\n",
    "# 学习参数\n",
    "scaler.fit(data)"
   ]
  },
  {
   "cell_type": "code",
   "execution_count": 25,
   "id": "5fc50da8",
   "metadata": {},
   "outputs": [
    {
     "name": "stdout",
     "output_type": "stream",
     "text": [
      "样本每个特征的最大值： [ 1. 18.]\n",
      "样本每个特征的最小值： [-1.  2.]\n"
     ]
    }
   ],
   "source": [
    "# 查看学习到的参数\n",
    "print(\"样本每个特征的最大值：\",scaler.data_max_)\n",
    "print(\"样本每个特征的最小值：\",scaler.data_min_)"
   ]
  },
  {
   "cell_type": "code",
   "execution_count": 26,
   "id": "2c055cd3",
   "metadata": {},
   "outputs": [
    {
     "name": "stdout",
     "output_type": "stream",
     "text": [
      "[[0.   0.  ]\n",
      " [0.25 0.25]\n",
      " [0.5  0.5 ]\n",
      " [1.   1.  ]]\n"
     ]
    }
   ],
   "source": [
    "print(scaler.transform(data))"
   ]
  },
  {
   "cell_type": "code",
   "execution_count": 28,
   "id": "dbd638f2",
   "metadata": {},
   "outputs": [
    {
     "name": "stdout",
     "output_type": "stream",
     "text": [
      "[[1.5 0. ]]\n"
     ]
    }
   ],
   "source": [
    "# 给一个新的样本做归一化转换\n",
    "print(scaler.transform([[2, 2]]))"
   ]
  },
  {
   "cell_type": "code",
   "execution_count": 37,
   "id": "2bf835a1",
   "metadata": {},
   "outputs": [
    {
     "name": "stdout",
     "output_type": "stream",
     "text": [
      "[2. 1. 5.]\n"
     ]
    }
   ],
   "source": [
    "from sklearn.preprocessing import MaxAbsScaler\n",
    "X = [[ 1., -1.,  -5.],\n",
    "     [ 2.,  0.,  0.],\n",
    "     [ 0.,  1., -1.]]\n",
    "transformer = MaxAbsScaler().fit(X)\n",
    "# 查看每个特征绝对值的最大值\n",
    "print(transformer.max_abs_)"
   ]
  },
  {
   "cell_type": "code",
   "execution_count": 38,
   "id": "5f19a042",
   "metadata": {},
   "outputs": [
    {
     "data": {
      "text/plain": [
       "array([[ 0.5, -1. , -1. ],\n",
       "       [ 1. ,  0. ,  0. ],\n",
       "       [ 0. ,  1. , -0.2]])"
      ]
     },
     "execution_count": 38,
     "metadata": {},
     "output_type": "execute_result"
    }
   ],
   "source": [
    "transformer.transform(X)"
   ]
  },
  {
   "cell_type": "code",
   "execution_count": 40,
   "id": "f161ba88",
   "metadata": {},
   "outputs": [
    {
     "name": "stdout",
     "output_type": "stream",
     "text": [
      "[1 0 0 1]\n"
     ]
    }
   ],
   "source": [
    "import pandas as pd \n",
    "sex = pd.Series([\"male\", \"female\", \"female\", \"male\"])\n",
    "\n",
    "#获取一个LabelEncoder\n",
    "le = preprocessing.LabelEncoder()\n",
    "\n",
    "#训练LabelEncoder, 把male编码为1，female编码为0\n",
    "le = le.fit(sex)\n",
    "#使用训练好的LabelEncoder对原数据进行编码\n",
    "sex = le.transform(sex)                \n",
    "print(sex)"
   ]
  },
  {
   "cell_type": "code",
   "execution_count": 42,
   "id": "0df8a96d",
   "metadata": {},
   "outputs": [
    {
     "data": {
      "text/plain": [
       "['setosa', 'versicolor', 'virginica', 'versicolor', 'setosa', 'virginica']"
      ]
     },
     "execution_count": 42,
     "metadata": {},
     "output_type": "execute_result"
    }
   ],
   "source": []
  },
  {
   "cell_type": "code",
   "execution_count": 43,
   "id": "ba2698a7",
   "metadata": {},
   "outputs": [],
   "source": [
    "# 使用标签类别编码对鸢尾花类别做编码\n",
    "target = ['setosa', 'versicolor', 'virginica', \n",
    "          'versicolor','setosa', 'virginica']\n",
    "print(target)\n",
    "le = preprocessing.LabelEncoder()\n",
    "le = le.fit(target)\n",
    "iris_target = le.transform(target) \n",
    "iris_target"
   ]
  },
  {
   "cell_type": "code",
   "execution_count": 44,
   "id": "c10b9f56",
   "metadata": {},
   "outputs": [],
   "source": []
  },
  {
   "cell_type": "code",
   "execution_count": 45,
   "id": "1987d57d",
   "metadata": {},
   "outputs": [],
   "source": []
  },
  {
   "cell_type": "code",
   "execution_count": 46,
   "id": "dc73178c",
   "metadata": {},
   "outputs": [
    {
     "data": {
      "text/plain": [
       "array([0, 1, 2, 1, 0, 2])"
      ]
     },
     "execution_count": 46,
     "metadata": {},
     "output_type": "execute_result"
    }
   ],
   "source": []
  },
  {
   "cell_type": "code",
   "execution_count": null,
   "id": "3e65a818",
   "metadata": {},
   "outputs": [],
   "source": []
  }
 ],
 "metadata": {
  "kernelspec": {
   "display_name": "Python 3",
   "language": "python",
   "name": "python3"
  },
  "language_info": {
   "codemirror_mode": {
    "name": "ipython",
    "version": 3
   },
   "file_extension": ".py",
   "mimetype": "text/x-python",
   "name": "python",
   "nbconvert_exporter": "python",
   "pygments_lexer": "ipython3",
   "version": "3.8.5"
  }
 },
 "nbformat": 4,
 "nbformat_minor": 5
}
