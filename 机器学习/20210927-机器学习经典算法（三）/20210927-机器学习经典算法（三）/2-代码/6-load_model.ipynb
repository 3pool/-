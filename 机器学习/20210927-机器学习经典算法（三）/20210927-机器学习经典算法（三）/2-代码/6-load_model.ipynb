{
 "cells": [
  {
   "cell_type": "code",
   "execution_count": 1,
   "id": "8ad55f3f",
   "metadata": {},
   "outputs": [],
   "source": [
    "import pickle"
   ]
  },
  {
   "cell_type": "code",
   "execution_count": 3,
   "id": "e7f8710c",
   "metadata": {},
   "outputs": [],
   "source": [
    "# 通过pickle.load 加载 lrmodel.pickle文件，把读取出来的模型赋予一个新的对象 new_lr\n",
    "with open('lrmodel.pickle', 'rb') as fr:\n",
    "    new_lr = pickle.load(fr)"
   ]
  },
  {
   "cell_type": "code",
   "execution_count": 4,
   "id": "2f3a10dd",
   "metadata": {},
   "outputs": [
    {
     "data": {
      "text/plain": [
       "sklearn.linear_model._logistic.LogisticRegression"
      ]
     },
     "execution_count": 4,
     "metadata": {},
     "output_type": "execute_result"
    }
   ],
   "source": [
    "#通过type()查看new_lr，的确是一个LogisticRegression模型\n",
    "type(new_lr)"
   ]
  },
  {
   "cell_type": "code",
   "execution_count": 6,
   "id": "72102910",
   "metadata": {},
   "outputs": [],
   "source": [
    "%run 5-prepare_data.ipynb"
   ]
  },
  {
   "cell_type": "code",
   "execution_count": 7,
   "id": "69ffc9ab",
   "metadata": {},
   "outputs": [],
   "source": [
    "new_data = prepare_data(\"./datasets/new.csv\",\"test\")"
   ]
  },
  {
   "cell_type": "code",
   "execution_count": 9,
   "id": "2bc38ded",
   "metadata": {},
   "outputs": [
    {
     "data": {
      "text/plain": [
       "(418,)"
      ]
     },
     "execution_count": 9,
     "metadata": {},
     "output_type": "execute_result"
    }
   ],
   "source": [
    "# sklearn.linear_model.logistic.LogisticRegression\n",
    "#让我们用new_lr.predict()来对X_test预测一下\n",
    "pred = new_lr.predict(new_data.drop([\"PassengerId\"],axis=1))\n",
    "pred.shape"
   ]
  },
  {
   "cell_type": "code",
   "execution_count": 10,
   "id": "1ce22539",
   "metadata": {},
   "outputs": [
    {
     "data": {
      "text/plain": [
       "array([0, 0, 0, 0, 1, 0, 1, 0, 1, 0, 0, 0, 1, 0, 1, 1, 0, 0, 1, 1],\n",
       "      dtype=int64)"
      ]
     },
     "execution_count": 10,
     "metadata": {},
     "output_type": "execute_result"
    }
   ],
   "source": [
    "pred[:20]"
   ]
  },
  {
   "cell_type": "code",
   "execution_count": 11,
   "id": "e8890c24",
   "metadata": {},
   "outputs": [],
   "source": [
    "import joblib"
   ]
  },
  {
   "cell_type": "code",
   "execution_count": 12,
   "id": "8b47b00e",
   "metadata": {},
   "outputs": [],
   "source": [
    "# 读取模型文件\n",
    "new_lr2 = joblib.load(\"lrmodel.m\")"
   ]
  },
  {
   "cell_type": "code",
   "execution_count": 14,
   "id": "91c2cb49",
   "metadata": {},
   "outputs": [
    {
     "data": {
      "text/plain": [
       "(418,)"
      ]
     },
     "execution_count": 14,
     "metadata": {},
     "output_type": "execute_result"
    }
   ],
   "source": [
    "# 预测\n",
    "pred = new_lr2.predict(new_data.drop([\"PassengerId\"],axis=1))\n",
    "pred.shape"
   ]
  },
  {
   "cell_type": "code",
   "execution_count": 15,
   "id": "68a6375c",
   "metadata": {},
   "outputs": [
    {
     "data": {
      "text/plain": [
       "array([0, 0, 0, 0, 1, 0, 1, 0, 1, 0, 0, 0, 1, 0, 1, 1, 0, 0, 1, 1],\n",
       "      dtype=int64)"
      ]
     },
     "execution_count": 15,
     "metadata": {},
     "output_type": "execute_result"
    }
   ],
   "source": [
    "pred[:20]"
   ]
  },
  {
   "cell_type": "code",
   "execution_count": null,
   "id": "225f761b",
   "metadata": {},
   "outputs": [],
   "source": []
  }
 ],
 "metadata": {
  "kernelspec": {
   "display_name": "Python 3",
   "language": "python",
   "name": "python3"
  },
  "language_info": {
   "codemirror_mode": {
    "name": "ipython",
    "version": 3
   },
   "file_extension": ".py",
   "mimetype": "text/x-python",
   "name": "python",
   "nbconvert_exporter": "python",
   "pygments_lexer": "ipython3",
   "version": "3.8.5"
  }
 },
 "nbformat": 4,
 "nbformat_minor": 5
}
