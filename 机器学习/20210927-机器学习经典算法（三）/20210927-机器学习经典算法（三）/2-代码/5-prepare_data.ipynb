{
 "cells": [
  {
   "cell_type": "code",
   "execution_count": 1,
   "id": "83106b72",
   "metadata": {},
   "outputs": [],
   "source": [
    "# 将数据预处理及特征工程的完整代码封装成一个函数\n",
    "# 该函数实现即能处理训练数据集（train.csv） 也能处理新的数据集（new.csv）"
   ]
  },
  {
   "cell_type": "code",
   "execution_count": 1,
   "id": "863f0135",
   "metadata": {},
   "outputs": [],
   "source": [
    "import pandas as pd\n",
    "def prepare_data(path,role):\n",
    "    \"\"\"\n",
    "    功能：实现对训练数据或者新的数据的数据预处理工作\n",
    "    参数：\n",
    "        @param path 读取的数据文件路径 \n",
    "        @param role 数据文件的用途 ,两个取值：\n",
    "                    train（表明预处理的是训练集）\n",
    "                    test （表明预处理的是新的数据集）\n",
    "    Return:\n",
    "        返回预处理好后的训练集或测试集\n",
    "    \"\"\"\n",
    "    titanic_df = pd.read_csv(path)\n",
    "    # 根据数据集角色不一样，删除数据列也不一样\n",
    "    if role == \"train\":\n",
    "        titanic_df = titanic_df.drop([\"PassengerId\",\"Name\",\"Ticket\",\"Cabin\"],axis=1)\n",
    "    else:\n",
    "        # 保留PassengerId，方便将来预测结果和PassengerId对应\n",
    "        titanic_df = titanic_df.drop([\"Name\",\"Ticket\",\"Cabin\"],axis=1)\n",
    "    # 标记年龄缺失值\n",
    "    titanic_df[\"AgeIsMissing\"] = 0 \n",
    "    titanic_df.loc[titanic_df[\"Age\"].isnull(),\"AgeIsMissing\"] = 1\n",
    "    # 平均值填充年龄\n",
    "    age_mean = round(titanic_df.Age.mean())\n",
    "    titanic_df.Age.fillna(age_mean,inplace=True)\n",
    "    # 用频率出现最高的登船港口填充缺失值\n",
    "    titanic_df.Embarked.fillna(\"S\",inplace=True)\n",
    "    # 年龄自定义分箱\n",
    "    cut_points = [0,18,25,40,60,100]\n",
    "    titanic_df[\"AgeBin\"] = pd.cut(titanic_df.Age,bins=cut_points)\n",
    "    # 船票价格等深分箱\n",
    "    titanic_df[\"FareBin\"] = pd.qcut(titanic_df.Fare,5)\n",
    "    # 构造FamilySize变量\n",
    "    titanic_df[\"FamilySize\"] = titanic_df[\"SibSp\"] + titanic_df[\"Parch\"] + 1\n",
    "    # 构造IsAlone变量\n",
    "    titanic_df[\"IsAlone\"] =0\n",
    "    titanic_df.loc[titanic_df[\"FamilySize\"] == 1,\"IsAlone\"] = 1\n",
    "    # 构造IsMother变量\n",
    "    titanic_df[\"IsMother\"] = 0\n",
    "    titanic_df.loc[(titanic_df[\"Sex\"] == \"female\")&(titanic_df[\"Parch\"] > 0)&(titanic_df[\"Age\"]>20),\n",
    "                   \"IsMother\"] = 1\n",
    "    # 性别和年龄分箱特征进行组合，共组合出10种\n",
    "    titanic_df[\"SexAgeCombo\"] = titanic_df[\"Sex\"] + \"_\" + titanic_df[\"AgeBin\"].astype(str)\n",
    "    # 一大堆独热编码\n",
    "    Pclass_onehot = pd.get_dummies(titanic_df.Pclass,prefix=\"Pclass\")\n",
    "    Sex_onehot = pd.get_dummies(titanic_df.Sex,prefix=\"Sex\") \n",
    "    Embarked_onehot = pd.get_dummies(titanic_df.Embarked,prefix=\"Embarked\")\n",
    "    AgeBin_onehot = pd.get_dummies(titanic_df.AgeBin,prefix=\"AgeBin\")\n",
    "    FareBin_onehot = pd.get_dummies(titanic_df.FareBin,prefix=\"FareBin\")\n",
    "    FamilySize_onehot = pd.get_dummies(titanic_df.FamilySize,prefix=\"FamilySize\")\n",
    "    SexAgeCombo_onehot = pd.get_dummies(titanic_df.SexAgeCombo,prefix=\"SexAgeCombo\")\n",
    "    # 数据集的角色不一样，拼接的数据列也不一样\n",
    "    if role==\"train\":\n",
    "        TrainData = pd.concat([titanic_df[[\"Survived\",\"AgeIsMissing\",\"IsAlone\",\"IsMother\"]],\n",
    "                              Pclass_onehot,Sex_onehot,Embarked_onehot,AgeBin_onehot,\n",
    "                              FareBin_onehot,FamilySize_onehot,SexAgeCombo_onehot],axis=1)\n",
    "    else:\n",
    "        TrainData = pd.concat([titanic_df[[\"PassengerId\",\"AgeIsMissing\",\"IsAlone\",\"IsMother\"]],\n",
    "                              Pclass_onehot,Sex_onehot,Embarked_onehot,AgeBin_onehot,\n",
    "                              FareBin_onehot,FamilySize_onehot,SexAgeCombo_onehot],axis=1)\n",
    "    # 返回处理好的数据集\n",
    "    return TrainData"
   ]
  },
  {
   "cell_type": "code",
   "execution_count": null,
   "id": "089cb293",
   "metadata": {},
   "outputs": [],
   "source": []
  }
 ],
 "metadata": {
  "kernelspec": {
   "display_name": "Python 3",
   "language": "python",
   "name": "python3"
  },
  "language_info": {
   "codemirror_mode": {
    "name": "ipython",
    "version": 3
   },
   "file_extension": ".py",
   "mimetype": "text/x-python",
   "name": "python",
   "nbconvert_exporter": "python",
   "pygments_lexer": "ipython3",
   "version": "3.8.5"
  }
 },
 "nbformat": 4,
 "nbformat_minor": 5
}
