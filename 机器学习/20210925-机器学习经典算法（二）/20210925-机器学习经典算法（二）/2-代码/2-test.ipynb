{
 "cells": [
  {
   "cell_type": "code",
   "execution_count": 2,
   "id": "dbb10dd1",
   "metadata": {},
   "outputs": [],
   "source": [
    "#  从sklearn中导入归一化模块 MinMaxScaler\n",
    "from sklearn.preprocessing import MinMaxScaler\n",
    "\n",
    "# 创建4行2列测试数据\n",
    "data = [[-1, 2], \n",
    "        [-0.5, 6],\n",
    "        [0, 10], \n",
    "        [1, 18]]"
   ]
  },
  {
   "cell_type": "code",
   "execution_count": 3,
   "id": "b02a50f3",
   "metadata": {},
   "outputs": [],
   "source": [
    "# 实例化MinMaxScaler转化器\n",
    "scaler = MinMaxScaler()"
   ]
  },
  {
   "cell_type": "code",
   "execution_count": 4,
   "id": "a8aaea93",
   "metadata": {},
   "outputs": [
    {
     "data": {
      "text/plain": [
       "MinMaxScaler()"
      ]
     },
     "execution_count": 4,
     "metadata": {},
     "output_type": "execute_result"
    }
   ],
   "source": [
    "# fit学习参数\n",
    "# 思考：fit学习什么东西？ \n",
    "# 答：学习到每一列的最大值和最小值\n",
    "scaler.fit(data)"
   ]
  },
  {
   "cell_type": "code",
   "execution_count": 6,
   "id": "078cd9ec",
   "metadata": {},
   "outputs": [
    {
     "name": "stdout",
     "output_type": "stream",
     "text": [
      "*********输出每一列的最大值**********\n",
      "[ 1. 18.]\n",
      "*********输出每一列的最小值**********\n",
      "[-1.  2.]\n"
     ]
    }
   ],
   "source": [
    "print(\"*********输出每一列的最大值**********\")\n",
    "print(scaler.data_max_)\n",
    "print(\"*********输出每一列的最小值**********\")\n",
    "print(scaler.data_min_)"
   ]
  },
  {
   "cell_type": "code",
   "execution_count": 7,
   "id": "5a99da74",
   "metadata": {},
   "outputs": [
    {
     "name": "stdout",
     "output_type": "stream",
     "text": [
      "*********归一化后的结果**********\n",
      "[[0.   0.  ]\n",
      " [0.25 0.25]\n",
      " [0.5  0.5 ]\n",
      " [1.   1.  ]]\n"
     ]
    }
   ],
   "source": [
    "print(\"*********归一化后的结果**********\")\n",
    "print(scaler.transform(data))"
   ]
  },
  {
   "cell_type": "code",
   "execution_count": 9,
   "id": "92e8cba4",
   "metadata": {},
   "outputs": [],
   "source": [
    "# 标准化和归一化都可以用于统一量纲，那么什么时候用标准化什么时候用归一化？\n",
    "# 答：没有绝对答案，根据实际情况来选择"
   ]
  },
  {
   "cell_type": "code",
   "execution_count": 1,
   "id": "c361d4d2",
   "metadata": {},
   "outputs": [],
   "source": [
    "name = [\"Jack\",\"Rose\",\"Jerry\",\"Tom\"]\n",
    "age = [23,21,18,16]"
   ]
  },
  {
   "cell_type": "code",
   "execution_count": 3,
   "id": "d7dd21db",
   "metadata": {},
   "outputs": [
    {
     "name": "stdout",
     "output_type": "stream",
     "text": [
      "('Jack', 23)\n",
      "('Rose', 21)\n",
      "('Jerry', 18)\n",
      "('Tom', 16)\n"
     ]
    }
   ],
   "source": [
    "# 将可迭代对象中的元素进行耦合\n",
    "for item in zip(name,age):\n",
    "    print(item)"
   ]
  },
  {
   "cell_type": "code",
   "execution_count": 6,
   "id": "4ef799d4",
   "metadata": {},
   "outputs": [],
   "source": [
    "import numpy as np\n",
    "import pandas as pd\n",
    "import matplotlib.pyplot as plt"
   ]
  },
  {
   "cell_type": "code",
   "execution_count": 6,
   "id": "d73a9ce2",
   "metadata": {},
   "outputs": [
    {
     "data": {
      "text/plain": [
       "array([[88, 71, 78, 52, 64],\n",
       "       [27, 40, 83, 33, 47],\n",
       "       [ 5,  7, 99, 73, 60]])"
      ]
     },
     "execution_count": 6,
     "metadata": {},
     "output_type": "execute_result"
    }
   ],
   "source": [
    "# 产生一个0~100之间3行5列的随机整数数组\n",
    "result = np.random.randint(0,100,size=(3,5))\n",
    "result"
   ]
  },
  {
   "cell_type": "code",
   "execution_count": 7,
   "id": "672b7c20",
   "metadata": {},
   "outputs": [
    {
     "data": {
      "text/plain": [
       "array([[88, 71, 78, 52, 64],\n",
       "       [27, 40, 83, 33, 47],\n",
       "       [ 5,  7, 99, 73, 60]])"
      ]
     },
     "execution_count": 7,
     "metadata": {},
     "output_type": "execute_result"
    }
   ],
   "source": [
    "result"
   ]
  },
  {
   "cell_type": "code",
   "execution_count": 9,
   "id": "4ba7eb05",
   "metadata": {},
   "outputs": [
    {
     "data": {
      "text/plain": [
       "array([0, 2, 2], dtype=int64)"
      ]
     },
     "execution_count": 9,
     "metadata": {},
     "output_type": "execute_result"
    }
   ],
   "source": [
    "# np.argmax() 分别得到每一行和每一列最大值的元素的索引\n",
    "np.argmax(result,axis=1) # axis=1,表示每一行最大值的索引"
   ]
  },
  {
   "cell_type": "code",
   "execution_count": 10,
   "id": "8781a191",
   "metadata": {},
   "outputs": [
    {
     "data": {
      "text/plain": [
       "array([0, 0, 2, 2, 0], dtype=int64)"
      ]
     },
     "execution_count": 10,
     "metadata": {},
     "output_type": "execute_result"
    }
   ],
   "source": [
    "np.argmax(result,axis=0) # axis=1,表示每一行最大值的索引"
   ]
  },
  {
   "cell_type": "code",
   "execution_count": 14,
   "id": "ff90474b",
   "metadata": {},
   "outputs": [],
   "source": [
    "x = np.array([1,3,5,7,9,11])\n",
    "y = -2*x + 3"
   ]
  },
  {
   "cell_type": "code",
   "execution_count": 15,
   "id": "2615baea",
   "metadata": {},
   "outputs": [
    {
     "data": {
      "text/plain": [
       "array([ 1,  3,  5,  7,  9, 11])"
      ]
     },
     "execution_count": 15,
     "metadata": {},
     "output_type": "execute_result"
    }
   ],
   "source": [
    "x"
   ]
  },
  {
   "cell_type": "code",
   "execution_count": 16,
   "id": "1fe4ba64",
   "metadata": {},
   "outputs": [
    {
     "data": {
      "text/plain": [
       "array([  1,  -3,  -7, -11, -15, -19])"
      ]
     },
     "execution_count": 16,
     "metadata": {},
     "output_type": "execute_result"
    }
   ],
   "source": [
    "y"
   ]
  },
  {
   "cell_type": "code",
   "execution_count": 17,
   "id": "2b7568b1",
   "metadata": {},
   "outputs": [
    {
     "data": {
      "image/png": "[encoded data removed]",
      "text/plain": [
       "<Figure size 432x288 with 1 Axes>"
      ]
     },
     "metadata": {
      "needs_background": "light"
     },
     "output_type": "display_data"
    }
   ],
   "source": [
    "plt.scatter(x,y)\n",
    "plt.show()"
   ]
  },
  {
   "cell_type": "code",
   "execution_count": 18,
   "id": "4068e596",
   "metadata": {},
   "outputs": [
    {
     "data": {
      "text/plain": [
       "array([[ 1., -1.],\n",
       "       [-1.,  1.]])"
      ]
     },
     "execution_count": 18,
     "metadata": {},
     "output_type": "execute_result"
    }
   ],
   "source": [
    "# 使用numpy求解x与y的皮尔逊相关系数\n",
    "np.corrcoef(x,y)"
   ]
  },
  {
   "cell_type": "code",
   "execution_count": 20,
   "id": "af0d2d01",
   "metadata": {},
   "outputs": [
    {
     "data": {
      "text/plain": [
       "array([[3, 4],\n",
       "       [3, 0],\n",
       "       [7, 3],\n",
       "       [5, 2],\n",
       "       [7, 2],\n",
       "       [9, 1],\n",
       "       [6, 8],\n",
       "       [2, 9],\n",
       "       [8, 3],\n",
       "       [2, 9]])"
      ]
     },
     "execution_count": 20,
     "metadata": {},
     "output_type": "execute_result"
    }
   ],
   "source": [
    "# 生成一个10行两个列的随机数组\n",
    "arr = np.random.randint(0,10,size=(10,2))\n",
    "arr"
   ]
  },
  {
   "cell_type": "code",
   "execution_count": 22,
   "id": "a6cd46a0",
   "metadata": {},
   "outputs": [
    {
     "data": {
      "image/png": "[encoded data removed]",
      "text/plain": [
       "<Figure size 432x288 with 1 Axes>"
      ]
     },
     "metadata": {
      "needs_background": "light"
     },
     "output_type": "display_data"
    }
   ],
   "source": [
    "plt.scatter(arr[:,0],arr[:,1])\n",
    "plt.show()"
   ]
  },
  {
   "cell_type": "code",
   "execution_count": 21,
   "id": "e2af9c53",
   "metadata": {},
   "outputs": [
    {
     "data": {
      "text/plain": [
       "array([[ 1.        , -0.50549557],\n",
       "       [-0.50549557,  1.        ]])"
      ]
     },
     "execution_count": 21,
     "metadata": {},
     "output_type": "execute_result"
    }
   ],
   "source": [
    "# 使用numpy求第一列和第二列的皮尔逊相关系数\n",
    "np.corrcoef(arr[:,0], # 数组的第一列\n",
    "            arr[:,1]) # 数组的第二列"
   ]
  },
  {
   "cell_type": "code",
   "execution_count": null,
   "id": "5f12d4ee",
   "metadata": {},
   "outputs": [],
   "source": []
  }
 ],
 "metadata": {
  "kernelspec": {
   "display_name": "Python 3",
   "language": "python",
   "name": "python3"
  },
  "language_info": {
   "codemirror_mode": {
    "name": "ipython",
    "version": 3
   },
   "file_extension": ".py",
   "mimetype": "text/x-python",
   "name": "python",
   "nbconvert_exporter": "python",
   "pygments_lexer": "ipython3",
   "version": "3.8.8"
  }
 },
 "nbformat": 4,
 "nbformat_minor": 5
}
