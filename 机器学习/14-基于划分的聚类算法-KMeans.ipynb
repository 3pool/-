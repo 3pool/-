{
 "cells": [
  {
   "cell_type": "code",
   "execution_count": 1,
   "metadata": {},
   "outputs": [],
   "source": [
    "# 导入模块跨\n",
    "import numpy as np\n",
    "import matplotlib.pyplot as plt\n",
    "import matplotlib as mpl\n",
    "\n",
    "import sklearn.datasets as ds\n",
    "\n",
    "import matplotlib.colors\n",
    "# 导入Kmeans聚类算法\n",
    "from sklearn.cluster import KMeans"
   ]
  },
  {
   "cell_type": "code",
   "execution_count": 2,
   "metadata": {},
   "outputs": [],
   "source": [
    "## 设置属性防止中文乱码\n",
    "mpl.rcParams['font.sans-serif'] = [u'SimHei']\n",
    "mpl.rcParams['axes.unicode_minus'] = False"
   ]
  },
  {
   "cell_type": "code",
   "execution_count": 3,
   "metadata": {},
   "outputs": [],
   "source": [
    "# 使用sklearn.datasets模块模拟一些用户聚类的假数据\n",
    "N = 1500 # 模拟样本数量\n",
    "centers = 4 # 模拟样本划分为几个类别\n",
    "\n",
    "# 使用make_blobs 创建簇状的数据集\n",
    "# 样本数量为：1500，特征数量为：2，所有样本分为4个类\n",
    "# 返回值：\n",
    "# data 所有样本特征，shape为：1500x2,  \n",
    "# y 所有样本的类别，总共四个类别，分别为：[0,1,2,3]  shape为 (1500,) 一维的数组\n",
    "data,y = ds.make_blobs(N, \n",
    "                       n_features=2, \n",
    "                       centers=centers, \n",
    "                       random_state=10)"
   ]
  },
  {
   "cell_type": "code",
   "execution_count": 4,
   "metadata": {},
   "outputs": [
    {
     "data": {
      "text/plain": [
       "array([1, 2, 2, 1, 3, 3, 2, 0, 2, 0])"
      ]
     },
     "execution_count": 4,
     "metadata": {},
     "output_type": "execute_result"
    }
   ],
   "source": [
    "# 查看前10个样本的类别\n",
    "y[:10]"
   ]
  },
  {
   "cell_type": "code",
   "execution_count": 5,
   "metadata": {},
   "outputs": [
    {
     "data": {
      "text/plain": [
       "array([[  4.25151798,   6.17225772],\n",
       "       [  1.03745836,  -5.26870562],\n",
       "       [ -0.66285466,  -5.28697222],\n",
       "       [  2.32961945,   4.43571332],\n",
       "       [ -5.26421578,   4.5857146 ],\n",
       "       [ -4.97380222,   4.01970614],\n",
       "       [  0.61686209,  -4.19431603],\n",
       "       [  4.48697951, -10.07429823],\n",
       "       [ -0.18870867,  -7.03383848],\n",
       "       [  4.10104699,  -9.56641288]])"
      ]
     },
     "execution_count": 5,
     "metadata": {},
     "output_type": "execute_result"
    }
   ],
   "source": [
    "# 查看前10个样本特征10x2\n",
    "data[:10]"
   ]
  },
  {
   "cell_type": "code",
   "execution_count": 6,
   "metadata": {},
   "outputs": [
    {
     "data": {
      "text/plain": [
       "<matplotlib.collections.PathCollection at 0x27cd8e811d0>"
      ]
     },
     "execution_count": 6,
     "metadata": {},
     "output_type": "execute_result"
    },
    {
     "data": {
      "image/png": "[encoded data removed]",
      "text/plain": [
       "<Figure size 432x288 with 1 Axes>"
      ]
     },
     "metadata": {
      "needs_background": "light"
     },
     "output_type": "display_data"
    }
   ],
   "source": [
    "# 使用所有样本第一个特征作为x轴\n",
    "# 使用所有样本第二个特征作为y轴\n",
    "# 绘制散点图\n",
    "plt.scatter(data[:,0], # 第一个特征作为x轴\n",
    "            data[:,1], # 第二特征作为y轴\n",
    "            c=y) # 每个样本类别作为点的颜色标签"
   ]
  },
  {
   "cell_type": "code",
   "execution_count": 10,
   "metadata": {},
   "outputs": [
    {
     "data": {
      "text/plain": [
       "KMeans(n_clusters=4, random_state=28)"
      ]
     },
     "execution_count": 10,
     "metadata": {},
     "output_type": "execute_result"
    }
   ],
   "source": [
    "# 实例化Kmeans聚类模型\n",
    "# n_clusters 核心参数，是随机选取的聚类中心点数量\n",
    "km = KMeans(n_clusters=centers,  # 将所有的样本聚为4个类\n",
    "            random_state=28)     # 随机数，用于随机选取中心点\n",
    "# 对所有的样本进行聚类操作\n",
    "km.fit(data)  # 思考：此处有何异常之处？\n",
    "# 解释：聚类算法的训练样本是不需要有目标变量\n",
    "# 此次目标变量y不给也是没问题"
   ]
  },
  {
   "cell_type": "code",
   "execution_count": 11,
   "metadata": {},
   "outputs": [
    {
     "name": "stdout",
     "output_type": "stream",
     "text": [
      "所有样本距离聚簇中心点的总距离和: 2877.130452655617\n",
      "距离聚簇中心点的平均距离: 1.9180869684370778\n",
      "聚簇中心点：\n",
      " [[ 2.60786057  5.00654462]\n",
      " [ 5.49479518 -9.59701372]\n",
      " [-6.04063565  5.17896311]\n",
      " [-0.09723311 -5.55596773]]\n"
     ]
    }
   ],
   "source": [
    "print (\"所有样本距离聚簇中心点的总距离和:\", km.inertia_)\n",
    "print (\"距离聚簇中心点的平均距离:\", (km.inertia_ / N))\n",
    "cluster_centers = km.cluster_centers_\n",
    "print (\"聚簇中心点：\\n\", cluster_centers)"
   ]
  },
  {
   "cell_type": "code",
   "execution_count": 13,
   "metadata": {},
   "outputs": [],
   "source": [
    "# 使用聚类模型对所有样本进行类别划分\n",
    "y_hat = km.predict(data)"
   ]
  },
  {
   "cell_type": "code",
   "execution_count": 14,
   "metadata": {},
   "outputs": [
    {
     "data": {
      "text/plain": [
       "array([1, 2, 2, 1, 3, 3, 2, 0, 2, 0])"
      ]
     },
     "execution_count": 14,
     "metadata": {},
     "output_type": "execute_result"
    }
   ],
   "source": [
    "# 样本真实类别\n",
    "y[:10]"
   ]
  },
  {
   "cell_type": "code",
   "execution_count": 16,
   "metadata": {},
   "outputs": [
    {
     "data": {
      "text/plain": [
       "array([0, 3, 3, 0, 2, 2, 3, 1, 3, 1])"
      ]
     },
     "execution_count": 16,
     "metadata": {},
     "output_type": "execute_result"
    }
   ],
   "source": [
    "# 预测类别\n",
    "y_hat[:10]"
   ]
  },
  {
   "cell_type": "code",
   "execution_count": null,
   "metadata": {},
   "outputs": [],
   "source": [
    "# 思考：聚类模型对样本预测类别与真实类别是否有关系？\n",
    "# 答：没有关系，样本真实类别为1，聚类模型预测有可能是0，1，2，3，。。。"
   ]
  },
  {
   "cell_type": "code",
   "execution_count": 17,
   "metadata": {},
   "outputs": [],
   "source": [
    "# 扩展区间的边界值\n",
    "def expandBorder(a, b):\n",
    "    d = (b - a) * 0.1\n",
    "    return a-d, b+d"
   ]
  },
  {
   "cell_type": "code",
   "execution_count": 18,
   "metadata": {},
   "outputs": [
    {
     "data": {
      "text/plain": [
       "(-125.0, 175.0)"
      ]
     },
     "execution_count": 18,
     "metadata": {},
     "output_type": "execute_result"
    }
   ],
   "source": [
    "# 给定一个区间范围：[-100,150]  a = -100,b = 150\n",
    "expandBorder(-100,150)"
   ]
  },
  {
   "cell_type": "code",
   "execution_count": 44,
   "metadata": {
    "scrolled": true
   },
   "outputs": [
    {
     "data": {
      "image/png": "[encoded data removed]",
      "text/plain": [
       "<Figure size 576x288 with 2 Axes>"
      ]
     },
     "metadata": {},
     "output_type": "display_data"
    }
   ],
   "source": [
    "cm = mpl.colors.ListedColormap(list('rgbmyc'))\n",
    "\n",
    "# 绘制原始数据分布散点图\n",
    "plt.figure(figsize=(8,4), facecolor='w')  # facecolor 画布背景色\n",
    "plt.subplot(121)\n",
    "plt.scatter(data[:, 0], # 第一个特征作为x轴\n",
    "            data[:, 1], # 第二特征作为y轴\n",
    "            c=y,  # 样本类别作为样本点的颜色\n",
    "            s=30, # 点的大小\n",
    "            cmap=cm, # 给定一个颜色的容器\n",
    "            edgecolors='none')\n",
    "plt.grid(True)\n",
    "plt.xlim((x1_min, x1_max))\n",
    "plt.ylim((x2_min, x2_max))\n",
    "plt.title(u'原始数据')\n",
    "\n",
    "# 聚类模型预测样本类别分布\n",
    "\n",
    "# 计算样本的第一个特征和第二个特征的最小值\n",
    "x1_min, x2_min = np.min(data, axis=0)\n",
    "# 计算样本的第一个特征和第二个特征的最大值\n",
    "x1_max, x2_max = np.max(data, axis=0)\n",
    "# 以上操作是为了确定绘图时坐标轴的数值范围\n",
    "\n",
    "# 将坐标轴的范围进行放大\n",
    "x1_min, x1_max = expandBorder(x1_min, x1_max)\n",
    "x2_min, x2_max = expandBorder(x2_min, x2_max)\n",
    "\n",
    "plt.subplot(122)\n",
    "plt.scatter(data[:, 0],\n",
    "            data[:, 1], \n",
    "            c=y_hat, # 使用预测类别作为样本颜色\n",
    "            s=30, \n",
    "            cmap=cm, \n",
    "            edgecolors='none')\n",
    "plt.xlim((x1_min, x1_max))\n",
    "plt.ylim((x2_min, x2_max))\n",
    "plt.title(u'K-Means算法聚类结果')\n",
    "plt.grid(True)\n",
    "plt.show()"
   ]
  },
  {
   "cell_type": "code",
   "execution_count": 37,
   "metadata": {},
   "outputs": [
    {
     "data": {
      "text/plain": [
       "array([[ 4.25151798,  6.17225772],\n",
       "       [ 1.03745836, -5.26870562],\n",
       "       [-0.66285466, -5.28697222]])"
      ]
     },
     "execution_count": 37,
     "metadata": {},
     "output_type": "execute_result"
    }
   ],
   "source": [
    "data[:3]"
   ]
  },
  {
   "cell_type": "code",
   "execution_count": 38,
   "metadata": {},
   "outputs": [
    {
     "data": {
      "text/plain": [
       "array([-0.66285466, -5.28697222])"
      ]
     },
     "execution_count": 38,
     "metadata": {},
     "output_type": "execute_result"
    }
   ],
   "source": [
    "# 计算每一列的最小值\n",
    "np.min(data[:3],axis=0)"
   ]
  },
  {
   "cell_type": "code",
   "execution_count": 39,
   "metadata": {},
   "outputs": [
    {
     "data": {
      "text/plain": [
       "array([ 4.25151798, -5.26870562, -5.28697222])"
      ]
     },
     "execution_count": 39,
     "metadata": {},
     "output_type": "execute_result"
    }
   ],
   "source": [
    "# 计算每一行的最小值\n",
    "np.min(data[:3],axis=1)"
   ]
  },
  {
   "cell_type": "code",
   "execution_count": null,
   "metadata": {},
   "outputs": [],
   "source": []
  },
  {
   "cell_type": "code",
   "execution_count": 21,
   "metadata": {},
   "outputs": [],
   "source": [
    "# 创建一个颜色容器\n",
    "cm = mpl.colors.ListedColormap(list('rgbmyc'))"
   ]
  },
  {
   "cell_type": "code",
   "execution_count": 31,
   "metadata": {},
   "outputs": [
    {
     "data": {
      "text/plain": [
       "['r', 'g', 'b', 'm', 'y', 'c']"
      ]
     },
     "execution_count": 31,
     "metadata": {},
     "output_type": "execute_result"
    }
   ],
   "source": [
    "cm.colors"
   ]
  },
  {
   "cell_type": "code",
   "execution_count": 32,
   "metadata": {},
   "outputs": [
    {
     "data": {
      "text/plain": [
       "array([1, 2, 2, 1, 3, 3, 2, 0, 2, 0])"
      ]
     },
     "execution_count": 32,
     "metadata": {},
     "output_type": "execute_result"
    }
   ],
   "source": [
    "y[:10]"
   ]
  },
  {
   "cell_type": "code",
   "execution_count": null,
   "metadata": {},
   "outputs": [],
   "source": []
  },
  {
   "cell_type": "code",
   "execution_count": null,
   "metadata": {},
   "outputs": [],
   "source": []
  },
  {
   "cell_type": "code",
   "execution_count": null,
   "metadata": {},
   "outputs": [],
   "source": []
  },
  {
   "cell_type": "code",
   "execution_count": 30,
   "metadata": {},
   "outputs": [
    {
     "data": {
      "text/plain": [
       "<matplotlib.collections.PathCollection at 0x27cda5a1f28>"
      ]
     },
     "execution_count": 30,
     "metadata": {},
     "output_type": "execute_result"
    },
    {
     "data": {
      "image/png": "[encoded data removed]",
      "text/plain": [
       "<Figure size 432x288 with 1 Axes>"
      ]
     },
     "metadata": {
      "needs_background": "light"
     },
     "output_type": "display_data"
    }
   ],
   "source": [
    "plt.scatter([1,2],\n",
    "            [3,6],\n",
    "            s=100,\n",
    "            c=\"c\")"
   ]
  },
  {
   "cell_type": "code",
   "execution_count": null,
   "metadata": {},
   "outputs": [],
   "source": []
  }
 ],
 "metadata": {
  "kernelspec": {
   "display_name": "Python 3",
   "language": "python",
   "name": "python3"
  },
  "language_info": {
   "codemirror_mode": {
    "name": "ipython",
    "version": 3
   },
   "file_extension": ".py",
   "mimetype": "text/x-python",
   "name": "python",
   "nbconvert_exporter": "python",
   "pygments_lexer": "ipython3",
   "version": "3.7.0"
  }
 },
 "nbformat": 4,
 "nbformat_minor": 1
}
