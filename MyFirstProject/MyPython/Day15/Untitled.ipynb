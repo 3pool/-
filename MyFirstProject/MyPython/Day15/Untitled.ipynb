{
 "cells": [
  {
   "cell_type": "code",
   "execution_count": 1,
   "id": "4557cc97",
   "metadata": {},
   "outputs": [],
   "source": [
    "import numpy as np"
   ]
  },
  {
   "cell_type": "code",
   "execution_count": 9,
   "id": "39b2346f",
   "metadata": {},
   "outputs": [],
   "source": [
    "close = np.loadtxt('data.csv',delimiter=',',skiprows=1,usecols=6)"
   ]
  },
  {
   "cell_type": "code",
   "execution_count": 10,
   "id": "83e75530",
   "metadata": {},
   "outputs": [
    {
     "data": {
      "text/plain": [
       "array([336.1 , 339.32, 345.03, 344.32, 343.44, 346.5 , 351.88, 355.2 ,\n",
       "       358.16, 354.54, 356.85, 359.18, 359.9 , 363.13, 358.3 , 350.56,\n",
       "       338.61, 342.62, 342.88, 348.16, 353.21, 349.31, 352.12, 359.56,\n",
       "       360.  , 355.36, 355.76, 352.47, 346.67, 351.99])"
      ]
     },
     "execution_count": 10,
     "metadata": {},
     "output_type": "execute_result"
    }
   ],
   "source": [
    "close"
   ]
  },
  {
   "cell_type": "code",
   "execution_count": 11,
   "id": "863f55fb",
   "metadata": {},
   "outputs": [],
   "source": [
    "diff_close = np.diff(close)"
   ]
  },
  {
   "cell_type": "code",
   "execution_count": 12,
   "id": "23f0d059",
   "metadata": {},
   "outputs": [
    {
     "data": {
      "text/plain": [
       "array([  3.22,   5.71,  -0.71,  -0.88,   3.06,   5.38,   3.32,   2.96,\n",
       "        -3.62,   2.31,   2.33,   0.72,   3.23,  -4.83,  -7.74, -11.95,\n",
       "         4.01,   0.26,   5.28,   5.05,  -3.9 ,   2.81,   7.44,   0.44,\n",
       "        -4.64,   0.4 ,  -3.29,  -5.8 ,   5.32])"
      ]
     },
     "execution_count": 12,
     "metadata": {},
     "output_type": "execute_result"
    }
   ],
   "source": [
    "diff_close"
   ]
  },
  {
   "cell_type": "code",
   "execution_count": 13,
   "id": "750c2b8a",
   "metadata": {},
   "outputs": [],
   "source": [
    "returns = diff_close/close[:-1]"
   ]
  },
  {
   "cell_type": "code",
   "execution_count": 14,
   "id": "af12d32a",
   "metadata": {},
   "outputs": [
    {
     "data": {
      "text/plain": [
       "array([ 0.00958048,  0.01682777, -0.00205779, -0.00255576,  0.00890985,\n",
       "        0.0155267 ,  0.00943503,  0.00833333, -0.01010721,  0.00651548,\n",
       "        0.00652935,  0.00200457,  0.00897472, -0.01330102, -0.02160201,\n",
       "       -0.03408832,  0.01184253,  0.00075886,  0.01539897,  0.01450483,\n",
       "       -0.01104159,  0.00804443,  0.02112916,  0.00122372, -0.01288889,\n",
       "        0.00112562, -0.00924781, -0.0164553 ,  0.01534601])"
      ]
     },
     "execution_count": 14,
     "metadata": {},
     "output_type": "execute_result"
    }
   ],
   "source": [
    "returns"
   ]
  },
  {
   "cell_type": "code",
   "execution_count": 15,
   "id": "3511475a",
   "metadata": {},
   "outputs": [],
   "source": [
    "p_returns = returns.compress(returns>0)"
   ]
  },
  {
   "cell_type": "code",
   "execution_count": 16,
   "id": "b2954024",
   "metadata": {},
   "outputs": [
    {
     "data": {
      "text/plain": [
       "array([0.00958048, 0.01682777, 0.00890985, 0.0155267 , 0.00943503,\n",
       "       0.00833333, 0.00651548, 0.00652935, 0.00200457, 0.00897472,\n",
       "       0.01184253, 0.00075886, 0.01539897, 0.01450483, 0.00804443,\n",
       "       0.02112916, 0.00122372, 0.00112562, 0.01534601])"
      ]
     },
     "execution_count": 16,
     "metadata": {},
     "output_type": "execute_result"
    }
   ],
   "source": [
    "p_returns"
   ]
  },
  {
   "cell_type": "code",
   "execution_count": 17,
   "id": "bd738461",
   "metadata": {},
   "outputs": [
    {
     "data": {
      "text/plain": [
       "(array([ 0,  1,  4,  5,  6,  7,  9, 10, 11, 12, 16, 17, 18, 19, 21, 22, 23,\n",
       "        25, 28], dtype=int64),)"
      ]
     },
     "execution_count": 17,
     "metadata": {},
     "output_type": "execute_result"
    }
   ],
   "source": [
    "p_index = np.where(returns>0)\n",
    "p_index"
   ]
  },
  {
   "cell_type": "code",
   "execution_count": 18,
   "id": "03b3792f",
   "metadata": {},
   "outputs": [],
   "source": [
    "p2 = returns[p_index]"
   ]
  },
  {
   "cell_type": "code",
   "execution_count": 19,
   "id": "9439b3d8",
   "metadata": {},
   "outputs": [
    {
     "data": {
      "text/plain": [
       "array([0.00958048, 0.01682777, 0.00890985, 0.0155267 , 0.00943503,\n",
       "       0.00833333, 0.00651548, 0.00652935, 0.00200457, 0.00897472,\n",
       "       0.01184253, 0.00075886, 0.01539897, 0.01450483, 0.00804443,\n",
       "       0.02112916, 0.00122372, 0.00112562, 0.01534601])"
      ]
     },
     "execution_count": 19,
     "metadata": {},
     "output_type": "execute_result"
    }
   ],
   "source": [
    "p2"
   ]
  },
  {
   "cell_type": "code",
   "execution_count": 20,
   "id": "f7352e0e",
   "metadata": {},
   "outputs": [],
   "source": [
    "p3 = returns[returns>0]"
   ]
  },
  {
   "cell_type": "code",
   "execution_count": 21,
   "id": "eca38ef8",
   "metadata": {},
   "outputs": [
    {
     "data": {
      "text/plain": [
       "array([0.00958048, 0.01682777, 0.00890985, 0.0155267 , 0.00943503,\n",
       "       0.00833333, 0.00651548, 0.00652935, 0.00200457, 0.00897472,\n",
       "       0.01184253, 0.00075886, 0.01539897, 0.01450483, 0.00804443,\n",
       "       0.02112916, 0.00122372, 0.00112562, 0.01534601])"
      ]
     },
     "execution_count": 21,
     "metadata": {},
     "output_type": "execute_result"
    }
   ],
   "source": [
    "p3"
   ]
  },
  {
   "cell_type": "code",
   "execution_count": 23,
   "id": "f49739c5",
   "metadata": {},
   "outputs": [
    {
     "data": {
      "text/plain": [
       "array([ 0.00953488,  0.01668775, -0.00205991, -0.00255903,  0.00887039,\n",
       "        0.01540739,  0.0093908 ,  0.0082988 , -0.01015864,  0.00649435,\n",
       "        0.00650813,  0.00200256,  0.00893468, -0.01339027, -0.02183875,\n",
       "       -0.03468287,  0.01177296,  0.00075857,  0.01528161,  0.01440064,\n",
       "       -0.011103  ,  0.00801225,  0.02090904,  0.00122297, -0.01297267,\n",
       "        0.00112499, -0.00929083, -0.01659219,  0.01522945])"
      ]
     },
     "execution_count": 23,
     "metadata": {},
     "output_type": "execute_result"
    }
   ],
   "source": [
    "log_returns = np.diff(np.log(close))\n",
    "log_returns"
   ]
  },
  {
   "cell_type": "code",
   "execution_count": 24,
   "id": "a76c0222",
   "metadata": {},
   "outputs": [
    {
     "data": {
      "text/plain": [
       "8.14354630702448"
      ]
     },
     "execution_count": 24,
     "metadata": {},
     "output_type": "execute_result"
    }
   ],
   "source": [
    "volatility = np.std(log_returns)/np.mean(log_returns)\n",
    "volatility"
   ]
  },
  {
   "cell_type": "code",
   "execution_count": 25,
   "id": "21c22f09",
   "metadata": {},
   "outputs": [],
   "source": [
    "y_volatility = volatility/np.sqrt(1/252)\n",
    "m_volatility = volatility/np.sqrt(1/12)"
   ]
  },
  {
   "cell_type": "code",
   "execution_count": 26,
   "id": "ae3e36e8",
   "metadata": {},
   "outputs": [
    {
     "data": {
      "text/plain": [
       "129.27478991115132"
      ]
     },
     "execution_count": 26,
     "metadata": {},
     "output_type": "execute_result"
    }
   ],
   "source": [
    "y_volatility"
   ]
  },
  {
   "cell_type": "code",
   "execution_count": 27,
   "id": "f03aac53",
   "metadata": {},
   "outputs": [
    {
     "data": {
      "text/plain": [
       "28.210071915112596"
      ]
     },
     "execution_count": 27,
     "metadata": {},
     "output_type": "execute_result"
    }
   ],
   "source": [
    "m_volatility"
   ]
  },
  {
   "cell_type": "code",
   "execution_count": 28,
   "id": "b727f363",
   "metadata": {},
   "outputs": [],
   "source": [
    "from datetime import datetime\n",
    "import time"
   ]
  },
  {
   "cell_type": "code",
   "execution_count": 29,
   "id": "5d8c3da8",
   "metadata": {},
   "outputs": [
    {
     "data": {
      "text/plain": [
       "datetime.datetime(2021, 7, 31, 0, 0)"
      ]
     },
     "execution_count": 29,
     "metadata": {},
     "output_type": "execute_result"
    }
   ],
   "source": [
    "date1 = datetime.strptime('2021-07-31','%Y-%m-%d')\n",
    "date1"
   ]
  },
  {
   "cell_type": "code",
   "execution_count": 30,
   "id": "4ca15e79",
   "metadata": {},
   "outputs": [
    {
     "data": {
      "text/plain": [
       "datetime.date(2021, 7, 31)"
      ]
     },
     "execution_count": 30,
     "metadata": {},
     "output_type": "execute_result"
    }
   ],
   "source": [
    "date1.date()"
   ]
  },
  {
   "cell_type": "code",
   "execution_count": 35,
   "id": "2be44ba5",
   "metadata": {},
   "outputs": [
    {
     "data": {
      "text/plain": [
       "5"
      ]
     },
     "execution_count": 35,
     "metadata": {},
     "output_type": "execute_result"
    }
   ],
   "source": [
    "date1.date().weekday()"
   ]
  },
  {
   "cell_type": "code",
   "execution_count": 34,
   "id": "444f4323",
   "metadata": {},
   "outputs": [
    {
     "data": {
      "text/plain": [
       "6"
      ]
     },
     "execution_count": 34,
     "metadata": {},
     "output_type": "execute_result"
    }
   ],
   "source": [
    "date1.date().isoweekday()"
   ]
  },
  {
   "cell_type": "code",
   "execution_count": 36,
   "id": "01b46fc9",
   "metadata": {},
   "outputs": [],
   "source": [
    "sDate = np.loadtxt('data.csv',delimiter=',',skiprows=1,usecols=1,dtype=str)"
   ]
  },
  {
   "cell_type": "code",
   "execution_count": 37,
   "id": "3956390a",
   "metadata": {},
   "outputs": [
    {
     "data": {
      "text/plain": [
       "array(['28-01-2011', '31-01-2011', '01-02-2011', '02-02-2011',\n",
       "       '03-02-2011', '04-02-2011', '07-02-2011', '08-02-2011',\n",
       "       '09-02-2011', '10-02-2011', '11-02-2011', '14-02-2011',\n",
       "       '15-02-2011', '16-02-2011', '17-02-2011', '18-02-2011',\n",
       "       '22-02-2011', '23-02-2011', '24-02-2011', '25-02-2011',\n",
       "       '28-02-2011', '01-03-2011', '02-03-2011', '03-03-2011',\n",
       "       '04-03-2011', '07-03-2011', '08-03-2011', '09-03-2011',\n",
       "       '10-03-2011', '11-03-2011'], dtype='<U10')"
      ]
     },
     "execution_count": 37,
     "metadata": {},
     "output_type": "execute_result"
    }
   ],
   "source": [
    "sDate"
   ]
  },
  {
   "cell_type": "code",
   "execution_count": 38,
   "id": "b494ec27",
   "metadata": {},
   "outputs": [],
   "source": [
    "def str2weekday(DataStr):\n",
    "    return datetime.strptime(DataStr,'%d-%m-%Y').date().isoweekday()"
   ]
  },
  {
   "cell_type": "code",
   "execution_count": 39,
   "id": "5f01b0f6",
   "metadata": {},
   "outputs": [],
   "source": [
    "listweekday = []"
   ]
  },
  {
   "cell_type": "code",
   "execution_count": 40,
   "id": "8f09e2be",
   "metadata": {},
   "outputs": [],
   "source": [
    "for item in sDate:\n",
    "    listweekday.append(str2weekday(item))"
   ]
  },
  {
   "cell_type": "code",
   "execution_count": null,
   "id": "5a72f972",
   "metadata": {},
   "outputs": [],
   "source": [
    "listweekday"
   ]
  },
  {
   "cell_type": "code",
   "execution_count": 42,
   "id": "3291c06e",
   "metadata": {},
   "outputs": [],
   "source": [
    "weekday1 = np.array(listweekday)"
   ]
  },
  {
   "cell_type": "code",
   "execution_count": 43,
   "id": "f299fac9",
   "metadata": {},
   "outputs": [
    {
     "data": {
      "text/plain": [
       "array([5, 1, 2, 3, 4, 5, 1, 2, 3, 4, 5, 1, 2, 3, 4, 5, 2, 3, 4, 5, 1, 2,\n",
       "       3, 4, 5, 1, 2, 3, 4, 5])"
      ]
     },
     "execution_count": 43,
     "metadata": {},
     "output_type": "execute_result"
    }
   ],
   "source": [
    "weekday1"
   ]
  },
  {
   "cell_type": "code",
   "execution_count": 50,
   "id": "d71f3b7e",
   "metadata": {},
   "outputs": [
    {
     "data": {
      "text/plain": [
       "array([1, 1, 1, 1, 1])"
      ]
     },
     "execution_count": 50,
     "metadata": {},
     "output_type": "execute_result"
    }
   ],
   "source": [
    "monday = weekday1[weekday1==1]\n",
    "monday"
   ]
  },
  {
   "cell_type": "code",
   "execution_count": 51,
   "id": "ef9954a9",
   "metadata": {},
   "outputs": [
    {
     "ename": "TypeError",
     "evalue": "strptime() argument 1 must be str, not bytes",
     "output_type": "error",
     "traceback": [
      "\u001b[1;31m---------------------------------------------------------------------------\u001b[0m",
      "\u001b[1;31mTypeError\u001b[0m                                 Traceback (most recent call last)",
      "\u001b[1;32m<ipython-input-51-222622d7a03e>\u001b[0m in \u001b[0;36m<module>\u001b[1;34m\u001b[0m\n\u001b[1;32m----> 1\u001b[1;33m \u001b[0mweekday3\u001b[0m\u001b[1;33m,\u001b[0m\u001b[0mclose3\u001b[0m \u001b[1;33m=\u001b[0m \u001b[0mnp\u001b[0m\u001b[1;33m.\u001b[0m\u001b[0mloadtxt\u001b[0m\u001b[1;33m(\u001b[0m\u001b[1;34m'data.csv'\u001b[0m\u001b[1;33m,\u001b[0m\u001b[0mdelimiter\u001b[0m\u001b[1;33m=\u001b[0m\u001b[1;34m','\u001b[0m\u001b[1;33m,\u001b[0m\u001b[0mskiprows\u001b[0m\u001b[1;33m=\u001b[0m\u001b[1;36m1\u001b[0m\u001b[1;33m,\u001b[0m\u001b[0musecols\u001b[0m\u001b[1;33m=\u001b[0m\u001b[1;33m(\u001b[0m\u001b[1;36m1\u001b[0m\u001b[1;33m,\u001b[0m\u001b[1;36m6\u001b[0m\u001b[1;33m)\u001b[0m\u001b[1;33m,\u001b[0m\u001b[0munpack\u001b[0m\u001b[1;33m=\u001b[0m\u001b[1;32mTrue\u001b[0m\u001b[1;33m,\u001b[0m\u001b[0mconverters\u001b[0m\u001b[1;33m=\u001b[0m\u001b[1;33m{\u001b[0m\u001b[1;36m1\u001b[0m\u001b[1;33m:\u001b[0m\u001b[0mstr2weekday\u001b[0m\u001b[1;33m}\u001b[0m\u001b[1;33m)\u001b[0m\u001b[1;33m\u001b[0m\u001b[1;33m\u001b[0m\u001b[0m\n\u001b[0m",
      "\u001b[1;32m~\\anaconda3\\lib\\site-packages\\numpy\\lib\\npyio.py\u001b[0m in \u001b[0;36mloadtxt\u001b[1;34m(fname, dtype, comments, delimiter, converters, skiprows, usecols, unpack, ndmin, encoding, max_rows, like)\u001b[0m\n\u001b[0;32m   1144\u001b[0m         \u001b[1;31m# converting the data\u001b[0m\u001b[1;33m\u001b[0m\u001b[1;33m\u001b[0m\u001b[1;33m\u001b[0m\u001b[0m\n\u001b[0;32m   1145\u001b[0m         \u001b[0mX\u001b[0m \u001b[1;33m=\u001b[0m \u001b[1;32mNone\u001b[0m\u001b[1;33m\u001b[0m\u001b[1;33m\u001b[0m\u001b[0m\n\u001b[1;32m-> 1146\u001b[1;33m         \u001b[1;32mfor\u001b[0m \u001b[0mx\u001b[0m \u001b[1;32min\u001b[0m \u001b[0mread_data\u001b[0m\u001b[1;33m(\u001b[0m\u001b[0m_loadtxt_chunksize\u001b[0m\u001b[1;33m)\u001b[0m\u001b[1;33m:\u001b[0m\u001b[1;33m\u001b[0m\u001b[1;33m\u001b[0m\u001b[0m\n\u001b[0m\u001b[0;32m   1147\u001b[0m             \u001b[1;32mif\u001b[0m \u001b[0mX\u001b[0m \u001b[1;32mis\u001b[0m \u001b[1;32mNone\u001b[0m\u001b[1;33m:\u001b[0m\u001b[1;33m\u001b[0m\u001b[1;33m\u001b[0m\u001b[0m\n\u001b[0;32m   1148\u001b[0m                 \u001b[0mX\u001b[0m \u001b[1;33m=\u001b[0m \u001b[0mnp\u001b[0m\u001b[1;33m.\u001b[0m\u001b[0marray\u001b[0m\u001b[1;33m(\u001b[0m\u001b[0mx\u001b[0m\u001b[1;33m,\u001b[0m \u001b[0mdtype\u001b[0m\u001b[1;33m)\u001b[0m\u001b[1;33m\u001b[0m\u001b[1;33m\u001b[0m\u001b[0m\n",
      "\u001b[1;32m~\\anaconda3\\lib\\site-packages\\numpy\\lib\\npyio.py\u001b[0m in \u001b[0;36mread_data\u001b[1;34m(chunk_size)\u001b[0m\n\u001b[0;32m    995\u001b[0m \u001b[1;33m\u001b[0m\u001b[0m\n\u001b[0;32m    996\u001b[0m             \u001b[1;31m# Convert each value according to its column and store\u001b[0m\u001b[1;33m\u001b[0m\u001b[1;33m\u001b[0m\u001b[1;33m\u001b[0m\u001b[0m\n\u001b[1;32m--> 997\u001b[1;33m             \u001b[0mitems\u001b[0m \u001b[1;33m=\u001b[0m \u001b[1;33m[\u001b[0m\u001b[0mconv\u001b[0m\u001b[1;33m(\u001b[0m\u001b[0mval\u001b[0m\u001b[1;33m)\u001b[0m \u001b[1;32mfor\u001b[0m \u001b[1;33m(\u001b[0m\u001b[0mconv\u001b[0m\u001b[1;33m,\u001b[0m \u001b[0mval\u001b[0m\u001b[1;33m)\u001b[0m \u001b[1;32min\u001b[0m \u001b[0mzip\u001b[0m\u001b[1;33m(\u001b[0m\u001b[0mconverters\u001b[0m\u001b[1;33m,\u001b[0m \u001b[0mvals\u001b[0m\u001b[1;33m)\u001b[0m\u001b[1;33m]\u001b[0m\u001b[1;33m\u001b[0m\u001b[1;33m\u001b[0m\u001b[0m\n\u001b[0m\u001b[0;32m    998\u001b[0m \u001b[1;33m\u001b[0m\u001b[0m\n\u001b[0;32m    999\u001b[0m             \u001b[1;31m# Then pack it according to the dtype's nesting\u001b[0m\u001b[1;33m\u001b[0m\u001b[1;33m\u001b[0m\u001b[1;33m\u001b[0m\u001b[0m\n",
      "\u001b[1;32m~\\anaconda3\\lib\\site-packages\\numpy\\lib\\npyio.py\u001b[0m in \u001b[0;36m<listcomp>\u001b[1;34m(.0)\u001b[0m\n\u001b[0;32m    995\u001b[0m \u001b[1;33m\u001b[0m\u001b[0m\n\u001b[0;32m    996\u001b[0m             \u001b[1;31m# Convert each value according to its column and store\u001b[0m\u001b[1;33m\u001b[0m\u001b[1;33m\u001b[0m\u001b[1;33m\u001b[0m\u001b[0m\n\u001b[1;32m--> 997\u001b[1;33m             \u001b[0mitems\u001b[0m \u001b[1;33m=\u001b[0m \u001b[1;33m[\u001b[0m\u001b[0mconv\u001b[0m\u001b[1;33m(\u001b[0m\u001b[0mval\u001b[0m\u001b[1;33m)\u001b[0m \u001b[1;32mfor\u001b[0m \u001b[1;33m(\u001b[0m\u001b[0mconv\u001b[0m\u001b[1;33m,\u001b[0m \u001b[0mval\u001b[0m\u001b[1;33m)\u001b[0m \u001b[1;32min\u001b[0m \u001b[0mzip\u001b[0m\u001b[1;33m(\u001b[0m\u001b[0mconverters\u001b[0m\u001b[1;33m,\u001b[0m \u001b[0mvals\u001b[0m\u001b[1;33m)\u001b[0m\u001b[1;33m]\u001b[0m\u001b[1;33m\u001b[0m\u001b[1;33m\u001b[0m\u001b[0m\n\u001b[0m\u001b[0;32m    998\u001b[0m \u001b[1;33m\u001b[0m\u001b[0m\n\u001b[0;32m    999\u001b[0m             \u001b[1;31m# Then pack it according to the dtype's nesting\u001b[0m\u001b[1;33m\u001b[0m\u001b[1;33m\u001b[0m\u001b[1;33m\u001b[0m\u001b[0m\n",
      "\u001b[1;32m~\\anaconda3\\lib\\site-packages\\numpy\\lib\\npyio.py\u001b[0m in \u001b[0;36mtobytes_first\u001b[1;34m(x, conv)\u001b[0m\n\u001b[0;32m   1131\u001b[0m                     \u001b[1;32mif\u001b[0m \u001b[0mtype\u001b[0m\u001b[1;33m(\u001b[0m\u001b[0mx\u001b[0m\u001b[1;33m)\u001b[0m \u001b[1;32mis\u001b[0m \u001b[0mbytes\u001b[0m\u001b[1;33m:\u001b[0m\u001b[1;33m\u001b[0m\u001b[1;33m\u001b[0m\u001b[0m\n\u001b[0;32m   1132\u001b[0m                         \u001b[1;32mreturn\u001b[0m \u001b[0mconv\u001b[0m\u001b[1;33m(\u001b[0m\u001b[0mx\u001b[0m\u001b[1;33m)\u001b[0m\u001b[1;33m\u001b[0m\u001b[1;33m\u001b[0m\u001b[0m\n\u001b[1;32m-> 1133\u001b[1;33m                     \u001b[1;32mreturn\u001b[0m \u001b[0mconv\u001b[0m\u001b[1;33m(\u001b[0m\u001b[0mx\u001b[0m\u001b[1;33m.\u001b[0m\u001b[0mencode\u001b[0m\u001b[1;33m(\u001b[0m\u001b[1;34m\"latin1\"\u001b[0m\u001b[1;33m)\u001b[0m\u001b[1;33m)\u001b[0m\u001b[1;33m\u001b[0m\u001b[1;33m\u001b[0m\u001b[0m\n\u001b[0m\u001b[0;32m   1134\u001b[0m                 \u001b[0mconverters\u001b[0m\u001b[1;33m[\u001b[0m\u001b[0mi\u001b[0m\u001b[1;33m]\u001b[0m \u001b[1;33m=\u001b[0m \u001b[0mfunctools\u001b[0m\u001b[1;33m.\u001b[0m\u001b[0mpartial\u001b[0m\u001b[1;33m(\u001b[0m\u001b[0mtobytes_first\u001b[0m\u001b[1;33m,\u001b[0m \u001b[0mconv\u001b[0m\u001b[1;33m=\u001b[0m\u001b[0mconv\u001b[0m\u001b[1;33m)\u001b[0m\u001b[1;33m\u001b[0m\u001b[1;33m\u001b[0m\u001b[0m\n\u001b[0;32m   1135\u001b[0m             \u001b[1;32melse\u001b[0m\u001b[1;33m:\u001b[0m\u001b[1;33m\u001b[0m\u001b[1;33m\u001b[0m\u001b[0m\n",
      "\u001b[1;32m<ipython-input-38-23c843709847>\u001b[0m in \u001b[0;36mstr2weekday\u001b[1;34m(DataStr)\u001b[0m\n\u001b[0;32m      1\u001b[0m \u001b[1;32mdef\u001b[0m \u001b[0mstr2weekday\u001b[0m\u001b[1;33m(\u001b[0m\u001b[0mDataStr\u001b[0m\u001b[1;33m)\u001b[0m\u001b[1;33m:\u001b[0m\u001b[1;33m\u001b[0m\u001b[1;33m\u001b[0m\u001b[0m\n\u001b[1;32m----> 2\u001b[1;33m     \u001b[1;32mreturn\u001b[0m \u001b[0mdatetime\u001b[0m\u001b[1;33m.\u001b[0m\u001b[0mstrptime\u001b[0m\u001b[1;33m(\u001b[0m\u001b[0mDataStr\u001b[0m\u001b[1;33m,\u001b[0m\u001b[1;34m'%d-%m-%Y'\u001b[0m\u001b[1;33m)\u001b[0m\u001b[1;33m.\u001b[0m\u001b[0mdate\u001b[0m\u001b[1;33m(\u001b[0m\u001b[1;33m)\u001b[0m\u001b[1;33m.\u001b[0m\u001b[0misoweekday\u001b[0m\u001b[1;33m(\u001b[0m\u001b[1;33m)\u001b[0m\u001b[1;33m\u001b[0m\u001b[1;33m\u001b[0m\u001b[0m\n\u001b[0m",
      "\u001b[1;31mTypeError\u001b[0m: strptime() argument 1 must be str, not bytes"
     ]
    }
   ],
   "source": [
    "weekday3,close3 = np.loadtxt('data.csv',delimiter=',',skiprows=1,usecols=(1,6),unpack=True,converters={1:str2weekday})"
   ]
  },
  {
   "cell_type": "code",
   "execution_count": 60,
   "id": "3fb4d59a",
   "metadata": {},
   "outputs": [],
   "source": [
    "def bytes2weekday(DataBytes):\n",
    "    return datetime.strptime(DataBytes.decode('utf-8'),'%d-%m-%Y').date().isoweekday()"
   ]
  },
  {
   "cell_type": "code",
   "execution_count": 61,
   "id": "65917da3",
   "metadata": {},
   "outputs": [],
   "source": [
    "weekday4,close4 = np.loadtxt('data.csv',delimiter=',',skiprows=1,usecols=(1,6),unpack=True,converters={1:bytes2weekday})"
   ]
  },
  {
   "cell_type": "code",
   "execution_count": 62,
   "id": "de1dcd7a",
   "metadata": {},
   "outputs": [
    {
     "data": {
      "text/plain": [
       "array([5., 1., 2., 3., 4., 5., 1., 2., 3., 4., 5., 1., 2., 3., 4., 5., 2.,\n",
       "       3., 4., 5., 1., 2., 3., 4., 5., 1., 2., 3., 4., 5.])"
      ]
     },
     "execution_count": 62,
     "metadata": {},
     "output_type": "execute_result"
    }
   ],
   "source": [
    "weekday4"
   ]
  },
  {
   "cell_type": "code",
   "execution_count": 63,
   "id": "8ffd4eec",
   "metadata": {},
   "outputs": [
    {
     "data": {
      "text/plain": [
       "array([336.1 , 339.32, 345.03, 344.32, 343.44, 346.5 , 351.88, 355.2 ,\n",
       "       358.16, 354.54, 356.85, 359.18, 359.9 , 363.13, 358.3 , 350.56,\n",
       "       338.61, 342.62, 342.88, 348.16, 353.21, 349.31, 352.12, 359.56,\n",
       "       360.  , 355.36, 355.76, 352.47, 346.67, 351.99])"
      ]
     },
     "execution_count": 63,
     "metadata": {},
     "output_type": "execute_result"
    }
   ],
   "source": [
    "close4"
   ]
  },
  {
   "cell_type": "code",
   "execution_count": 73,
   "id": "88d9c2c2",
   "metadata": {},
   "outputs": [
    {
     "data": {
      "text/plain": [
       "array([0., 0., 0., 0., 0.])"
      ]
     },
     "execution_count": 73,
     "metadata": {},
     "output_type": "execute_result"
    }
   ],
   "source": [
    "avgs = np.zeros(5)\n",
    "avgs"
   ]
  },
  {
   "cell_type": "code",
   "execution_count": 74,
   "id": "e672e65b",
   "metadata": {
    "scrolled": false
   },
   "outputs": [
    {
     "name": "stdout",
     "output_type": "stream",
     "text": [
      "周1对应的索引是： (array([ 1,  6, 11, 20, 25], dtype=int64),)\n",
      "周1对应的收盘价是： [[339.32 351.88 359.18 353.21 355.36]]\n",
      "周1对应的收盘价均价是： 351.7900000000001\n",
      "周2对应的索引是： (array([ 2,  7, 12, 16, 21, 26], dtype=int64),)\n",
      "周2对应的收盘价是： [[345.03 355.2  359.9  338.61 349.31 355.76]]\n",
      "周2对应的收盘价均价是： 350.63500000000005\n",
      "周3对应的索引是： (array([ 3,  8, 13, 17, 22, 27], dtype=int64),)\n",
      "周3对应的收盘价是： [[344.32 358.16 363.13 342.62 352.12 352.47]]\n",
      "周3对应的收盘价均价是： 352.1366666666666\n",
      "周4对应的索引是： (array([ 4,  9, 14, 18, 23, 28], dtype=int64),)\n",
      "周4对应的收盘价是： [[343.44 354.54 358.3  342.88 359.56 346.67]]\n",
      "周4对应的收盘价均价是： 350.8983333333333\n",
      "周5对应的索引是： (array([ 0,  5, 10, 15, 19, 24, 29], dtype=int64),)\n",
      "周5对应的收盘价是： [[336.1  346.5  356.85 350.56 348.16 360.   351.99]]\n",
      "周5对应的收盘价均价是： 350.0228571428571\n"
     ]
    }
   ],
   "source": [
    "for i in range(1,6):\n",
    "    # 遍历周一到周五\n",
    "    w_index = np.where(weekday4 == i)\n",
    "    # 找到周一到周五每天对应的索引\n",
    "    print('周%d对应的索引是：'%i,w_index)\n",
    "#     w_close = Close4[w_index]\n",
    "    # 获取周一到周五对应的收盘价，用条件索引\n",
    "    w_close = np.take(close4,w_index)\n",
    "    # take是从数组中按照索引提取值，返回新的数组\n",
    "    print('周%d对应的收盘价是：'%i,w_close)\n",
    "    avg = np.mean(w_close)\n",
    "    # 针对周几的收盘价计算均值\n",
    "    print('周%d对应的收盘价均价是：'%i,avg)\n",
    "    avgs[i-1] = avg\n",
    "    # 将计算出的周一到周五的收盘价均价写入avgs数组"
   ]
  },
  {
   "cell_type": "code",
   "execution_count": null,
   "id": "5ac18948",
   "metadata": {},
   "outputs": [],
   "source": []
  }
 ],
 "metadata": {
  "kernelspec": {
   "display_name": "Python 3",
   "language": "python",
   "name": "python3"
  },
  "language_info": {
   "codemirror_mode": {
    "name": "ipython",
    "version": 3
   },
   "file_extension": ".py",
   "mimetype": "text/x-python",
   "name": "python",
   "nbconvert_exporter": "python",
   "pygments_lexer": "ipython3",
   "version": "3.8.8"
  }
 },
 "nbformat": 4,
 "nbformat_minor": 5
}
