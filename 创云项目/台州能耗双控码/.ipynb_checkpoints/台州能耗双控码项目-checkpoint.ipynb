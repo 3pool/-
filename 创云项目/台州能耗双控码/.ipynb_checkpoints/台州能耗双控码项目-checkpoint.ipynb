{
 "cells": [
  {
   "cell_type": "code",
   "execution_count": 25,
   "id": "34d38908",
   "metadata": {},
   "outputs": [],
   "source": [
    "import numpy as np\n",
    "import pandas as pd\n",
    "from pandas import Series,DataFrame\n",
    "import matplotlib.pyplot as plt"
   ]
  },
  {
   "cell_type": "code",
   "execution_count": 26,
   "id": "14af4831",
   "metadata": {},
   "outputs": [],
   "source": [
    "ecdc = pd.read_excel('./测试数据.xlsx')"
   ]
  },
  {
   "cell_type": "code",
   "execution_count": 27,
   "id": "dd010527",
   "metadata": {},
   "outputs": [],
   "source": [
    "ecdc['亩均电耗'] = ecdc['2020用电量（万千瓦时）']/ecdc['实际用地面积（亩）']"
   ]
  },
  {
   "cell_type": "code",
   "execution_count": 28,
   "id": "5e41586f",
   "metadata": {},
   "outputs": [],
   "source": [
    "ecdc['单位税收电耗'] = ecdc['2020用电量（万千瓦时）']/ecdc['2020税收（万元）']"
   ]
  },
  {
   "cell_type": "code",
   "execution_count": 29,
   "id": "ab3ff832",
   "metadata": {},
   "outputs": [],
   "source": [
    "ecdc['单位产值电耗'] = ecdc['2020用电量（万千瓦时）']/ecdc['2020工业总产值(万元)']"
   ]
  },
  {
   "cell_type": "code",
   "execution_count": 30,
   "id": "3206a69c",
   "metadata": {},
   "outputs": [],
   "source": [
    "ecdc['单位工业增加值电耗'] = ecdc['2020用电量（万千瓦时）']/ecdc['2020工业增加值（万元）']"
   ]
  },
  {
   "cell_type": "code",
   "execution_count": 31,
   "id": "9758ab1f",
   "metadata": {},
   "outputs": [],
   "source": [
    "ecdc['用电量得分'] = 100-(ecdc['2020用电量（万千瓦时）']-ecdc['2020用电量（万千瓦时）'].mean())/ecdc['2020用电量（万千瓦时）'].mean()*100\n",
    "ecdc.loc[ecdc['用电量得分']<0,'用电量得分']=0\n",
    "ecdc.loc[ecdc['用电量得分']>200,'用电量得分']=200"
   ]
  },
  {
   "cell_type": "code",
   "execution_count": 32,
   "id": "73789615",
   "metadata": {},
   "outputs": [],
   "source": [
    "ecdc['亩均电耗得分'] = 100-(ecdc['亩均电耗']-ecdc['亩均电耗'].mean())/ecdc['亩均电耗'].mean()*100\n",
    "ecdc.loc[ecdc['亩均电耗得分']<0,'亩均电耗得分']=0\n",
    "ecdc.loc[ecdc['亩均电耗得分']>200,'亩均电耗得分']=200"
   ]
  },
  {
   "cell_type": "code",
   "execution_count": 33,
   "id": "c17b5b72",
   "metadata": {},
   "outputs": [],
   "source": [
    "ecdc['单位税收电耗得分'] = 100-(ecdc['单位税收电耗']-ecdc['单位税收电耗'].mean())/ecdc['单位税收电耗'].mean()*100\n",
    "ecdc.loc[ecdc['单位税收电耗得分']<0,'单位税收电耗得分']=0\n",
    "ecdc.loc[ecdc['单位税收电耗得分']>200,'单位税收电耗得分']=200"
   ]
  },
  {
   "cell_type": "code",
   "execution_count": 34,
   "id": "c6c062b5",
   "metadata": {},
   "outputs": [],
   "source": [
    "ecdc['单位产值电耗得分'] = 100-(ecdc['单位产值电耗']-ecdc['单位产值电耗'].mean())/ecdc['单位产值电耗'].mean()*100\n",
    "ecdc.loc[ecdc['单位产值电耗得分']<0,'单位产值电耗得分']=0\n",
    "ecdc.loc[ecdc['单位产值电耗得分']>200,'单位产值电耗得分']=200"
   ]
  },
  {
   "cell_type": "code",
   "execution_count": 35,
   "id": "f55a67b6",
   "metadata": {},
   "outputs": [],
   "source": [
    "ecdc['单位工业增加值电耗得分'] = 100-(ecdc['单位工业增加值电耗']-ecdc['单位工业增加值电耗'].mean())/ecdc['单位工业增加值电耗'].mean()*100\n",
    "ecdc.loc[ecdc['单位工业增加值电耗得分']<0,'单位工业增加值电耗得分']=0\n",
    "ecdc.loc[ecdc['单位工业增加值电耗得分']>200,'单位工业增加值电耗得分']=200"
   ]
  },
  {
   "cell_type": "code",
   "execution_count": 36,
   "id": "a165eb34",
   "metadata": {
    "scrolled": false
   },
   "outputs": [],
   "source": [
    "ecdc['总得分'] = ecdc['亩均电耗得分']*0.25+ecdc['单位税收电耗得分']*0.25+ecdc['单位产值电耗得分']*0.25+ecdc['单位工业增加值电耗得分']*0.25"
   ]
  },
  {
   "cell_type": "code",
   "execution_count": 37,
   "id": "77ef2b7c",
   "metadata": {},
   "outputs": [],
   "source": [
    "ecdc['双控码'] = pd.qcut(ecdc['总得分'],[0,0.1,0.4,1],labels=['红码','黄码','绿码'])"
   ]
  },
  {
   "cell_type": "code",
   "execution_count": 38,
   "id": "419651b6",
   "metadata": {},
   "outputs": [],
   "source": [
    "ecdc[['企业名称','实际用地面积（亩）','2020工业总产值(万元)','2020税收（万元）','2020工业总产值(万元)','2020用电量（万千瓦时）','亩均电耗','单位产值电耗','单位税收电耗','单位工业增加值电耗','用电量得分','亩均电耗得分','单位产值电耗得分','单位税收电耗得分','单位工业增加值电耗得分','双控码']].to_excel('./计算结果.xlsx')"
   ]
  }
 ],
 "metadata": {
  "kernelspec": {
   "display_name": "Python 3",
   "language": "python",
   "name": "python3"
  },
  "language_info": {
   "codemirror_mode": {
    "name": "ipython",
    "version": 3
   },
   "file_extension": ".py",
   "mimetype": "text/x-python",
   "name": "python",
   "nbconvert_exporter": "python",
   "pygments_lexer": "ipython3",
   "version": "3.8.8"
  }
 },
 "nbformat": 4,
 "nbformat_minor": 5
}
