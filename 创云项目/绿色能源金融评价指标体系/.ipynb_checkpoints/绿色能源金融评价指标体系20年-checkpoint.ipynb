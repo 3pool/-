{
 "cells": [
  {
   "cell_type": "code",
   "execution_count": 1012,
   "id": "65e5e72d",
   "metadata": {},
   "outputs": [],
   "source": [
    "import numpy as np\n",
    "import pandas as pd\n",
    "from pandas import Series,DataFrame\n",
    "import matplotlib.pyplot as plt"
   ]
  },
  {
   "cell_type": "markdown",
   "id": "8495f78a",
   "metadata": {},
   "source": [
    "#### 关闭异常警告"
   ]
  },
  {
   "cell_type": "code",
   "execution_count": 1013,
   "id": "e46f8382",
   "metadata": {},
   "outputs": [],
   "source": [
    "pd.set_option('mode.chained_assignment', None)"
   ]
  },
  {
   "cell_type": "markdown",
   "id": "70e2fc1c",
   "metadata": {},
   "source": [
    "##### 原始数据导入"
   ]
  },
  {
   "cell_type": "code",
   "execution_count": 1014,
   "id": "ca8ca315",
   "metadata": {},
   "outputs": [],
   "source": [
    "g_finance = pd.read_excel('./2020年原始数据.xlsx')"
   ]
  },
  {
   "cell_type": "markdown",
   "id": "62e91929",
   "metadata": {},
   "source": [
    "## 一、关键指标计算\n",
    "### 2\n",
    "##### 2.5计算20年企业单位营业收入能耗"
   ]
  },
  {
   "cell_type": "code",
   "execution_count": 1015,
   "id": "dfef9126",
   "metadata": {},
   "outputs": [],
   "source": [
    "g_finance.drop(g_finance[g_finance['rdl_202012']==0].index,inplace=True)"
   ]
  },
  {
   "cell_type": "code",
   "execution_count": 1016,
   "id": "0343ba0c",
   "metadata": {
    "scrolled": false
   },
   "outputs": [],
   "source": [
    "g_finance['企业单位营业收入能耗'] = g_finance['2020电量']/g_finance['20营业总收入（万元）']"
   ]
  },
  {
   "cell_type": "code",
   "execution_count": 1017,
   "id": "88676582",
   "metadata": {},
   "outputs": [],
   "source": [
    "def cal_ube(rdl):\n",
    "    result = round(g_finance[rdl]/(g_finance['20营业总收入（万元）']/12),2)\n",
    "    return result"
   ]
  },
  {
   "cell_type": "code",
   "execution_count": 1018,
   "id": "8b998b2f",
   "metadata": {},
   "outputs": [],
   "source": [
    "g_finance['企业单位营业收入能耗'] = cal_ube('rdl_202012')"
   ]
  },
  {
   "cell_type": "markdown",
   "id": "232fc831",
   "metadata": {},
   "source": [
    "##### 2.6计算20年企业单位税收能耗"
   ]
  },
  {
   "cell_type": "code",
   "execution_count": 1019,
   "id": "9317abdb",
   "metadata": {},
   "outputs": [],
   "source": [
    "g_finance['企业单位税收能耗'] = g_finance['2020电量']/g_finance['20税收总额（万元）']"
   ]
  },
  {
   "cell_type": "code",
   "execution_count": 1020,
   "id": "f3ae193e",
   "metadata": {},
   "outputs": [],
   "source": [
    "def cal_ute(rdl):\n",
    "    result = round(g_finance[rdl]/(g_finance['20税收总额（万元）']/12),2)\n",
    "    return result"
   ]
  },
  {
   "cell_type": "code",
   "execution_count": 1021,
   "id": "8a3d7ce2",
   "metadata": {},
   "outputs": [],
   "source": [
    "g_finance['企业单位税收能耗'] = cal_ute('rdl_202012')"
   ]
  },
  {
   "cell_type": "markdown",
   "id": "4b7c8f1e",
   "metadata": {},
   "source": [
    "##### 2.7计算20年企业单位利润能耗"
   ]
  },
  {
   "cell_type": "code",
   "execution_count": 1022,
   "id": "6484bb80",
   "metadata": {},
   "outputs": [],
   "source": [
    "g_finance['企业单位利润能耗'] = g_finance['2020电量']/g_finance['20利润总额（万元）']"
   ]
  },
  {
   "cell_type": "code",
   "execution_count": 1023,
   "id": "92273fff",
   "metadata": {},
   "outputs": [],
   "source": [
    "def cal_upe(rdl):\n",
    "    result = round(g_finance[rdl]/(g_finance['20利润总额（万元）']/12),2)\n",
    "    return result"
   ]
  },
  {
   "cell_type": "code",
   "execution_count": 1024,
   "id": "8685875f",
   "metadata": {},
   "outputs": [],
   "source": [
    "g_finance['企业单位利润能耗'] = cal_upe('rdl_202012')"
   ]
  },
  {
   "cell_type": "markdown",
   "id": "700536d6",
   "metadata": {},
   "source": [
    "##### 2.8\n",
    "##### 先根据行业进行分组"
   ]
  },
  {
   "cell_type": "code",
   "execution_count": 1025,
   "id": "46593237",
   "metadata": {},
   "outputs": [],
   "source": [
    "trade = g_finance.groupby('制造业大类分类')"
   ]
  },
  {
   "cell_type": "markdown",
   "id": "bd6f25ac",
   "metadata": {},
   "source": [
    "##### 计算20年每个行业对应的单位税收能耗"
   ]
  },
  {
   "cell_type": "code",
   "execution_count": 1026,
   "id": "509e7fb3",
   "metadata": {},
   "outputs": [],
   "source": [
    "g_trade = trade['2020电量'].sum()/trade['20税收总额（万元）'].sum()"
   ]
  },
  {
   "cell_type": "markdown",
   "id": "77614454",
   "metadata": {},
   "source": [
    "##### 计算20年企业单位税收能耗在其所在行业所处的等级"
   ]
  },
  {
   "cell_type": "code",
   "execution_count": 1027,
   "id": "8e7c0a61",
   "metadata": {},
   "outputs": [],
   "source": [
    "g_finance['企业单位税收能耗等级'] = g_finance['企业单位税收能耗'].values/g_trade[g_finance['制造业大类分类']].values"
   ]
  },
  {
   "cell_type": "markdown",
   "id": "e24e90bf",
   "metadata": {},
   "source": [
    "##### 计算20年每个月企业单位税收能耗在其所在行业所处的等级"
   ]
  },
  {
   "cell_type": "code",
   "execution_count": 1028,
   "id": "6c0c1944",
   "metadata": {},
   "outputs": [],
   "source": [
    "def cal_ute_level(rdl):\n",
    "    m_trade = trade[rdl].sum()/(trade['20税收总额（万元）'].sum()/12)\n",
    "    result = round((g_finance[rdl]/(g_finance['20税收总额（万元）']/12).values)/m_trade[g_finance['制造业大类分类']].values,2)\n",
    "    return result"
   ]
  },
  {
   "cell_type": "code",
   "execution_count": 1029,
   "id": "113303ec",
   "metadata": {},
   "outputs": [],
   "source": [
    "g_finance['企业单位税收能耗等级'] = cal_ute_level('rdl_202012')"
   ]
  },
  {
   "cell_type": "markdown",
   "id": "0f76db4d",
   "metadata": {},
   "source": [
    "### 3\n",
    "##### 用于计算企业单位税收能耗的同比数据的函数，参数tyd代表当月的能耗值，lyd代表上一年度同月份的能耗值\n",
    "##### 该函数用于计算2020年与2019年的同比数据，如果需要修改年份，需调整函数内容"
   ]
  },
  {
   "cell_type": "code",
   "execution_count": 1030,
   "id": "dc73c44c",
   "metadata": {},
   "outputs": [],
   "source": [
    "def cal_ute_yoy(tyd,lyd):\n",
    "    result = (g_finance[tyd]/(g_finance['20税收总额（万元）']/12)-g_finance[lyd]/(g_finance['19税收总额（万元）']/12))/(g_finance[lyd]/(g_finance['19税收总额（万元）']/12))\n",
    "    return result"
   ]
  },
  {
   "cell_type": "markdown",
   "id": "789d4f32",
   "metadata": {},
   "source": [
    "##### 计算2020年1-12月份每个月的企业单位税收能耗同比增长率"
   ]
  },
  {
   "cell_type": "code",
   "execution_count": 1031,
   "id": "52ca9023",
   "metadata": {},
   "outputs": [],
   "source": [
    "g_finance['ute_yoy_202001'] = cal_ute_yoy('rdl_202001','rdl_201901')\n",
    "g_finance['ute_yoy_202002'] = cal_ute_yoy('rdl_202002','rdl_201902')\n",
    "g_finance['ute_yoy_202003'] = cal_ute_yoy('rdl_202003','rdl_201903')\n",
    "g_finance['ute_yoy_202004'] = cal_ute_yoy('rdl_202004','rdl_201904')\n",
    "g_finance['ute_yoy_202005'] = cal_ute_yoy('rdl_202005','rdl_201905')\n",
    "g_finance['ute_yoy_202006'] = cal_ute_yoy('rdl_202006','rdl_201906')\n",
    "g_finance['ute_yoy_202007'] = cal_ute_yoy('rdl_202007','rdl_201907')\n",
    "g_finance['ute_yoy_202008'] = cal_ute_yoy('rdl_202008','rdl_201908')\n",
    "g_finance['ute_yoy_202009'] = cal_ute_yoy('rdl_202009','rdl_201909')\n",
    "g_finance['ute_yoy_202010'] = cal_ute_yoy('rdl_202010','rdl_201910')\n",
    "g_finance['ute_yoy_202011'] = cal_ute_yoy('rdl_202011','rdl_201911')\n",
    "g_finance['ute_yoy_202012'] = cal_ute_yoy('rdl_202012','rdl_201912')"
   ]
  },
  {
   "cell_type": "markdown",
   "id": "48786c73",
   "metadata": {},
   "source": [
    "##### 创建提取字段用的列表"
   ]
  },
  {
   "cell_type": "code",
   "execution_count": 1032,
   "id": "5829d39b",
   "metadata": {},
   "outputs": [],
   "source": [
    "ute_yoy_1to12 = ['ute_yoy_202001','ute_yoy_202002','ute_yoy_202003','ute_yoy_202004','ute_yoy_202005','ute_yoy_202006','ute_yoy_202007','ute_yoy_202008','ute_yoy_202009','ute_yoy_202010','ute_yoy_202011','ute_yoy_202012']"
   ]
  },
  {
   "cell_type": "markdown",
   "id": "66799ca6",
   "metadata": {},
   "source": [
    "##### 3.9计算2020年企业单位税收能耗月度同比增长率下降次数"
   ]
  },
  {
   "cell_type": "code",
   "execution_count": 1033,
   "id": "f7ae8566",
   "metadata": {},
   "outputs": [],
   "source": [
    "g_finance['最近12个月内企业单位税收能耗月度同比增长率下降次数'] = g_finance[g_finance[ute_yoy_1to12]<0].count(axis=1)"
   ]
  },
  {
   "cell_type": "markdown",
   "id": "ed7ae523",
   "metadata": {},
   "source": [
    "##### 3.10计算2020年企业单位税收能耗月度同比增长率算术平均值"
   ]
  },
  {
   "cell_type": "code",
   "execution_count": 1034,
   "id": "1a283e80",
   "metadata": {},
   "outputs": [],
   "source": [
    "g_finance['最近12个月内企业单位税收能耗月度同比增长率算术平均值'] = round(g_finance[ute_yoy_1to12].apply(lambda x: x.sum(),axis=1)/12,2)"
   ]
  },
  {
   "cell_type": "markdown",
   "id": "3fc2d405",
   "metadata": {},
   "source": [
    "##### 创建提取字段用的列表"
   ]
  },
  {
   "cell_type": "code",
   "execution_count": 1035,
   "id": "dad58cd5",
   "metadata": {},
   "outputs": [],
   "source": [
    "ute_yoy_1to12_wk = ['制造业大类分类','ute_yoy_202001','ute_yoy_202002','ute_yoy_202003','ute_yoy_202004','ute_yoy_202005','ute_yoy_202006','ute_yoy_202007','ute_yoy_202008','ute_yoy_202009','ute_yoy_202010','ute_yoy_202011','ute_yoy_202012']"
   ]
  },
  {
   "cell_type": "markdown",
   "id": "b2be51f2",
   "metadata": {},
   "source": [
    "##### 生成以行业类别为索引,该行业1至12月份同比增长率的平均值为数据的二维数组"
   ]
  },
  {
   "cell_type": "code",
   "execution_count": 1036,
   "id": "891eac3d",
   "metadata": {
    "scrolled": false
   },
   "outputs": [],
   "source": [
    "g_trade_p = g_finance[ute_yoy_1to12_wk].groupby('制造业大类分类').mean()"
   ]
  },
  {
   "cell_type": "markdown",
   "id": "4097d8b1",
   "metadata": {},
   "source": [
    "##### 提取行业类别+企业1至12月份同比增长率数据"
   ]
  },
  {
   "cell_type": "code",
   "execution_count": 1037,
   "id": "b5a0f15b",
   "metadata": {},
   "outputs": [],
   "source": [
    "gfu = g_finance[ute_yoy_1to12_wk]"
   ]
  },
  {
   "cell_type": "markdown",
   "id": "db01be84",
   "metadata": {},
   "source": [
    "##### 将以上数据的行业类别设置为索引"
   ]
  },
  {
   "cell_type": "code",
   "execution_count": 1038,
   "id": "a0bcfc52",
   "metadata": {},
   "outputs": [],
   "source": [
    "gfu_new = gfu.set_index('制造业大类分类')"
   ]
  },
  {
   "cell_type": "markdown",
   "id": "3e08f52f",
   "metadata": {},
   "source": [
    "##### 计算企业单位税收能耗与行业平均税收能耗的差值"
   ]
  },
  {
   "cell_type": "code",
   "execution_count": 1039,
   "id": "9572b0f6",
   "metadata": {},
   "outputs": [],
   "source": [
    "gfu_diff = gfu_new - g_trade_p.loc[g_finance['制造业大类分类']]"
   ]
  },
  {
   "cell_type": "markdown",
   "id": "e5d40935",
   "metadata": {},
   "source": [
    "##### 3.11差值小于0的代表企业单位税收能耗月度同比增长率较行业平均增长率是下降的"
   ]
  },
  {
   "cell_type": "code",
   "execution_count": 1040,
   "id": "5fac5f05",
   "metadata": {
    "scrolled": false
   },
   "outputs": [],
   "source": [
    "g_finance['最近12个月内企业单位税收能耗月度同比增长率较行业平均增长率的下降次数'] = gfu_diff[gfu_diff[ute_yoy_1to12]<0].count(axis=1).values"
   ]
  },
  {
   "cell_type": "markdown",
   "id": "1a3a30fb",
   "metadata": {},
   "source": [
    "### 4\n",
    "##### 4.12计算2020年1-12月份企业单位税收能耗月度同比增长率方差"
   ]
  },
  {
   "cell_type": "code",
   "execution_count": 1041,
   "id": "bb186f2d",
   "metadata": {},
   "outputs": [],
   "source": [
    "g_finance['最近12个月内企业单位税收能耗月度同比增长率方差'] = g_finance[ute_yoy_1to12].var(axis=1)"
   ]
  },
  {
   "cell_type": "markdown",
   "id": "a51f0880",
   "metadata": {},
   "source": [
    "##### 用于计算企业单位税收能耗的环比数据的函数，参数tmd代表当月的能耗值，lmd代表上个月的能耗值\n",
    "##### 该函数用于计算2020年内同比数据，1月份没有参照月，所以不计算在内"
   ]
  },
  {
   "cell_type": "code",
   "execution_count": 1042,
   "id": "c31b54c1",
   "metadata": {},
   "outputs": [],
   "source": [
    "def cal_ute_mom(tmd,lmd):\n",
    "    result = (g_finance[tmd]-g_finance[lmd])/g_finance[lmd]\n",
    "    return result"
   ]
  },
  {
   "cell_type": "markdown",
   "id": "cebb6d80",
   "metadata": {},
   "source": [
    "##### 计算2020年企业单位税收能耗月度环比增长率"
   ]
  },
  {
   "cell_type": "code",
   "execution_count": 1043,
   "id": "9454c9ab",
   "metadata": {},
   "outputs": [],
   "source": [
    "g_finance['ute_202001_02'] = cal_ute_mom('rdl_202002','rdl_202001')\n",
    "g_finance['ute_202002_03'] = cal_ute_mom('rdl_202003','rdl_202002')\n",
    "g_finance['ute_202003_04'] = cal_ute_mom('rdl_202004','rdl_202003')\n",
    "g_finance['ute_202004_05'] = cal_ute_mom('rdl_202005','rdl_202004')\n",
    "g_finance['ute_202005_06'] = cal_ute_mom('rdl_202006','rdl_202005')\n",
    "g_finance['ute_202006_07'] = cal_ute_mom('rdl_202007','rdl_202006')\n",
    "g_finance['ute_202007_08'] = cal_ute_mom('rdl_202008','rdl_202007')\n",
    "g_finance['ute_202008_09'] = cal_ute_mom('rdl_202009','rdl_202008')\n",
    "g_finance['ute_202009_10'] = cal_ute_mom('rdl_202010','rdl_202009')\n",
    "g_finance['ute_202010_11'] = cal_ute_mom('rdl_202011','rdl_202010')\n",
    "g_finance['ute_202011_12'] = cal_ute_mom('rdl_202012','rdl_202011')"
   ]
  },
  {
   "cell_type": "markdown",
   "id": "d7a2f952",
   "metadata": {},
   "source": [
    "##### 创建列表用于获取1-12月份企业单位税收能耗环比增长率字段"
   ]
  },
  {
   "cell_type": "code",
   "execution_count": 1044,
   "id": "fa1b1490",
   "metadata": {},
   "outputs": [],
   "source": [
    "ute_mom_1to12 = ['ute_202001_02','ute_202002_03','ute_202003_04','ute_202004_05','ute_202005_06','ute_202006_07','ute_202007_08','ute_202008_09','ute_202009_10','ute_202010_11','ute_202011_12']"
   ]
  },
  {
   "cell_type": "markdown",
   "id": "3b4cd2ff",
   "metadata": {},
   "source": [
    "##### 4.13计算2020年企业单位税收能耗月度环比增长率方差"
   ]
  },
  {
   "cell_type": "code",
   "execution_count": 1045,
   "id": "f3ec41b9",
   "metadata": {},
   "outputs": [],
   "source": [
    "g_finance['最近12个月内企业单位税收能耗月度环比增长率方差'] = g_finance[ute_mom_1to12].var(axis=1)"
   ]
  },
  {
   "cell_type": "markdown",
   "id": "70481ebc",
   "metadata": {},
   "source": [
    "##### 计算2020年4季度企业单位税收能耗环比增长率"
   ]
  },
  {
   "cell_type": "code",
   "execution_count": 1046,
   "id": "679519da",
   "metadata": {},
   "outputs": [],
   "source": [
    "g_finance['2020年四季度环比增长率'] = ((g_finance['rdl_202010']+g_finance['rdl_202011']+g_finance['rdl_202012'])-(g_finance['rdl_202007']+g_finance['rdl_202008']+g_finance['rdl_202009']))/(g_finance['rdl_202007']+g_finance['rdl_202008']+g_finance['rdl_202009'])"
   ]
  },
  {
   "cell_type": "markdown",
   "id": "329b1922",
   "metadata": {},
   "source": [
    "##### 计算2020年3季度企业单位税收能耗环比增长率"
   ]
  },
  {
   "cell_type": "code",
   "execution_count": 1047,
   "id": "563e8653",
   "metadata": {},
   "outputs": [],
   "source": [
    "g_finance['2020年三季度环比增长率'] = ((g_finance['rdl_202007']+g_finance['rdl_202008']+g_finance['rdl_202009'])-(g_finance['rdl_202004']+g_finance['rdl_202005']+g_finance['rdl_202006']))/(g_finance['rdl_202004']+g_finance['rdl_202005']+g_finance['rdl_202006'])"
   ]
  },
  {
   "cell_type": "markdown",
   "id": "76789a3f",
   "metadata": {},
   "source": [
    "##### 4.14计算2020年4季度企业单位税收能耗季度环比增长率偏离度"
   ]
  },
  {
   "cell_type": "code",
   "execution_count": 1048,
   "id": "86f10cd3",
   "metadata": {},
   "outputs": [],
   "source": [
    "g_finance['最近一季度企业单位税收能耗季度环比增长率偏离度'] = round((g_finance['2020年四季度环比增长率']-g_finance['2020年三季度环比增长率'])/g_finance['2020年三季度环比增长率'],2)"
   ]
  },
  {
   "cell_type": "markdown",
   "id": "43819c56",
   "metadata": {},
   "source": [
    "##### 4.15计算2020年12月份企业单位税收能耗环比增长率偏离度"
   ]
  },
  {
   "cell_type": "code",
   "execution_count": 1049,
   "id": "46759626",
   "metadata": {},
   "outputs": [],
   "source": [
    "g_finance['最近1个月企业单位税收能耗环比增长率偏离度'] = round((g_finance['ute_202011_12']-g_finance['ute_202010_11'])/g_finance['ute_202010_11'],2)"
   ]
  },
  {
   "cell_type": "markdown",
   "id": "6626c4af",
   "metadata": {},
   "source": [
    "##### 根据行业分组计算2020年12月份的行业单位税收能耗"
   ]
  },
  {
   "cell_type": "code",
   "execution_count": 1050,
   "id": "980f3a5a",
   "metadata": {},
   "outputs": [],
   "source": [
    "g_trade_202012 = trade['rdl_202012'].sum()/(trade['20税收总额（万元）'].sum()/12)"
   ]
  },
  {
   "cell_type": "markdown",
   "id": "f6e00128",
   "metadata": {},
   "source": [
    "##### 4.16计算2020年12月份企业单位税收能耗与行业单位税收能耗的偏离值"
   ]
  },
  {
   "cell_type": "code",
   "execution_count": 1051,
   "id": "ff876172",
   "metadata": {},
   "outputs": [],
   "source": [
    "g_finance['最近1个月企业单位税收能耗行业偏离度'] = round((g_finance['rdl_202012']/(g_finance['20税收总额（万元）']/12)-g_trade_202012[g_finance['制造业大类分类']].values)/g_trade_202012[g_finance['制造业大类分类']].values,2)"
   ]
  },
  {
   "cell_type": "code",
   "execution_count": 1052,
   "id": "ba422d0c",
   "metadata": {},
   "outputs": [],
   "source": [
    "g_finance[['qymc','企业单位营业收入能耗','企业单位税收能耗','企业单位利润能耗','企业单位税收能耗等级','最近12个月内企业单位税收能耗月度同比增长率下降次数','最近12个月内企业单位税收能耗月度同比增长率算术平均值','最近12个月内企业单位税收能耗月度同比增长率较行业平均增长率的下降次数','最近12个月内企业单位税收能耗月度同比增长率方差','最近12个月内企业单位税收能耗月度环比增长率方差','最近一季度企业单位税收能耗季度环比增长率偏离度','最近1个月企业单位税收能耗环比增长率偏离度','最近1个月企业单位税收能耗行业偏离度']].to_excel('./计算结果集.xlsx')"
   ]
  },
  {
   "cell_type": "markdown",
   "id": "3a67e4de",
   "metadata": {},
   "source": [
    "## 二、评价"
   ]
  },
  {
   "cell_type": "code",
   "execution_count": 1053,
   "id": "224da9be",
   "metadata": {},
   "outputs": [],
   "source": [
    "appraise = g_finance[['qymc','制造业大类分类','地区','企业单位营业收入能耗','企业单位税收能耗','企业单位利润能耗','企业单位税收能耗等级','最近12个月内企业单位税收能耗月度同比增长率下降次数','最近12个月内企业单位税收能耗月度同比增长率算术平均值','最近12个月内企业单位税收能耗月度同比增长率较行业平均增长率的下降次数','最近12个月内企业单位税收能耗月度同比增长率方差','最近12个月内企业单位税收能耗月度环比增长率方差','最近一季度企业单位税收能耗季度环比增长率偏离度','最近1个月企业单位税收能耗环比增长率偏离度','最近1个月企业单位税收能耗行业偏离度']]"
   ]
  },
  {
   "cell_type": "markdown",
   "id": "41382f76",
   "metadata": {},
   "source": [
    "##### 标准化函数"
   ]
  },
  {
   "cell_type": "code",
   "execution_count": 1054,
   "id": "20d9dfbb",
   "metadata": {},
   "outputs": [],
   "source": [
    "def cal_appraise(target):\n",
    "    result = (appraise[target]-appraise[target].min())/(appraise[target].max()-appraise[target].min())\n",
    "    return result"
   ]
  },
  {
   "cell_type": "markdown",
   "id": "66facd04",
   "metadata": {},
   "source": [
    "##### 计算企业单位营业收入能耗评分"
   ]
  },
  {
   "cell_type": "code",
   "execution_count": 1055,
   "id": "fe64245b",
   "metadata": {},
   "outputs": [],
   "source": [
    "appraise.drop(appraise[appraise['企业单位营业收入能耗']==0].index,inplace=True)\n",
    "\n",
    "mad5 = appraise['企业单位营业收入能耗'].mad()\n",
    "\n",
    "appraise.loc[appraise['企业单位营业收入能耗']>mad5,'企业单位营业收入能耗'] = \\\n",
    "appraise.loc[appraise['企业单位营业收入能耗']<mad5,'企业单位营业收入能耗'].max()\n",
    "\n",
    "appraise['企业单位营业收入能耗标准化'] = cal_appraise('企业单位营业收入能耗')\n",
    "\n",
    "appraise['企业单位营业收入能耗得分'] = (0.1**(appraise['企业单位营业收入能耗标准化']))*100"
   ]
  },
  {
   "cell_type": "markdown",
   "id": "3d77098c",
   "metadata": {},
   "source": [
    "##### 计算企业单位税收能耗评分"
   ]
  },
  {
   "cell_type": "code",
   "execution_count": 1056,
   "id": "948fbc61",
   "metadata": {},
   "outputs": [],
   "source": [
    "appraise.drop(appraise[appraise['企业单位税收能耗']==0].index,inplace=True)\n",
    "\n",
    "mad6 = appraise['企业单位税收能耗'].mad()\n",
    "\n",
    "appraise.loc[appraise['企业单位税收能耗']>mad6,'企业单位税收能耗'] = \\\n",
    "appraise.loc[appraise['企业单位税收能耗']<mad6,'企业单位税收能耗'].max()\n",
    "\n",
    "appraise['企业单位税收能耗标准化'] = cal_appraise('企业单位税收能耗')\n",
    "\n",
    "appraise['企业单位税收能耗得分'] = (0.1**(appraise['企业单位税收能耗标准化']))*100"
   ]
  },
  {
   "cell_type": "markdown",
   "id": "e89b0167",
   "metadata": {},
   "source": [
    "##### 计算企业单位利润能耗评分"
   ]
  },
  {
   "cell_type": "code",
   "execution_count": 1057,
   "id": "421a1b09",
   "metadata": {},
   "outputs": [],
   "source": [
    "mad7 = appraise['企业单位利润能耗'].mad()\n",
    "\n",
    "appraise.loc[(appraise['企业单位利润能耗']>mad7) | (appraise['企业单位利润能耗']<0),'企业单位利润能耗'] = \\\n",
    "appraise.loc[appraise['企业单位利润能耗']<mad7,'企业单位利润能耗'].max()\n",
    "\n",
    "appraise['企业单位利润能耗标准化'] = cal_appraise('企业单位利润能耗')\n",
    "\n",
    "appraise['企业单位利润能耗得分'] = 0.1**appraise['企业单位利润能耗标准化']*100"
   ]
  },
  {
   "cell_type": "markdown",
   "id": "44c090a3",
   "metadata": {},
   "source": [
    "##### 计算企业单位税收能耗等级评分"
   ]
  },
  {
   "cell_type": "code",
   "execution_count": 1058,
   "id": "1eb3bf10",
   "metadata": {},
   "outputs": [],
   "source": [
    "appraise['企业单位税收能耗等级得分'] = (pd.cut(appraise['企业单位税收能耗等级'],bins=[-1,0.4,0.8,1,2,100000000],labels=['100','80','60','40','20'])).astype('int32')"
   ]
  },
  {
   "cell_type": "markdown",
   "id": "58710e27",
   "metadata": {},
   "source": [
    "##### 计算最近12个月内企业单位税收能耗月度同比增长率下降次数评分"
   ]
  },
  {
   "cell_type": "code",
   "execution_count": 1059,
   "id": "8eb15145",
   "metadata": {},
   "outputs": [],
   "source": [
    "appraise['最近12个月内企业单位税收能耗月度同比增长率下降次数得分'] = (pd.cut(appraise['最近12个月内企业单位税收能耗月度同比增长率下降次数'],bins=[-1,2,4,6,8,10,12],labels=['0','20','40','60','80','100'])).astype('int32')"
   ]
  },
  {
   "cell_type": "markdown",
   "id": "6993049a",
   "metadata": {},
   "source": [
    "##### 计算最近12个月内企业单位税收能耗月度同比增长率算术平均值评分"
   ]
  },
  {
   "cell_type": "code",
   "execution_count": 1060,
   "id": "c9fb260f",
   "metadata": {},
   "outputs": [],
   "source": [
    "mad10 = appraise['最近12个月内企业单位税收能耗月度同比增长率算术平均值'].mad()\n",
    "\n",
    "appraise.loc[appraise['最近12个月内企业单位税收能耗月度同比增长率算术平均值']>mad10,'最近12个月内企业单位税收能耗月度同比增长率算术平均值'] = \\\n",
    "appraise.loc[appraise['最近12个月内企业单位税收能耗月度同比增长率算术平均值']<mad10,'最近12个月内企业单位税收能耗月度同比增长率算术平均值'].max()\n",
    "\n",
    "appraise['最近12个月内企业单位税收能耗月度同比增长率算术平均值标准化'] = cal_appraise('最近12个月内企业单位税收能耗月度同比增长率算术平均值')\n",
    "\n",
    "appraise['最近12个月内企业单位税收能耗月度同比增长率算术平均值得分'] = 0.1**appraise['最近12个月内企业单位税收能耗月度同比增长率算术平均值标准化']*100"
   ]
  },
  {
   "cell_type": "markdown",
   "id": "bc7b6bd2",
   "metadata": {},
   "source": [
    "##### 计算最近12个月内企业单位税收能耗月度同比增长率较行业平均增长率的下降次数评分"
   ]
  },
  {
   "cell_type": "code",
   "execution_count": 1061,
   "id": "090b6af8",
   "metadata": {},
   "outputs": [],
   "source": [
    "appraise['最近12个月内企业单位税收能耗月度同比增长率较行业平均增长率的下降次数得分'] = (pd.cut(appraise['最近12个月内企业单位税收能耗月度同比增长率较行业平均增长率的下降次数'],bins=[-1,2,4,6,8,10,12],labels=['0','20','40','60','80','100'])).astype('int32')"
   ]
  },
  {
   "cell_type": "markdown",
   "id": "65b33b09",
   "metadata": {},
   "source": [
    "##### 计算最近12个月内企业单位税收能耗月度同比增长率方差评分"
   ]
  },
  {
   "cell_type": "code",
   "execution_count": 1062,
   "id": "43c6a99d",
   "metadata": {},
   "outputs": [],
   "source": [
    "mad12 = appraise['最近12个月内企业单位税收能耗月度同比增长率方差'].median()\n",
    "\n",
    "appraise.loc[appraise['最近12个月内企业单位税收能耗月度同比增长率方差']>mad12,'最近12个月内企业单位税收能耗月度同比增长率方差'] = \\\n",
    "appraise.loc[appraise['最近12个月内企业单位税收能耗月度同比增长率方差']<mad12,'最近12个月内企业单位税收能耗月度同比增长率方差'].max()\n",
    "\n",
    "appraise['最近12个月内企业单位税收能耗月度同比增长率方差标准化'] = cal_appraise('最近12个月内企业单位税收能耗月度同比增长率方差')\n",
    "\n",
    "appraise['最近12个月内企业单位税收能耗月度同比增长率方差得分'] = 0.1**appraise['最近12个月内企业单位税收能耗月度同比增长率方差标准化']*100"
   ]
  },
  {
   "cell_type": "markdown",
   "id": "e7847058",
   "metadata": {},
   "source": [
    "##### 计算最近12个月内企业单位税收能耗月度环比增长率方差评分"
   ]
  },
  {
   "cell_type": "code",
   "execution_count": 1063,
   "id": "784f0f76",
   "metadata": {},
   "outputs": [],
   "source": [
    "mad13 = appraise['最近12个月内企业单位税收能耗月度环比增长率方差'].median()\n",
    "\n",
    "appraise.loc[appraise['最近12个月内企业单位税收能耗月度环比增长率方差']>mad13,'最近12个月内企业单位税收能耗月度环比增长率方差'] = \\\n",
    "appraise.loc[appraise['最近12个月内企业单位税收能耗月度环比增长率方差']<mad13,'最近12个月内企业单位税收能耗月度环比增长率方差'].max()\n",
    "\n",
    "appraise['最近12个月内企业单位税收能耗月度环比增长率方差标准化'] = cal_appraise('最近12个月内企业单位税收能耗月度环比增长率方差')\n",
    "\n",
    "appraise['最近12个月内企业单位税收能耗月度环比增长率方差得分'] = 0.1**appraise['最近12个月内企业单位税收能耗月度环比增长率方差标准化']*100"
   ]
  },
  {
   "cell_type": "markdown",
   "id": "f8e508ff",
   "metadata": {},
   "source": [
    "##### 计算最近一季度企业单位税收能耗季度环比增长率偏离度评分"
   ]
  },
  {
   "cell_type": "code",
   "execution_count": 1064,
   "id": "06293b83",
   "metadata": {},
   "outputs": [],
   "source": [
    "mad14 = appraise['最近一季度企业单位税收能耗季度环比增长率偏离度'].mad()\n",
    "\n",
    "appraise.loc[appraise['最近一季度企业单位税收能耗季度环比增长率偏离度']>mad14,'最近一季度企业单位税收能耗季度环比增长率偏离度'] = \\\n",
    "appraise.loc[appraise['最近一季度企业单位税收能耗季度环比增长率偏离度']<mad14,'最近一季度企业单位税收能耗季度环比增长率偏离度'].max()\n",
    "\n",
    "appraise.loc[appraise['最近一季度企业单位税收能耗季度环比增长率偏离度']<-mad14,'最近一季度企业单位税收能耗季度环比增长率偏离度'] = \\\n",
    "appraise.loc[appraise['最近一季度企业单位税收能耗季度环比增长率偏离度']>-mad14,'最近一季度企业单位税收能耗季度环比增长率偏离度'].min()\n",
    "\n",
    "appraise['最近一季度企业单位税收能耗季度环比增长率偏离度标准化'] = cal_appraise('最近一季度企业单位税收能耗季度环比增长率偏离度')\n",
    "\n",
    "appraise['最近一季度企业单位税收能耗季度环比增长率偏离度得分'] = 0.1**appraise['最近一季度企业单位税收能耗季度环比增长率偏离度标准化']*100"
   ]
  },
  {
   "cell_type": "markdown",
   "id": "6cfead15",
   "metadata": {},
   "source": [
    "##### 计算最近1个月企业单位税收能耗环比增长率偏离度评分"
   ]
  },
  {
   "cell_type": "code",
   "execution_count": 1065,
   "id": "eb96928c",
   "metadata": {},
   "outputs": [],
   "source": [
    "mad15 = appraise['最近1个月企业单位税收能耗环比增长率偏离度'].mad()\n",
    "\n",
    "appraise.loc[appraise['最近1个月企业单位税收能耗环比增长率偏离度']>mad15,'最近1个月企业单位税收能耗环比增长率偏离度'] = \\\n",
    "appraise.loc[appraise['最近1个月企业单位税收能耗环比增长率偏离度']<mad15,'最近1个月企业单位税收能耗环比增长率偏离度'].max()\n",
    "\n",
    "appraise.loc[appraise['最近1个月企业单位税收能耗环比增长率偏离度']<-mad15,'最近1个月企业单位税收能耗环比增长率偏离度'] = \\\n",
    "appraise.loc[appraise['最近1个月企业单位税收能耗环比增长率偏离度']>-mad15,'最近1个月企业单位税收能耗环比增长率偏离度'].min()\n",
    "\n",
    "appraise['最近1个月企业单位税收能耗环比增长率偏离度标准化'] = cal_appraise('最近1个月企业单位税收能耗环比增长率偏离度')\n",
    "\n",
    "appraise['最近1个月企业单位税收能耗环比增长率偏离度得分'] = 0.1**appraise['最近1个月企业单位税收能耗环比增长率偏离度标准化']*100"
   ]
  },
  {
   "cell_type": "markdown",
   "id": "ca6e88fe",
   "metadata": {},
   "source": [
    "##### 计算最近1个月企业单位税收能耗行业偏离度评分"
   ]
  },
  {
   "cell_type": "code",
   "execution_count": 1066,
   "id": "035f95e1",
   "metadata": {},
   "outputs": [],
   "source": [
    "mad16 = appraise['最近1个月企业单位税收能耗行业偏离度'].mean()\n",
    "\n",
    "appraise.loc[appraise['最近1个月企业单位税收能耗行业偏离度']>mad16,'最近1个月企业单位税收能耗行业偏离度'] = \\\n",
    "appraise.loc[appraise['最近1个月企业单位税收能耗行业偏离度']<mad16,'最近1个月企业单位税收能耗行业偏离度'].max()\n",
    "\n",
    "appraise['最近1个月企业单位税收能耗行业偏离度标准化'] = cal_appraise('最近1个月企业单位税收能耗行业偏离度')\n",
    "\n",
    "appraise['最近1个月企业单位税收能耗行业偏离度得分'] = 0.1**appraise['最近1个月企业单位税收能耗行业偏离度标准化']*100"
   ]
  },
  {
   "cell_type": "code",
   "execution_count": 1067,
   "id": "5d1366f0",
   "metadata": {},
   "outputs": [],
   "source": [
    "appraise['企业能耗强度评价得分'] = appraise['企业单位营业收入能耗得分']*0.167 + appraise['企业单位税收能耗得分']*0.167 + appraise['企业单位利润能耗得分']*0.167+appraise['企业单位税收能耗等级得分']*0.5\n",
    "appraise['企业能耗趋势性评价得分'] = appraise['最近12个月内企业单位税收能耗月度同比增长率下降次数得分']*0.333 + appraise['最近12个月内企业单位税收能耗月度同比增长率算术平均值得分']*0.333 + appraise['最近12个月内企业单位税收能耗月度同比增长率较行业平均增长率的下降次数得分']*0.333\n",
    "appraise['企业能耗稳定性评价得分'] = appraise['最近12个月内企业单位税收能耗月度同比增长率方差得分']*0.2 + appraise['最近12个月内企业单位税收能耗月度环比增长率方差得分']*0.2 + appraise['最近一季度企业单位税收能耗季度环比增长率偏离度得分']*0.2 + appraise['最近1个月企业单位税收能耗环比增长率偏离度得分']*0.2 + appraise['最近1个月企业单位税收能耗行业偏离度得分']*0.2"
   ]
  },
  {
   "cell_type": "code",
   "execution_count": 1068,
   "id": "3adeaf91",
   "metadata": {},
   "outputs": [],
   "source": [
    "appraise['企业能耗评价总分'] = appraise['企业能耗强度评价得分']*0.5 + appraise['企业能耗趋势性评价得分']*0.25 + appraise['企业能耗稳定性评价得分']*0.25"
   ]
  },
  {
   "cell_type": "code",
   "execution_count": 1069,
   "id": "6f81536d",
   "metadata": {},
   "outputs": [
    {
     "data": {
      "text/plain": [
       "<AxesSubplot:>"
      ]
     },
     "execution_count": 1069,
     "metadata": {},
     "output_type": "execute_result"
    },
    {
     "data": {
      "image/png": "[encoded data removed]",
      "text/plain": [
       "<Figure size 432x288 with 1 Axes>"
      ]
     },
     "metadata": {
      "needs_background": "light"
     },
     "output_type": "display_data"
    }
   ],
   "source": [
    "appraise['企业能耗评价总分'].hist()"
   ]
  },
  {
   "cell_type": "code",
   "execution_count": 1070,
   "id": "552944f9",
   "metadata": {},
   "outputs": [],
   "source": [
    "appraise[['qymc','制造业大类分类','企业单位营业收入能耗得分','企业单位税收能耗得分','企业单位利润能耗得分','企业单位税收能耗等级得分','最近12个月内企业单位税收能耗月度同比增长率下降次数得分','最近12个月内企业单位税收能耗月度同比增长率算术平均值得分','最近12个月内企业单位税收能耗月度同比增长率较行业平均增长率的下降次数得分','最近12个月内企业单位税收能耗月度同比增长率方差得分','最近12个月内企业单位税收能耗月度环比增长率方差得分','最近一季度企业单位税收能耗季度环比增长率偏离度得分','最近1个月企业单位税收能耗环比增长率偏离度得分','最近1个月企业单位税收能耗行业偏离度得分','企业能耗强度评价得分','企业能耗趋势性评价得分','企业能耗稳定性评价得分','企业能耗评价总分','地区']].to_excel('./评分结果集.xlsx')"
   ]
  },
  {
   "cell_type": "code",
   "execution_count": null,
   "id": "ee47d82f",
   "metadata": {},
   "outputs": [],
   "source": []
  }
 ],
 "metadata": {
  "kernelspec": {
   "display_name": "Python 3",
   "language": "python",
   "name": "python3"
  },
  "language_info": {
   "codemirror_mode": {
    "name": "ipython",
    "version": 3
   },
   "file_extension": ".py",
   "mimetype": "text/x-python",
   "name": "python",
   "nbconvert_exporter": "python",
   "pygments_lexer": "ipython3",
   "version": "3.8.8"
  }
 },
 "nbformat": 4,
 "nbformat_minor": 5
}
