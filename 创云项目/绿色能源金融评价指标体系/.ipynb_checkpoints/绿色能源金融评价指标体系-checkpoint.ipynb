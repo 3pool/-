{
 "cells": [
  {
   "cell_type": "code",
   "execution_count": 748,
   "id": "65e5e72d",
   "metadata": {},
   "outputs": [],
   "source": [
    "import numpy as np\n",
    "import pandas as pd\n",
    "from pandas import Series,DataFrame\n",
    "import matplotlib.pyplot as plt"
   ]
  },
  {
   "cell_type": "code",
   "execution_count": null,
   "id": "e46f8382",
   "metadata": {},
   "outputs": [],
   "source": [
    "pd.set_option('mode.chained_assignment', None)"
   ]
  },
  {
   "cell_type": "markdown",
   "id": "70e2fc1c",
   "metadata": {},
   "source": [
    "##### 原始数据导入"
   ]
  },
  {
   "cell_type": "code",
   "execution_count": 749,
   "id": "ca8ca315",
   "metadata": {},
   "outputs": [],
   "source": [
    "g_finance = pd.read_excel('./原始数据.xlsx')"
   ]
  },
  {
   "cell_type": "markdown",
   "id": "62e91929",
   "metadata": {},
   "source": [
    "## 一、关键指标计算\n",
    "### 2\n",
    "##### 2.5计算20年企业单位营业收入能耗"
   ]
  },
  {
   "cell_type": "code",
   "execution_count": 750,
   "id": "0343ba0c",
   "metadata": {
    "scrolled": false
   },
   "outputs": [],
   "source": [
    "g_finance['企业单位营业收入能耗'] = g_finance['2020电量']/g_finance['20营业总收入（万元）']"
   ]
  },
  {
   "cell_type": "code",
   "execution_count": 751,
   "id": "88676582",
   "metadata": {},
   "outputs": [],
   "source": [
    "def cal_ube(rdl):\n",
    "    result = round(g_finance[rdl]/(g_finance['20营业总收入（万元）']/12),2)\n",
    "    return result"
   ]
  },
  {
   "cell_type": "code",
   "execution_count": 752,
   "id": "8b998b2f",
   "metadata": {},
   "outputs": [],
   "source": [
    "g_finance['企业单位营业收入能耗'] = cal_ube('rdl_202012')"
   ]
  },
  {
   "cell_type": "markdown",
   "id": "232fc831",
   "metadata": {},
   "source": [
    "##### 2.6计算20年企业单位税收能耗"
   ]
  },
  {
   "cell_type": "code",
   "execution_count": 753,
   "id": "9317abdb",
   "metadata": {},
   "outputs": [],
   "source": [
    "g_finance['企业单位税收能耗'] = g_finance['2020电量']/g_finance['20税收总额（万元）']"
   ]
  },
  {
   "cell_type": "code",
   "execution_count": 754,
   "id": "f3ae193e",
   "metadata": {},
   "outputs": [],
   "source": [
    "def cal_ute(rdl):\n",
    "    result = round(g_finance[rdl]/(g_finance['20税收总额（万元）']/12),2)\n",
    "    return result"
   ]
  },
  {
   "cell_type": "code",
   "execution_count": 755,
   "id": "8a3d7ce2",
   "metadata": {},
   "outputs": [],
   "source": [
    "g_finance['企业单位税收能耗'] = cal_ute('rdl_202012')"
   ]
  },
  {
   "cell_type": "markdown",
   "id": "4b7c8f1e",
   "metadata": {},
   "source": [
    "##### 2.7计算20年企业单位利润能耗"
   ]
  },
  {
   "cell_type": "code",
   "execution_count": 756,
   "id": "6484bb80",
   "metadata": {},
   "outputs": [],
   "source": [
    "g_finance['企业单位利润能耗'] = g_finance['2020电量']/g_finance['20利润总额（万元）']"
   ]
  },
  {
   "cell_type": "code",
   "execution_count": 757,
   "id": "92273fff",
   "metadata": {},
   "outputs": [],
   "source": [
    "def cal_upe(rdl):\n",
    "    result = round(g_finance[rdl]/(g_finance['20利润总额（万元）']/12),2)\n",
    "    return result"
   ]
  },
  {
   "cell_type": "code",
   "execution_count": 758,
   "id": "8685875f",
   "metadata": {},
   "outputs": [],
   "source": [
    "g_finance['企业单位利润能耗'] = cal_upe('rdl_202012')"
   ]
  },
  {
   "cell_type": "markdown",
   "id": "700536d6",
   "metadata": {},
   "source": [
    "##### 2.8\n",
    "##### 先根据行业进行分组"
   ]
  },
  {
   "cell_type": "code",
   "execution_count": 759,
   "id": "46593237",
   "metadata": {},
   "outputs": [],
   "source": [
    "trade = g_finance.groupby('制造业大类分类')"
   ]
  },
  {
   "cell_type": "markdown",
   "id": "bd6f25ac",
   "metadata": {},
   "source": [
    "##### 计算20年每个行业对应的单位税收能耗"
   ]
  },
  {
   "cell_type": "code",
   "execution_count": 760,
   "id": "509e7fb3",
   "metadata": {},
   "outputs": [],
   "source": [
    "g_trade = trade['2020电量'].sum()/trade['20税收总额（万元）'].sum()"
   ]
  },
  {
   "cell_type": "markdown",
   "id": "77614454",
   "metadata": {},
   "source": [
    "##### 计算20年企业单位税收能耗在其所在行业所处的等级"
   ]
  },
  {
   "cell_type": "code",
   "execution_count": 761,
   "id": "8e7c0a61",
   "metadata": {},
   "outputs": [],
   "source": [
    "g_finance['企业单位税收能耗等级'] = g_finance['企业单位税收能耗'].values/g_trade[g_finance['制造业大类分类']].values"
   ]
  },
  {
   "cell_type": "markdown",
   "id": "e24e90bf",
   "metadata": {},
   "source": [
    "##### 计算20年每个月企业单位税收能耗在其所在行业所处的等级"
   ]
  },
  {
   "cell_type": "code",
   "execution_count": 762,
   "id": "6c0c1944",
   "metadata": {},
   "outputs": [],
   "source": [
    "def cal_ute_level(rdl):\n",
    "    m_trade = trade[rdl].sum()/(trade['20税收总额（万元）'].sum()/12)\n",
    "    result = round((g_finance[rdl]/(g_finance['20税收总额（万元）']/12).values)/m_trade[g_finance['制造业大类分类']].values,2)\n",
    "    return result"
   ]
  },
  {
   "cell_type": "code",
   "execution_count": 763,
   "id": "113303ec",
   "metadata": {},
   "outputs": [],
   "source": [
    "g_finance['企业单位税收能耗等级'] = cal_ute_level('rdl_202012')"
   ]
  },
  {
   "cell_type": "markdown",
   "id": "0f76db4d",
   "metadata": {},
   "source": [
    "### 3\n",
    "##### 用于计算企业单位税收能耗的同比数据的函数，参数tyd代表当月的能耗值，lyd代表上一年度同月份的能耗值\n",
    "##### 该函数用于计算2020年与2019年的同比数据，如果需要修改年份，需调整函数内容"
   ]
  },
  {
   "cell_type": "code",
   "execution_count": 764,
   "id": "dc73c44c",
   "metadata": {},
   "outputs": [],
   "source": [
    "def cal_ute_yoy(tyd,lyd):\n",
    "    result = (g_finance[tyd]/(g_finance['20税收总额（万元）']/12)-g_finance[lyd]/(g_finance['19税收总额（万元）']/12))/(g_finance[lyd]/(g_finance['19税收总额（万元）']/12))\n",
    "    return result"
   ]
  },
  {
   "cell_type": "markdown",
   "id": "789d4f32",
   "metadata": {},
   "source": [
    "##### 计算2020年1-12月份每个月的企业单位税收能耗同比增长率"
   ]
  },
  {
   "cell_type": "code",
   "execution_count": 765,
   "id": "52ca9023",
   "metadata": {},
   "outputs": [],
   "source": [
    "g_finance['ute_yoy_202001'] = cal_ute_yoy('rdl_202001','rdl_201901')\n",
    "g_finance['ute_yoy_202002'] = cal_ute_yoy('rdl_202002','rdl_201902')\n",
    "g_finance['ute_yoy_202003'] = cal_ute_yoy('rdl_202003','rdl_201903')\n",
    "g_finance['ute_yoy_202004'] = cal_ute_yoy('rdl_202004','rdl_201904')\n",
    "g_finance['ute_yoy_202005'] = cal_ute_yoy('rdl_202005','rdl_201905')\n",
    "g_finance['ute_yoy_202006'] = cal_ute_yoy('rdl_202006','rdl_201906')\n",
    "g_finance['ute_yoy_202007'] = cal_ute_yoy('rdl_202007','rdl_201907')\n",
    "g_finance['ute_yoy_202008'] = cal_ute_yoy('rdl_202008','rdl_201908')\n",
    "g_finance['ute_yoy_202009'] = cal_ute_yoy('rdl_202009','rdl_201909')\n",
    "g_finance['ute_yoy_202010'] = cal_ute_yoy('rdl_202010','rdl_201910')\n",
    "g_finance['ute_yoy_202011'] = cal_ute_yoy('rdl_202011','rdl_201911')\n",
    "g_finance['ute_yoy_202012'] = cal_ute_yoy('rdl_202012','rdl_201912')"
   ]
  },
  {
   "cell_type": "markdown",
   "id": "48786c73",
   "metadata": {},
   "source": [
    "##### 创建提取字段用的列表"
   ]
  },
  {
   "cell_type": "code",
   "execution_count": 766,
   "id": "5829d39b",
   "metadata": {},
   "outputs": [],
   "source": [
    "ute_yoy_1to12 = ['ute_yoy_202001','ute_yoy_202002','ute_yoy_202003','ute_yoy_202004','ute_yoy_202005','ute_yoy_202006','ute_yoy_202007','ute_yoy_202008','ute_yoy_202009','ute_yoy_202010','ute_yoy_202011','ute_yoy_202012']"
   ]
  },
  {
   "cell_type": "markdown",
   "id": "66799ca6",
   "metadata": {},
   "source": [
    "##### 3.9计算2020年企业单位税收能耗月度同比增长率下降次数"
   ]
  },
  {
   "cell_type": "code",
   "execution_count": 767,
   "id": "f7ae8566",
   "metadata": {},
   "outputs": [],
   "source": [
    "g_finance['最近12个月内企业单位税收能耗月度同比增长率下降次数'] = g_finance[g_finance[ute_yoy_1to12]<0].count(axis=1)"
   ]
  },
  {
   "cell_type": "markdown",
   "id": "ed7ae523",
   "metadata": {},
   "source": [
    "##### 3.10计算2020年企业单位税收能耗月度同比增长率算术平均值"
   ]
  },
  {
   "cell_type": "code",
   "execution_count": 768,
   "id": "1a283e80",
   "metadata": {},
   "outputs": [],
   "source": [
    "g_finance['最近12个月内企业单位税收能耗月度同比增长率算术平均值'] = round(g_finance[ute_yoy_1to12].apply(lambda x: x.sum(),axis=1)/12,2)"
   ]
  },
  {
   "cell_type": "markdown",
   "id": "3fc2d405",
   "metadata": {},
   "source": [
    "##### 创建提取字段用的列表"
   ]
  },
  {
   "cell_type": "code",
   "execution_count": 769,
   "id": "dad58cd5",
   "metadata": {},
   "outputs": [],
   "source": [
    "ute_yoy_1to12_wk = ['制造业大类分类','ute_yoy_202001','ute_yoy_202002','ute_yoy_202003','ute_yoy_202004','ute_yoy_202005','ute_yoy_202006','ute_yoy_202007','ute_yoy_202008','ute_yoy_202009','ute_yoy_202010','ute_yoy_202011','ute_yoy_202012']"
   ]
  },
  {
   "cell_type": "markdown",
   "id": "b2be51f2",
   "metadata": {},
   "source": [
    "##### 生成以行业类别为索引,该行业1至12月份同比增长率的平均值为数据的二维数组"
   ]
  },
  {
   "cell_type": "code",
   "execution_count": 770,
   "id": "891eac3d",
   "metadata": {
    "scrolled": false
   },
   "outputs": [],
   "source": [
    "g_trade_p = g_finance[ute_yoy_1to12_wk].groupby('制造业大类分类').mean()"
   ]
  },
  {
   "cell_type": "markdown",
   "id": "4097d8b1",
   "metadata": {},
   "source": [
    "##### 提取行业类别+企业1至12月份同比增长率数据"
   ]
  },
  {
   "cell_type": "code",
   "execution_count": 771,
   "id": "b5a0f15b",
   "metadata": {},
   "outputs": [],
   "source": [
    "gfu = g_finance[ute_yoy_1to12_wk]"
   ]
  },
  {
   "cell_type": "markdown",
   "id": "db01be84",
   "metadata": {},
   "source": [
    "##### 将以上数据的行业类别设置为索引"
   ]
  },
  {
   "cell_type": "code",
   "execution_count": 772,
   "id": "a0bcfc52",
   "metadata": {},
   "outputs": [],
   "source": [
    "gfu_new = gfu.set_index('制造业大类分类')"
   ]
  },
  {
   "cell_type": "markdown",
   "id": "3e08f52f",
   "metadata": {},
   "source": [
    "##### 计算企业单位税收能耗与行业平均税收能耗的差值"
   ]
  },
  {
   "cell_type": "code",
   "execution_count": 773,
   "id": "9572b0f6",
   "metadata": {},
   "outputs": [],
   "source": [
    "gfu_diff = gfu_new - g_trade_p.loc[g_finance['制造业大类分类']]"
   ]
  },
  {
   "cell_type": "markdown",
   "id": "e5d40935",
   "metadata": {},
   "source": [
    "##### 3.11差值小于0的代表企业单位税收能耗月度同比增长率较行业平均增长率是下降的"
   ]
  },
  {
   "cell_type": "code",
   "execution_count": 774,
   "id": "5fac5f05",
   "metadata": {},
   "outputs": [],
   "source": [
    "g_finance['最近12个月内企业单位税收能耗月度同比增长率较行业平均增长率的下降次数'] = gfu_diff[gfu_diff[ute_yoy_1to12]<0].count(axis=1).values"
   ]
  },
  {
   "cell_type": "markdown",
   "id": "1a3a30fb",
   "metadata": {},
   "source": [
    "### 4\n",
    "##### 4.12计算2020年1-12月份企业单位税收能耗月度同比增长率方差"
   ]
  },
  {
   "cell_type": "code",
   "execution_count": 775,
   "id": "bb186f2d",
   "metadata": {},
   "outputs": [],
   "source": [
    "g_finance['最近12个月内企业单位税收能耗月度同比增长率方差'] = g_finance[ute_yoy_1to12].var(axis=1)"
   ]
  },
  {
   "cell_type": "markdown",
   "id": "a51f0880",
   "metadata": {},
   "source": [
    "##### 用于计算企业单位税收能耗的环比数据的函数，参数tmd代表当月的能耗值，lmd代表上个月的能耗值\n",
    "##### 该函数用于计算2020年内同比数据，1月份没有参照月，所以不计算在内"
   ]
  },
  {
   "cell_type": "code",
   "execution_count": 776,
   "id": "c31b54c1",
   "metadata": {},
   "outputs": [],
   "source": [
    "def cal_ute_mom(tmd,lmd):\n",
    "    result = (g_finance[tmd]-g_finance[lmd])/g_finance[lmd]\n",
    "    return result"
   ]
  },
  {
   "cell_type": "markdown",
   "id": "cebb6d80",
   "metadata": {},
   "source": [
    "##### 计算2020年企业单位税收能耗月度环比增长率"
   ]
  },
  {
   "cell_type": "code",
   "execution_count": 777,
   "id": "9454c9ab",
   "metadata": {},
   "outputs": [],
   "source": [
    "g_finance['ute_202001_02'] = cal_ute_mom('rdl_202002','rdl_202001')\n",
    "g_finance['ute_202002_03'] = cal_ute_mom('rdl_202003','rdl_202002')\n",
    "g_finance['ute_202003_04'] = cal_ute_mom('rdl_202004','rdl_202003')\n",
    "g_finance['ute_202004_05'] = cal_ute_mom('rdl_202005','rdl_202004')\n",
    "g_finance['ute_202005_06'] = cal_ute_mom('rdl_202006','rdl_202005')\n",
    "g_finance['ute_202006_07'] = cal_ute_mom('rdl_202007','rdl_202006')\n",
    "g_finance['ute_202007_08'] = cal_ute_mom('rdl_202008','rdl_202007')\n",
    "g_finance['ute_202008_09'] = cal_ute_mom('rdl_202009','rdl_202008')\n",
    "g_finance['ute_202009_10'] = cal_ute_mom('rdl_202010','rdl_202009')\n",
    "g_finance['ute_202010_11'] = cal_ute_mom('rdl_202011','rdl_202010')\n",
    "g_finance['ute_202011_12'] = cal_ute_mom('rdl_202012','rdl_202011')"
   ]
  },
  {
   "cell_type": "markdown",
   "id": "d7a2f952",
   "metadata": {},
   "source": [
    "##### 创建列表用于获取1-12月份企业单位税收能耗环比增长率字段"
   ]
  },
  {
   "cell_type": "code",
   "execution_count": 778,
   "id": "fa1b1490",
   "metadata": {},
   "outputs": [],
   "source": [
    "ute_mom_1to12 = ['ute_202001_02','ute_202002_03','ute_202003_04','ute_202004_05','ute_202005_06','ute_202006_07','ute_202007_08','ute_202008_09','ute_202009_10','ute_202010_11','ute_202011_12']"
   ]
  },
  {
   "cell_type": "markdown",
   "id": "3b4cd2ff",
   "metadata": {},
   "source": [
    "##### 4.13计算2020年企业单位税收能耗月度环比增长率方差"
   ]
  },
  {
   "cell_type": "code",
   "execution_count": 779,
   "id": "f3ec41b9",
   "metadata": {},
   "outputs": [],
   "source": [
    "g_finance['最近12个月内企业单位税收能耗月度环比增长率方差'] = g_finance[ute_mom_1to12].var(axis=1)"
   ]
  },
  {
   "cell_type": "code",
   "execution_count": 780,
   "id": "ba5948f4",
   "metadata": {},
   "outputs": [
    {
     "data": {
      "text/html": [
       "<div>\n",
       "<style scoped>\n",
       "    .dataframe tbody tr th:only-of-type {\n",
       "        vertical-align: middle;\n",
       "    }\n",
       "\n",
       "    .dataframe tbody tr th {\n",
       "        vertical-align: top;\n",
       "    }\n",
       "\n",
       "    .dataframe thead th {\n",
       "        text-align: right;\n",
       "    }\n",
       "</style>\n",
       "<table border=\"1\" class=\"dataframe\">\n",
       "  <thead>\n",
       "    <tr style=\"text-align: right;\">\n",
       "      <th></th>\n",
       "      <th>ute_yoy_202001</th>\n",
       "      <th>ute_yoy_202002</th>\n",
       "      <th>ute_yoy_202003</th>\n",
       "      <th>ute_yoy_202004</th>\n",
       "      <th>ute_yoy_202005</th>\n",
       "      <th>ute_yoy_202006</th>\n",
       "      <th>ute_yoy_202007</th>\n",
       "      <th>ute_yoy_202008</th>\n",
       "      <th>ute_yoy_202009</th>\n",
       "      <th>ute_yoy_202010</th>\n",
       "      <th>ute_yoy_202011</th>\n",
       "      <th>ute_yoy_202012</th>\n",
       "    </tr>\n",
       "  </thead>\n",
       "  <tbody>\n",
       "    <tr>\n",
       "      <th>0</th>\n",
       "      <td>7.904288</td>\n",
       "      <td>5.516985</td>\n",
       "      <td>6.002846</td>\n",
       "      <td>7.000825</td>\n",
       "      <td>8.161710</td>\n",
       "      <td>9.564382</td>\n",
       "      <td>8.445182</td>\n",
       "      <td>9.534729</td>\n",
       "      <td>9.654081</td>\n",
       "      <td>9.592174</td>\n",
       "      <td>7.465347</td>\n",
       "      <td>11.412978</td>\n",
       "    </tr>\n",
       "    <tr>\n",
       "      <th>1</th>\n",
       "      <td>0.813251</td>\n",
       "      <td>0.934385</td>\n",
       "      <td>0.734544</td>\n",
       "      <td>0.749738</td>\n",
       "      <td>0.763182</td>\n",
       "      <td>0.803282</td>\n",
       "      <td>0.705219</td>\n",
       "      <td>0.612865</td>\n",
       "      <td>0.532416</td>\n",
       "      <td>0.529193</td>\n",
       "      <td>0.475881</td>\n",
       "      <td>0.490061</td>\n",
       "    </tr>\n",
       "    <tr>\n",
       "      <th>2</th>\n",
       "      <td>0.068751</td>\n",
       "      <td>-0.085722</td>\n",
       "      <td>0.341666</td>\n",
       "      <td>0.407121</td>\n",
       "      <td>0.544966</td>\n",
       "      <td>0.603359</td>\n",
       "      <td>0.701976</td>\n",
       "      <td>0.860914</td>\n",
       "      <td>0.834944</td>\n",
       "      <td>0.913195</td>\n",
       "      <td>0.642812</td>\n",
       "      <td>0.596001</td>\n",
       "    </tr>\n",
       "    <tr>\n",
       "      <th>3</th>\n",
       "      <td>1.012076</td>\n",
       "      <td>0.970522</td>\n",
       "      <td>1.733112</td>\n",
       "      <td>0.770385</td>\n",
       "      <td>1.359498</td>\n",
       "      <td>4.483532</td>\n",
       "      <td>3.209738</td>\n",
       "      <td>3.610624</td>\n",
       "      <td>2.605537</td>\n",
       "      <td>0.027463</td>\n",
       "      <td>0.247827</td>\n",
       "      <td>0.246314</td>\n",
       "    </tr>\n",
       "    <tr>\n",
       "      <th>4</th>\n",
       "      <td>-0.034985</td>\n",
       "      <td>0.081258</td>\n",
       "      <td>0.401611</td>\n",
       "      <td>0.328064</td>\n",
       "      <td>-0.347574</td>\n",
       "      <td>-0.358223</td>\n",
       "      <td>-0.444680</td>\n",
       "      <td>-0.195113</td>\n",
       "      <td>0.493660</td>\n",
       "      <td>0.309334</td>\n",
       "      <td>-0.596877</td>\n",
       "      <td>-0.230275</td>\n",
       "    </tr>\n",
       "    <tr>\n",
       "      <th>...</th>\n",
       "      <td>...</td>\n",
       "      <td>...</td>\n",
       "      <td>...</td>\n",
       "      <td>...</td>\n",
       "      <td>...</td>\n",
       "      <td>...</td>\n",
       "      <td>...</td>\n",
       "      <td>...</td>\n",
       "      <td>...</td>\n",
       "      <td>...</td>\n",
       "      <td>...</td>\n",
       "      <td>...</td>\n",
       "    </tr>\n",
       "    <tr>\n",
       "      <th>5598</th>\n",
       "      <td>-0.392491</td>\n",
       "      <td>-0.683210</td>\n",
       "      <td>-0.089673</td>\n",
       "      <td>-0.056019</td>\n",
       "      <td>-0.208661</td>\n",
       "      <td>-0.016479</td>\n",
       "      <td>-0.016868</td>\n",
       "      <td>-0.053453</td>\n",
       "      <td>-0.014108</td>\n",
       "      <td>0.019093</td>\n",
       "      <td>0.030880</td>\n",
       "      <td>-0.008438</td>\n",
       "    </tr>\n",
       "    <tr>\n",
       "      <th>5599</th>\n",
       "      <td>-0.713017</td>\n",
       "      <td>0.592939</td>\n",
       "      <td>-0.011575</td>\n",
       "      <td>-0.264888</td>\n",
       "      <td>-0.184781</td>\n",
       "      <td>-0.192201</td>\n",
       "      <td>0.072452</td>\n",
       "      <td>-0.032143</td>\n",
       "      <td>0.311067</td>\n",
       "      <td>-0.006571</td>\n",
       "      <td>0.014917</td>\n",
       "      <td>-0.207213</td>\n",
       "    </tr>\n",
       "    <tr>\n",
       "      <th>5600</th>\n",
       "      <td>-0.645866</td>\n",
       "      <td>-0.956219</td>\n",
       "      <td>-0.412538</td>\n",
       "      <td>-0.009479</td>\n",
       "      <td>-0.122231</td>\n",
       "      <td>0.440339</td>\n",
       "      <td>0.402971</td>\n",
       "      <td>-0.053684</td>\n",
       "      <td>0.239868</td>\n",
       "      <td>0.026481</td>\n",
       "      <td>0.442358</td>\n",
       "      <td>0.922466</td>\n",
       "    </tr>\n",
       "    <tr>\n",
       "      <th>5601</th>\n",
       "      <td>-0.306589</td>\n",
       "      <td>-0.388687</td>\n",
       "      <td>-0.253951</td>\n",
       "      <td>-0.495196</td>\n",
       "      <td>0.323580</td>\n",
       "      <td>0.937525</td>\n",
       "      <td>0.437581</td>\n",
       "      <td>-0.111863</td>\n",
       "      <td>-0.167230</td>\n",
       "      <td>-0.135116</td>\n",
       "      <td>-0.053942</td>\n",
       "      <td>0.059380</td>\n",
       "    </tr>\n",
       "    <tr>\n",
       "      <th>5602</th>\n",
       "      <td>-0.383982</td>\n",
       "      <td>-0.223625</td>\n",
       "      <td>0.237206</td>\n",
       "      <td>-0.002064</td>\n",
       "      <td>-0.127644</td>\n",
       "      <td>-0.252368</td>\n",
       "      <td>-0.161938</td>\n",
       "      <td>-0.145000</td>\n",
       "      <td>-0.281482</td>\n",
       "      <td>-0.574400</td>\n",
       "      <td>-0.574512</td>\n",
       "      <td>0.656992</td>\n",
       "    </tr>\n",
       "  </tbody>\n",
       "</table>\n",
       "<p>5603 rows × 12 columns</p>\n",
       "</div>"
      ],
      "text/plain": [
       "      ute_yoy_202001  ute_yoy_202002  ute_yoy_202003  ute_yoy_202004  \\\n",
       "0           7.904288        5.516985        6.002846        7.000825   \n",
       "1           0.813251        0.934385        0.734544        0.749738   \n",
       "2           0.068751       -0.085722        0.341666        0.407121   \n",
       "3           1.012076        0.970522        1.733112        0.770385   \n",
       "4          -0.034985        0.081258        0.401611        0.328064   \n",
       "...              ...             ...             ...             ...   \n",
       "5598       -0.392491       -0.683210       -0.089673       -0.056019   \n",
       "5599       -0.713017        0.592939       -0.011575       -0.264888   \n",
       "5600       -0.645866       -0.956219       -0.412538       -0.009479   \n",
       "5601       -0.306589       -0.388687       -0.253951       -0.495196   \n",
       "5602       -0.383982       -0.223625        0.237206       -0.002064   \n",
       "\n",
       "      ute_yoy_202005  ute_yoy_202006  ute_yoy_202007  ute_yoy_202008  \\\n",
       "0           8.161710        9.564382        8.445182        9.534729   \n",
       "1           0.763182        0.803282        0.705219        0.612865   \n",
       "2           0.544966        0.603359        0.701976        0.860914   \n",
       "3           1.359498        4.483532        3.209738        3.610624   \n",
       "4          -0.347574       -0.358223       -0.444680       -0.195113   \n",
       "...              ...             ...             ...             ...   \n",
       "5598       -0.208661       -0.016479       -0.016868       -0.053453   \n",
       "5599       -0.184781       -0.192201        0.072452       -0.032143   \n",
       "5600       -0.122231        0.440339        0.402971       -0.053684   \n",
       "5601        0.323580        0.937525        0.437581       -0.111863   \n",
       "5602       -0.127644       -0.252368       -0.161938       -0.145000   \n",
       "\n",
       "      ute_yoy_202009  ute_yoy_202010  ute_yoy_202011  ute_yoy_202012  \n",
       "0           9.654081        9.592174        7.465347       11.412978  \n",
       "1           0.532416        0.529193        0.475881        0.490061  \n",
       "2           0.834944        0.913195        0.642812        0.596001  \n",
       "3           2.605537        0.027463        0.247827        0.246314  \n",
       "4           0.493660        0.309334       -0.596877       -0.230275  \n",
       "...              ...             ...             ...             ...  \n",
       "5598       -0.014108        0.019093        0.030880       -0.008438  \n",
       "5599        0.311067       -0.006571        0.014917       -0.207213  \n",
       "5600        0.239868        0.026481        0.442358        0.922466  \n",
       "5601       -0.167230       -0.135116       -0.053942        0.059380  \n",
       "5602       -0.281482       -0.574400       -0.574512        0.656992  \n",
       "\n",
       "[5603 rows x 12 columns]"
      ]
     },
     "execution_count": 780,
     "metadata": {},
     "output_type": "execute_result"
    }
   ],
   "source": [
    "g_finance[ute_yoy_1to12]"
   ]
  },
  {
   "cell_type": "markdown",
   "id": "70481ebc",
   "metadata": {},
   "source": [
    "##### 计算2020年4季度企业单位税收能耗环比增长率"
   ]
  },
  {
   "cell_type": "code",
   "execution_count": 781,
   "id": "679519da",
   "metadata": {},
   "outputs": [],
   "source": [
    "g_finance['2020年四季度环比增长率'] = ((g_finance['rdl_202010']+g_finance['rdl_202011']+g_finance['rdl_202012'])-(g_finance['rdl_202007']+g_finance['rdl_202008']+g_finance['rdl_202009']))/(g_finance['rdl_202007']+g_finance['rdl_202008']+g_finance['rdl_202009'])"
   ]
  },
  {
   "cell_type": "markdown",
   "id": "329b1922",
   "metadata": {},
   "source": [
    "##### 计算2020年3季度企业单位税收能耗环比增长率"
   ]
  },
  {
   "cell_type": "code",
   "execution_count": 782,
   "id": "563e8653",
   "metadata": {},
   "outputs": [],
   "source": [
    "g_finance['2020年三季度环比增长率'] = ((g_finance['rdl_202007']+g_finance['rdl_202008']+g_finance['rdl_202009'])-(g_finance['rdl_202004']+g_finance['rdl_202005']+g_finance['rdl_202006']))/(g_finance['rdl_202004']+g_finance['rdl_202005']+g_finance['rdl_202006'])"
   ]
  },
  {
   "cell_type": "markdown",
   "id": "76789a3f",
   "metadata": {},
   "source": [
    "##### 4.14计算2020年4季度企业单位税收能耗季度环比增长率偏离度"
   ]
  },
  {
   "cell_type": "code",
   "execution_count": 783,
   "id": "86f10cd3",
   "metadata": {},
   "outputs": [],
   "source": [
    "g_finance['最近一季度企业单位税收能耗季度环比增长率偏离度'] = round((g_finance['2020年四季度环比增长率']-g_finance['2020年三季度环比增长率'])/g_finance['2020年三季度环比增长率'],2)"
   ]
  },
  {
   "cell_type": "markdown",
   "id": "43819c56",
   "metadata": {},
   "source": [
    "##### 4.15计算2020年12月份企业单位税收能耗环比增长率偏离度"
   ]
  },
  {
   "cell_type": "code",
   "execution_count": 784,
   "id": "46759626",
   "metadata": {},
   "outputs": [],
   "source": [
    "g_finance['最近1个月企业单位税收能耗环比增长率偏离度'] = round((g_finance['ute_202011_12']-g_finance['ute_202010_11'])/g_finance['ute_202010_11'],2)"
   ]
  },
  {
   "cell_type": "markdown",
   "id": "6626c4af",
   "metadata": {},
   "source": [
    "##### 根据行业分组计算2020年12月份的行业单位税收能耗"
   ]
  },
  {
   "cell_type": "code",
   "execution_count": 785,
   "id": "980f3a5a",
   "metadata": {},
   "outputs": [],
   "source": [
    "g_trade_202012 = trade['rdl_202012'].sum()/(trade['20税收总额（万元）'].sum()/12)"
   ]
  },
  {
   "cell_type": "markdown",
   "id": "f6e00128",
   "metadata": {},
   "source": [
    "##### 4.16计算2020年12月份企业单位税收能耗与行业单位税收能耗的偏离值"
   ]
  },
  {
   "cell_type": "code",
   "execution_count": 786,
   "id": "ff876172",
   "metadata": {},
   "outputs": [],
   "source": [
    "g_finance['最近1个月企业单位税收能耗行业偏离度'] = round((g_finance['rdl_202012']/(g_finance['20税收总额（万元）']/12)-g_trade_202012[g_finance['制造业大类分类']].values)/g_trade_202012[g_finance['制造业大类分类']].values,2)"
   ]
  },
  {
   "cell_type": "code",
   "execution_count": 787,
   "id": "ba422d0c",
   "metadata": {},
   "outputs": [],
   "source": [
    "g_finance[['qymc','企业单位营业收入能耗','企业单位税收能耗','企业单位利润能耗','企业单位税收能耗等级','最近12个月内企业单位税收能耗月度同比增长率下降次数','最近12个月内企业单位税收能耗月度同比增长率算术平均值','最近12个月内企业单位税收能耗月度同比增长率较行业平均增长率的下降次数','最近12个月内企业单位税收能耗月度同比增长率方差','最近12个月内企业单位税收能耗月度环比增长率方差','最近一季度企业单位税收能耗季度环比增长率偏离度','最近1个月企业单位税收能耗环比增长率偏离度','最近1个月企业单位税收能耗行业偏离度']].to_excel('./计算结果集.xlsx')"
   ]
  },
  {
   "cell_type": "markdown",
   "id": "3a67e4de",
   "metadata": {},
   "source": [
    "## 二、评价"
   ]
  },
  {
   "cell_type": "code",
   "execution_count": 788,
   "id": "224da9be",
   "metadata": {},
   "outputs": [],
   "source": [
    "appraise = g_finance[['qymc','企业单位营业收入能耗','企业单位税收能耗','企业单位利润能耗','企业单位税收能耗等级','最近12个月内企业单位税收能耗月度同比增长率下降次数','最近12个月内企业单位税收能耗月度同比增长率算术平均值','最近12个月内企业单位税收能耗月度同比增长率较行业平均增长率的下降次数','最近12个月内企业单位税收能耗月度同比增长率方差','最近12个月内企业单位税收能耗月度环比增长率方差','最近一季度企业单位税收能耗季度环比增长率偏离度','最近1个月企业单位税收能耗环比增长率偏离度','最近1个月企业单位税收能耗行业偏离度']]"
   ]
  },
  {
   "cell_type": "markdown",
   "id": "41382f76",
   "metadata": {},
   "source": [
    "##### 标准化函数"
   ]
  },
  {
   "cell_type": "code",
   "execution_count": 789,
   "id": "1bc9d4a4",
   "metadata": {},
   "outputs": [],
   "source": [
    "def cal_appraise(target):\n",
    "    result = (appraise[target]-appraise[target].min())/(appraise[target].max()-appraise[target].min())\n",
    "    return result"
   ]
  },
  {
   "cell_type": "markdown",
   "id": "66facd04",
   "metadata": {},
   "source": [
    "##### 计算企业单位营业收入能耗评分"
   ]
  },
  {
   "cell_type": "code",
   "execution_count": 790,
   "id": "160f3521",
   "metadata": {},
   "outputs": [],
   "source": [
    "mean5 = appraise['企业单位营业收入能耗'].mean()\n",
    "std5 = appraise['企业单位营业收入能耗'].std()\n",
    "\n",
    "appraise.loc[appraise['企业单位营业收入能耗']>mean5+std5*3,'企业单位营业收入能耗'] = \\\n",
    "appraise.loc[appraise['企业单位营业收入能耗']<mean5+std5*3,'企业单位营业收入能耗'].max()\n",
    "\n",
    "appraise.loc[appraise['企业单位营业收入能耗']<mean5-std5*3,'企业单位营业收入能耗'] = \\\n",
    "appraise.loc[appraise['企业单位营业收入能耗']>mean5-std5*3,'企业单位营业收入能耗'].min()\n",
    "\n",
    "appraise['企业单位营业收入能耗标准化'] = cal_appraise('企业单位营业收入能耗')\n",
    "\n",
    "appraise['企业单位营业收入能耗得分'] = 0.1**appraise['企业单位营业收入能耗标准化']*100"
   ]
  },
  {
   "cell_type": "markdown",
   "id": "3d77098c",
   "metadata": {},
   "source": [
    "##### 计算企业单位税收能耗评分"
   ]
  },
  {
   "cell_type": "code",
   "execution_count": 791,
   "id": "948fbc61",
   "metadata": {},
   "outputs": [],
   "source": [
    "mean6 = appraise['企业单位税收能耗'].mean()\n",
    "std6 = appraise['企业单位税收能耗'].std()\n",
    "\n",
    "appraise.loc[appraise['企业单位税收能耗']>mean6+std6*3,'企业单位税收能耗'] = \\\n",
    "appraise.loc[appraise['企业单位税收能耗']<mean6+std6*3,'企业单位税收能耗'].max()\n",
    "\n",
    "appraise.loc[appraise['企业单位税收能耗']<mean6-std6*3,'企业单位税收能耗'] = \\\n",
    "appraise.loc[appraise['企业单位税收能耗']>mean6-std6*3,'企业单位税收能耗'].min()\n",
    "\n",
    "appraise['企业单位税收能耗标准化'] = cal_appraise('企业单位税收能耗')\n",
    "\n",
    "appraise['企业单位税收能耗得分'] = 0.1**appraise['企业单位税收能耗标准化']*100"
   ]
  },
  {
   "cell_type": "markdown",
   "id": "e89b0167",
   "metadata": {},
   "source": [
    "##### 计算企业单位利润能耗评分"
   ]
  },
  {
   "cell_type": "code",
   "execution_count": 792,
   "id": "421a1b09",
   "metadata": {},
   "outputs": [],
   "source": [
    "mean7 = appraise['企业单位利润能耗'].mean()\n",
    "std7 = appraise['企业单位利润能耗'].std()\n",
    "\n",
    "appraise.loc[(appraise['企业单位利润能耗']>mean7+std7*3) | (appraise['企业单位利润能耗']<0),'企业单位利润能耗'] = \\\n",
    "appraise.loc[appraise['企业单位利润能耗']<mean7+std7*3,'企业单位利润能耗'].max()\n",
    "\n",
    "appraise.loc[appraise['企业单位利润能耗']<mean7-std7*3,'企业单位利润能耗'] = \\\n",
    "appraise.loc[appraise['企业单位利润能耗']>mean7-std7*3,'企业单位利润能耗'].min()\n",
    "\n",
    "appraise['企业单位利润能耗标准化'] = cal_appraise('企业单位利润能耗')\n",
    "\n",
    "appraise['企业单位利润能耗得分'] = 0.1**appraise['企业单位利润能耗标准化']*100"
   ]
  },
  {
   "cell_type": "markdown",
   "id": "44c090a3",
   "metadata": {},
   "source": [
    "##### 计算企业单位税收能耗等级评分"
   ]
  },
  {
   "cell_type": "code",
   "execution_count": 793,
   "id": "1eb3bf10",
   "metadata": {},
   "outputs": [],
   "source": [
    "appraise['企业单位税收能耗等级得分'] = (pd.cut(appraise['企业单位税收能耗等级'],bins=[-1,0.4,0.8,1,2,100000000],labels=['100','80','60','40','20'])).astype('int32')"
   ]
  },
  {
   "cell_type": "markdown",
   "id": "58710e27",
   "metadata": {},
   "source": [
    "##### 计算最近12个月内企业单位税收能耗月度同比增长率下降次数评分"
   ]
  },
  {
   "cell_type": "code",
   "execution_count": 794,
   "id": "8eb15145",
   "metadata": {},
   "outputs": [],
   "source": [
    "appraise['最近12个月内企业单位税收能耗月度同比增长率下降次数得分'] = (pd.cut(appraise['最近12个月内企业单位税收能耗月度同比增长率下降次数'],bins=[-1,2,4,6,8,10,12],labels=['0','20','40','60','80','100'])).astype('int32')"
   ]
  },
  {
   "cell_type": "markdown",
   "id": "6993049a",
   "metadata": {},
   "source": [
    "##### 计算最近12个月内企业单位税收能耗月度同比增长率算术平均值评分"
   ]
  },
  {
   "cell_type": "code",
   "execution_count": 795,
   "id": "c9fb260f",
   "metadata": {},
   "outputs": [],
   "source": [
    "mean10 = appraise['最近12个月内企业单位税收能耗月度同比增长率算术平均值'].mean()\n",
    "std10 = appraise['最近12个月内企业单位税收能耗月度同比增长率算术平均值'].std()\n",
    "\n",
    "appraise.loc[appraise['最近12个月内企业单位税收能耗月度同比增长率算术平均值']>mean10+std10*3,'最近12个月内企业单位税收能耗月度同比增长率算术平均值'] = \\\n",
    "appraise.loc[appraise['最近12个月内企业单位税收能耗月度同比增长率算术平均值']<mean10+std10*3,'最近12个月内企业单位税收能耗月度同比增长率算术平均值'].max()\n",
    "\n",
    "appraise.loc[appraise['最近12个月内企业单位税收能耗月度同比增长率算术平均值']<mean10-std10*3,'最近12个月内企业单位税收能耗月度同比增长率算术平均值'] = \\\n",
    "appraise.loc[appraise['最近12个月内企业单位税收能耗月度同比增长率算术平均值']>mean10-std10*3,'最近12个月内企业单位税收能耗月度同比增长率算术平均值'].min()\n",
    "\n",
    "appraise['最近12个月内企业单位税收能耗月度同比增长率算术平均值标准化'] = cal_appraise('最近12个月内企业单位税收能耗月度同比增长率算术平均值')\n",
    "\n",
    "appraise['最近12个月内企业单位税收能耗月度同比增长率算术平均值得分'] = 0.1**appraise['最近12个月内企业单位税收能耗月度同比增长率算术平均值标准化']*100"
   ]
  },
  {
   "cell_type": "markdown",
   "id": "bc7b6bd2",
   "metadata": {},
   "source": [
    "##### 计算最近12个月内企业单位税收能耗月度同比增长率较行业平均增长率的下降次数评分"
   ]
  },
  {
   "cell_type": "code",
   "execution_count": 796,
   "id": "090b6af8",
   "metadata": {},
   "outputs": [],
   "source": [
    "appraise['最近12个月内企业单位税收能耗月度同比增长率较行业平均增长率的下降次数得分'] = (pd.cut(appraise['最近12个月内企业单位税收能耗月度同比增长率较行业平均增长率的下降次数'],bins=[-1,2,4,6,8,10,12],labels=['0','20','40','60','80','100'])).astype('int32')"
   ]
  },
  {
   "cell_type": "markdown",
   "id": "65b33b09",
   "metadata": {},
   "source": [
    "##### 计算最近12个月内企业单位税收能耗月度同比增长率方差评分"
   ]
  },
  {
   "cell_type": "code",
   "execution_count": 797,
   "id": "483e1705",
   "metadata": {},
   "outputs": [],
   "source": [
    "mean12 = appraise['最近12个月内企业单位税收能耗月度同比增长率方差'].mean()\n",
    "std12 = appraise['最近12个月内企业单位税收能耗月度同比增长率方差'].std()\n",
    "\n",
    "appraise.loc[appraise['最近12个月内企业单位税收能耗月度同比增长率方差']>mean12+std12*3,'最近12个月内企业单位税收能耗月度同比增长率方差'] = \\\n",
    "appraise.loc[appraise['最近12个月内企业单位税收能耗月度同比增长率方差']<mean12+std12*3,'最近12个月内企业单位税收能耗月度同比增长率方差'].max()\n",
    "\n",
    "appraise.loc[appraise['最近12个月内企业单位税收能耗月度同比增长率方差']<mean12-std12*3,'最近12个月内企业单位税收能耗月度同比增长率方差'] = \\\n",
    "appraise.loc[appraise['最近12个月内企业单位税收能耗月度同比增长率方差']>mean12-std12*3,'最近12个月内企业单位税收能耗月度同比增长率方差'].min()\n",
    "\n",
    "appraise['最近12个月内企业单位税收能耗月度同比增长率方差标准化'] = cal_appraise('最近12个月内企业单位税收能耗月度同比增长率方差')\n",
    "\n",
    "appraise['最近12个月内企业单位税收能耗月度同比增长率方差得分'] = 0.1**appraise['最近12个月内企业单位税收能耗月度同比增长率方差标准化']*100"
   ]
  },
  {
   "cell_type": "markdown",
   "id": "e7847058",
   "metadata": {},
   "source": [
    "##### 计算最近12个月内企业单位税收能耗月度环比增长率方差评分"
   ]
  },
  {
   "cell_type": "code",
   "execution_count": 798,
   "id": "784f0f76",
   "metadata": {},
   "outputs": [],
   "source": [
    "mean13 = appraise['最近12个月内企业单位税收能耗月度环比增长率方差'].mean()\n",
    "std13 = appraise['最近12个月内企业单位税收能耗月度环比增长率方差'].std()\n",
    "\n",
    "appraise.loc[appraise['最近12个月内企业单位税收能耗月度环比增长率方差']>mean13+std13*3,'最近12个月内企业单位税收能耗月度环比增长率方差'] = \\\n",
    "appraise.loc[appraise['最近12个月内企业单位税收能耗月度环比增长率方差']<mean13+std13*3,'最近12个月内企业单位税收能耗月度环比增长率方差'].max()\n",
    "\n",
    "appraise.loc[appraise['最近12个月内企业单位税收能耗月度环比增长率方差']<mean13-std13*3,'最近12个月内企业单位税收能耗月度环比增长率方差'] = \\\n",
    "appraise.loc[appraise['最近12个月内企业单位税收能耗月度环比增长率方差']>mean13-std13*3,'最近12个月内企业单位税收能耗月度环比增长率方差'].min()\n",
    "\n",
    "appraise['最近12个月内企业单位税收能耗月度环比增长率方差标准化'] = cal_appraise('最近12个月内企业单位税收能耗月度环比增长率方差')\n",
    "\n",
    "appraise['最近12个月内企业单位税收能耗月度环比增长率方差得分'] = 0.1**appraise['最近12个月内企业单位税收能耗月度环比增长率方差标准化']*100"
   ]
  },
  {
   "cell_type": "markdown",
   "id": "f8e508ff",
   "metadata": {},
   "source": [
    "##### 计算最近一季度企业单位税收能耗季度环比增长率偏离度评分"
   ]
  },
  {
   "cell_type": "code",
   "execution_count": 799,
   "id": "06293b83",
   "metadata": {},
   "outputs": [],
   "source": [
    "mean14 = appraise['最近一季度企业单位税收能耗季度环比增长率偏离度'].mean()\n",
    "std14 = appraise['最近一季度企业单位税收能耗季度环比增长率偏离度'].std()\n",
    "\n",
    "appraise.loc[appraise['最近一季度企业单位税收能耗季度环比增长率偏离度']>mean14+std14*3,'最近一季度企业单位税收能耗季度环比增长率偏离度'] = \\\n",
    "appraise.loc[appraise['最近一季度企业单位税收能耗季度环比增长率偏离度']<mean14+std14*3,'最近一季度企业单位税收能耗季度环比增长率偏离度'].max()\n",
    "\n",
    "appraise.loc[appraise['最近一季度企业单位税收能耗季度环比增长率偏离度']<mean14-std14*3,'最近一季度企业单位税收能耗季度环比增长率偏离度'] = \\\n",
    "appraise.loc[appraise['最近一季度企业单位税收能耗季度环比增长率偏离度']>mean14-std14*3,'最近一季度企业单位税收能耗季度环比增长率偏离度'].min()\n",
    "\n",
    "appraise['最近一季度企业单位税收能耗季度环比增长率偏离度标准化'] = cal_appraise('最近一季度企业单位税收能耗季度环比增长率偏离度')\n",
    "\n",
    "appraise['最近一季度企业单位税收能耗季度环比增长率偏离度得分'] = 0.1**appraise['最近一季度企业单位税收能耗季度环比增长率偏离度标准化']*100"
   ]
  },
  {
   "cell_type": "markdown",
   "id": "6cfead15",
   "metadata": {},
   "source": [
    "##### 计算最近1个月企业单位税收能耗环比增长率偏离度评分"
   ]
  },
  {
   "cell_type": "code",
   "execution_count": 800,
   "id": "eb96928c",
   "metadata": {},
   "outputs": [],
   "source": [
    "mean15 = appraise['最近1个月企业单位税收能耗环比增长率偏离度'].mean()\n",
    "std15 = appraise['最近1个月企业单位税收能耗环比增长率偏离度'].std()\n",
    "\n",
    "appraise.loc[appraise['最近1个月企业单位税收能耗环比增长率偏离度']>mean15+std15*3,'最近1个月企业单位税收能耗环比增长率偏离度'] = \\\n",
    "appraise.loc[appraise['最近1个月企业单位税收能耗环比增长率偏离度']<mean15+std15*3,'最近1个月企业单位税收能耗环比增长率偏离度'].max()\n",
    "\n",
    "appraise.loc[appraise['最近1个月企业单位税收能耗环比增长率偏离度']<mean15-std15*3,'最近1个月企业单位税收能耗环比增长率偏离度'] = \\\n",
    "appraise.loc[appraise['最近1个月企业单位税收能耗环比增长率偏离度']>mean15-std15*3,'最近1个月企业单位税收能耗环比增长率偏离度'].min()\n",
    "\n",
    "appraise['最近1个月企业单位税收能耗环比增长率偏离度标准化'] = cal_appraise('最近1个月企业单位税收能耗环比增长率偏离度')\n",
    "\n",
    "appraise['最近1个月企业单位税收能耗环比增长率偏离度得分'] = 0.1**appraise['最近1个月企业单位税收能耗环比增长率偏离度标准化']*100"
   ]
  },
  {
   "cell_type": "markdown",
   "id": "ca6e88fe",
   "metadata": {},
   "source": [
    "##### 计算最近1个月企业单位税收能耗行业偏离度评分"
   ]
  },
  {
   "cell_type": "code",
   "execution_count": 801,
   "id": "035f95e1",
   "metadata": {},
   "outputs": [],
   "source": [
    "mean16 = appraise['最近1个月企业单位税收能耗行业偏离度'].mean()\n",
    "std16 = appraise['最近1个月企业单位税收能耗行业偏离度'].std()\n",
    "\n",
    "appraise.loc[appraise['最近1个月企业单位税收能耗行业偏离度']>mean16+std16*3,'最近1个月企业单位税收能耗行业偏离度'] = \\\n",
    "appraise.loc[appraise['最近1个月企业单位税收能耗行业偏离度']<mean16+std16*3,'最近1个月企业单位税收能耗行业偏离度'].max()\n",
    "\n",
    "appraise.loc[appraise['最近1个月企业单位税收能耗行业偏离度']<mean16-std16*3,'最近1个月企业单位税收能耗行业偏离度'] = \\\n",
    "appraise.loc[appraise['最近1个月企业单位税收能耗行业偏离度']>mean16-std16*3,'最近1个月企业单位税收能耗行业偏离度'].min()\n",
    "\n",
    "appraise['最近1个月企业单位税收能耗行业偏离度标准化'] = cal_appraise('最近1个月企业单位税收能耗行业偏离度')\n",
    "\n",
    "appraise['最近1个月企业单位税收能耗行业偏离度得分'] = 0.1**appraise['最近1个月企业单位税收能耗行业偏离度标准化']*100"
   ]
  },
  {
   "cell_type": "code",
   "execution_count": 802,
   "id": "5d1366f0",
   "metadata": {},
   "outputs": [],
   "source": [
    "appraise['企业能耗强度评价得分'] = appraise['企业单位营业收入能耗得分']*0.167 + appraise['企业单位税收能耗得分']*0.167 + appraise['企业单位利润能耗得分']*0.167+appraise['企业单位税收能耗等级得分']*0.5\n",
    "appraise['企业能耗趋势性评价得分'] = appraise['最近12个月内企业单位税收能耗月度同比增长率下降次数得分']*0.333 + appraise['最近12个月内企业单位税收能耗月度同比增长率算术平均值得分']*0.333 + appraise['最近12个月内企业单位税收能耗月度同比增长率较行业平均增长率的下降次数得分']*0.333\n",
    "appraise['企业能耗稳定性评价得分'] = appraise['最近12个月内企业单位税收能耗月度同比增长率方差得分']*0.2 + appraise['最近12个月内企业单位税收能耗月度环比增长率方差得分']*0.2 + appraise['最近一季度企业单位税收能耗季度环比增长率偏离度得分']*0.2 + appraise['最近1个月企业单位税收能耗环比增长率偏离度得分']*0.2 + appraise['最近1个月企业单位税收能耗行业偏离度得分']*0.2"
   ]
  },
  {
   "cell_type": "code",
   "execution_count": 803,
   "id": "3adeaf91",
   "metadata": {},
   "outputs": [],
   "source": [
    "appraise['企业能耗评价总分'] = appraise['企业能耗强度评价得分']*0.5 + appraise['企业能耗趋势性评价得分']*0.25 + appraise['企业能耗稳定性评价得分']*0.25"
   ]
  },
  {
   "cell_type": "code",
   "execution_count": 804,
   "id": "6f81536d",
   "metadata": {},
   "outputs": [
    {
     "data": {
      "text/plain": [
       "<AxesSubplot:>"
      ]
     },
     "execution_count": 804,
     "metadata": {},
     "output_type": "execute_result"
    },
    {
     "data": {
      "image/png": "[encoded data removed]",
      "text/plain": [
       "<Figure size 432x288 with 1 Axes>"
      ]
     },
     "metadata": {
      "needs_background": "light"
     },
     "output_type": "display_data"
    }
   ],
   "source": [
    "appraise['企业能耗评价总分'].hist()"
   ]
  },
  {
   "cell_type": "code",
   "execution_count": 805,
   "id": "552944f9",
   "metadata": {},
   "outputs": [],
   "source": [
    "appraise[['qymc','企业单位营业收入能耗得分','企业单位税收能耗得分','企业单位利润能耗得分','企业单位税收能耗等级得分','最近12个月内企业单位税收能耗月度同比增长率下降次数得分','最近12个月内企业单位税收能耗月度同比增长率算术平均值得分','最近12个月内企业单位税收能耗月度同比增长率较行业平均增长率的下降次数得分','最近12个月内企业单位税收能耗月度同比增长率方差得分','最近12个月内企业单位税收能耗月度环比增长率方差得分','最近一季度企业单位税收能耗季度环比增长率偏离度得分','最近1个月企业单位税收能耗环比增长率偏离度得分','最近1个月企业单位税收能耗行业偏离度得分','企业能耗强度评价得分','企业能耗趋势性评价得分','企业能耗稳定性评价得分','企业能耗评价总分']].to_excel('./评分结果集.xlsx')"
   ]
  },
  {
   "cell_type": "code",
   "execution_count": null,
   "id": "ee47d82f",
   "metadata": {},
   "outputs": [],
   "source": []
  }
 ],
 "metadata": {
  "kernelspec": {
   "display_name": "Python 3",
   "language": "python",
   "name": "python3"
  },
  "language_info": {
   "codemirror_mode": {
    "name": "ipython",
    "version": 3
   },
   "file_extension": ".py",
   "mimetype": "text/x-python",
   "name": "python",
   "nbconvert_exporter": "python",
   "pygments_lexer": "ipython3",
   "version": "3.8.8"
  }
 },
 "nbformat": 4,
 "nbformat_minor": 5
}
