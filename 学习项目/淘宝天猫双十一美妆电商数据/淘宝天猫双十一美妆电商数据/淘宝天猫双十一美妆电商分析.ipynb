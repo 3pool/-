{
 "cells": [
  {
   "cell_type": "code",
   "execution_count": 1,
   "id": "85ac0f36",
   "metadata": {},
   "outputs": [],
   "source": [
    "import numpy as np\n",
    "import pandas as pd\n",
    "from pandas import Series,DataFrame\n",
    "\n",
    "import matplotlib.pyplot as plt\n",
    "from pyecharts import *"
   ]
  },
  {
   "cell_type": "markdown",
   "id": "d4627c2b",
   "metadata": {},
   "source": [
    "### 1、读取数据"
   ]
  },
  {
   "cell_type": "code",
   "execution_count": 2,
   "id": "71cadedb",
   "metadata": {},
   "outputs": [
    {
     "data": {
      "text/html": [
       "<div>\n",
       "<style scoped>\n",
       "    .dataframe tbody tr th:only-of-type {\n",
       "        vertical-align: middle;\n",
       "    }\n",
       "\n",
       "    .dataframe tbody tr th {\n",
       "        vertical-align: top;\n",
       "    }\n",
       "\n",
       "    .dataframe thead th {\n",
       "        text-align: right;\n",
       "    }\n",
       "</style>\n",
       "<table border=\"1\" class=\"dataframe\">\n",
       "  <thead>\n",
       "    <tr style=\"text-align: right;\">\n",
       "      <th></th>\n",
       "      <th>update_time</th>\n",
       "      <th>id</th>\n",
       "      <th>title</th>\n",
       "      <th>price</th>\n",
       "      <th>sale_count</th>\n",
       "      <th>comment_count</th>\n",
       "      <th>店名</th>\n",
       "    </tr>\n",
       "  </thead>\n",
       "  <tbody>\n",
       "    <tr>\n",
       "      <th>0</th>\n",
       "      <td>2016/11/14</td>\n",
       "      <td>A18164178225</td>\n",
       "      <td>CHANDO/自然堂 雪域精粹纯粹滋润霜50g 补水保湿 滋润水润面霜</td>\n",
       "      <td>139.0</td>\n",
       "      <td>26719.0</td>\n",
       "      <td>2704.0</td>\n",
       "      <td>自然堂</td>\n",
       "    </tr>\n",
       "    <tr>\n",
       "      <th>1</th>\n",
       "      <td>2016/11/14</td>\n",
       "      <td>A18177105952</td>\n",
       "      <td>CHANDO/自然堂凝时鲜颜肌活乳液120ML 淡化细纹补水滋润专柜正品</td>\n",
       "      <td>194.0</td>\n",
       "      <td>8122.0</td>\n",
       "      <td>1492.0</td>\n",
       "      <td>自然堂</td>\n",
       "    </tr>\n",
       "    <tr>\n",
       "      <th>2</th>\n",
       "      <td>2016/11/14</td>\n",
       "      <td>A18177226992</td>\n",
       "      <td>CHANDO/自然堂活泉保湿修护精华水（滋润型135ml 补水控油爽肤水</td>\n",
       "      <td>99.0</td>\n",
       "      <td>12668.0</td>\n",
       "      <td>589.0</td>\n",
       "      <td>自然堂</td>\n",
       "    </tr>\n",
       "    <tr>\n",
       "      <th>3</th>\n",
       "      <td>2016/11/14</td>\n",
       "      <td>A18178033846</td>\n",
       "      <td>CHANDO/自然堂 男士劲爽控油洁面膏 100g 深层清洁  男士洗面奶</td>\n",
       "      <td>38.0</td>\n",
       "      <td>25805.0</td>\n",
       "      <td>4287.0</td>\n",
       "      <td>自然堂</td>\n",
       "    </tr>\n",
       "    <tr>\n",
       "      <th>4</th>\n",
       "      <td>2016/11/14</td>\n",
       "      <td>A18178045259</td>\n",
       "      <td>CHANDO/自然堂雪域精粹纯粹滋润霜（清爽型）50g补水保湿滋润霜</td>\n",
       "      <td>139.0</td>\n",
       "      <td>5196.0</td>\n",
       "      <td>618.0</td>\n",
       "      <td>自然堂</td>\n",
       "    </tr>\n",
       "    <tr>\n",
       "      <th>...</th>\n",
       "      <td>...</td>\n",
       "      <td>...</td>\n",
       "      <td>...</td>\n",
       "      <td>...</td>\n",
       "      <td>...</td>\n",
       "      <td>...</td>\n",
       "      <td>...</td>\n",
       "    </tr>\n",
       "    <tr>\n",
       "      <th>27593</th>\n",
       "      <td>2016/11/5</td>\n",
       "      <td>A535642405757</td>\n",
       "      <td>SK-II【11-11】全新大眼眼霜skii放大双眼眼部修护精华紧致</td>\n",
       "      <td>590.0</td>\n",
       "      <td>NaN</td>\n",
       "      <td>NaN</td>\n",
       "      <td>SKII</td>\n",
       "    </tr>\n",
       "    <tr>\n",
       "      <th>27594</th>\n",
       "      <td>2016/11/5</td>\n",
       "      <td>A535911851408</td>\n",
       "      <td>SK-II 11-11预售skii大眼眼霜sk2眼部修护精华霜淡化黑眼圈</td>\n",
       "      <td>590.0</td>\n",
       "      <td>NaN</td>\n",
       "      <td>NaN</td>\n",
       "      <td>SKII</td>\n",
       "    </tr>\n",
       "    <tr>\n",
       "      <th>27595</th>\n",
       "      <td>2016/11/5</td>\n",
       "      <td>A537027211850</td>\n",
       "      <td>SK-II 11-11预售skii前男友护肤面膜sk2精华面膜贴密集修护</td>\n",
       "      <td>1740.0</td>\n",
       "      <td>NaN</td>\n",
       "      <td>NaN</td>\n",
       "      <td>SKII</td>\n",
       "    </tr>\n",
       "    <tr>\n",
       "      <th>27596</th>\n",
       "      <td>2016/11/5</td>\n",
       "      <td>A538212160126</td>\n",
       "      <td>SK-II 11-11预售skiisk2神仙水护肤精华油面部套装滋润补水密集修</td>\n",
       "      <td>1190.0</td>\n",
       "      <td>NaN</td>\n",
       "      <td>NaN</td>\n",
       "      <td>SKII</td>\n",
       "    </tr>\n",
       "    <tr>\n",
       "      <th>27597</th>\n",
       "      <td>2016/11/5</td>\n",
       "      <td>A538677326709</td>\n",
       "      <td>SK-II【11-11】神仙水护肤精华油面部套装滋润补水密集修</td>\n",
       "      <td>1190.0</td>\n",
       "      <td>NaN</td>\n",
       "      <td>NaN</td>\n",
       "      <td>SKII</td>\n",
       "    </tr>\n",
       "  </tbody>\n",
       "</table>\n",
       "<p>27598 rows × 7 columns</p>\n",
       "</div>"
      ],
      "text/plain": [
       "      update_time             id                                    title   price  sale_count  comment_count    店名\n",
       "0      2016/11/14   A18164178225      CHANDO/自然堂 雪域精粹纯粹滋润霜50g 补水保湿 滋润水润面霜   139.0     26719.0         2704.0   自然堂\n",
       "1      2016/11/14   A18177105952     CHANDO/自然堂凝时鲜颜肌活乳液120ML 淡化细纹补水滋润专柜正品   194.0      8122.0         1492.0   自然堂\n",
       "2      2016/11/14   A18177226992     CHANDO/自然堂活泉保湿修护精华水（滋润型135ml 补水控油爽肤水    99.0     12668.0          589.0   自然堂\n",
       "3      2016/11/14   A18178033846    CHANDO/自然堂 男士劲爽控油洁面膏 100g 深层清洁  男士洗面奶    38.0     25805.0         4287.0   自然堂\n",
       "4      2016/11/14   A18178045259       CHANDO/自然堂雪域精粹纯粹滋润霜（清爽型）50g补水保湿滋润霜   139.0      5196.0          618.0   自然堂\n",
       "...           ...            ...                                      ...     ...         ...            ...   ...\n",
       "27593   2016/11/5  A535642405757       SK-II【11-11】全新大眼眼霜skii放大双眼眼部修护精华紧致   590.0         NaN            NaN  SKII\n",
       "27594   2016/11/5  A535911851408     SK-II 11-11预售skii大眼眼霜sk2眼部修护精华霜淡化黑眼圈   590.0         NaN            NaN  SKII\n",
       "27595   2016/11/5  A537027211850     SK-II 11-11预售skii前男友护肤面膜sk2精华面膜贴密集修护  1740.0         NaN            NaN  SKII\n",
       "27596   2016/11/5  A538212160126  SK-II 11-11预售skiisk2神仙水护肤精华油面部套装滋润补水密集修  1190.0         NaN            NaN  SKII\n",
       "27597   2016/11/5  A538677326709          SK-II【11-11】神仙水护肤精华油面部套装滋润补水密集修  1190.0         NaN            NaN  SKII\n",
       "\n",
       "[27598 rows x 7 columns]"
      ]
     },
     "execution_count": 2,
     "metadata": {},
     "output_type": "execute_result"
    }
   ],
   "source": [
    "data = pd.read_csv('beautymakeup.csv')\n",
    "data"
   ]
  },
  {
   "cell_type": "markdown",
   "id": "5e6e6f79",
   "metadata": {},
   "source": [
    "###  2、数据信息"
   ]
  },
  {
   "cell_type": "code",
   "execution_count": 3,
   "id": "340e0dd1",
   "metadata": {},
   "outputs": [
    {
     "name": "stdout",
     "output_type": "stream",
     "text": [
      "<class 'pandas.core.frame.DataFrame'>\n",
      "RangeIndex: 27598 entries, 0 to 27597\n",
      "Data columns (total 7 columns):\n",
      " #   Column         Non-Null Count  Dtype  \n",
      "---  ------         --------------  -----  \n",
      " 0   update_time    27598 non-null  object \n",
      " 1   id             27598 non-null  object \n",
      " 2   title          27598 non-null  object \n",
      " 3   price          27598 non-null  float64\n",
      " 4   sale_count     25244 non-null  float64\n",
      " 5   comment_count  25244 non-null  float64\n",
      " 6   店名             27598 non-null  object \n",
      "dtypes: float64(3), object(4)\n",
      "memory usage: 1.5+ MB\n"
     ]
    }
   ],
   "source": [
    "data.info()"
   ]
  },
  {
   "cell_type": "code",
   "execution_count": 5,
   "id": "612d6afe",
   "metadata": {},
   "outputs": [
    {
     "data": {
      "text/plain": [
       "悦诗风吟    3021\n",
       "佰草集     2265\n",
       "欧莱雅     1974\n",
       "雅诗兰黛    1810\n",
       "倩碧      1704\n",
       "美加净     1678\n",
       "欧珀莱     1359\n",
       "妮维雅     1329\n",
       "相宜本草    1313\n",
       "兰蔻      1285\n",
       "娇兰      1193\n",
       "自然堂     1190\n",
       "玉兰油     1135\n",
       "兰芝      1091\n",
       "美宝莲      825\n",
       "资生堂      821\n",
       "植村秀      750\n",
       "薇姿       746\n",
       "雅漾       663\n",
       "雪花秀      543\n",
       "SKII     469\n",
       "蜜丝佛陀     434\n",
       "Name: 店名, dtype: int64"
      ]
     },
     "execution_count": 5,
     "metadata": {},
     "output_type": "execute_result"
    }
   ],
   "source": [
    "data.店名.value_counts()"
   ]
  },
  {
   "cell_type": "markdown",
   "id": "adf61fbc",
   "metadata": {},
   "source": [
    "### 3、 数据清洗"
   ]
  },
  {
   "cell_type": "code",
   "execution_count": 7,
   "id": "b0d64f77",
   "metadata": {},
   "outputs": [
    {
     "data": {
      "text/plain": [
       "False    27512\n",
       "True        86\n",
       "dtype: int64"
      ]
     },
     "execution_count": 7,
     "metadata": {},
     "output_type": "execute_result"
    }
   ],
   "source": [
    "data.duplicated().value_counts()"
   ]
  },
  {
   "cell_type": "code",
   "execution_count": 9,
   "id": "4f847b8d",
   "metadata": {},
   "outputs": [],
   "source": [
    "# 重复数据不算多， 去重，可以丢弃\n",
    "data = data.drop_duplicates()"
   ]
  },
  {
   "cell_type": "code",
   "execution_count": 11,
   "id": "89601db7",
   "metadata": {},
   "outputs": [
    {
     "data": {
      "text/plain": [
       "(27512, 7)"
      ]
     },
     "execution_count": 11,
     "metadata": {},
     "output_type": "execute_result"
    }
   ],
   "source": [
    "data.shape"
   ]
  },
  {
   "cell_type": "code",
   "execution_count": 15,
   "id": "4fa666b8",
   "metadata": {},
   "outputs": [],
   "source": [
    "data.reset_index(drop=True , inplace=True)"
   ]
  },
  {
   "cell_type": "code",
   "execution_count": 16,
   "id": "f6733ac1",
   "metadata": {},
   "outputs": [
    {
     "data": {
      "text/html": [
       "<div>\n",
       "<style scoped>\n",
       "    .dataframe tbody tr th:only-of-type {\n",
       "        vertical-align: middle;\n",
       "    }\n",
       "\n",
       "    .dataframe tbody tr th {\n",
       "        vertical-align: top;\n",
       "    }\n",
       "\n",
       "    .dataframe thead th {\n",
       "        text-align: right;\n",
       "    }\n",
       "</style>\n",
       "<table border=\"1\" class=\"dataframe\">\n",
       "  <thead>\n",
       "    <tr style=\"text-align: right;\">\n",
       "      <th></th>\n",
       "      <th>update_time</th>\n",
       "      <th>id</th>\n",
       "      <th>title</th>\n",
       "      <th>price</th>\n",
       "      <th>sale_count</th>\n",
       "      <th>comment_count</th>\n",
       "      <th>店名</th>\n",
       "    </tr>\n",
       "  </thead>\n",
       "  <tbody>\n",
       "    <tr>\n",
       "      <th>0</th>\n",
       "      <td>2016/11/14</td>\n",
       "      <td>A18164178225</td>\n",
       "      <td>CHANDO/自然堂 雪域精粹纯粹滋润霜50g 补水保湿 滋润水润面霜</td>\n",
       "      <td>139.0</td>\n",
       "      <td>26719.0</td>\n",
       "      <td>2704.0</td>\n",
       "      <td>自然堂</td>\n",
       "    </tr>\n",
       "    <tr>\n",
       "      <th>1</th>\n",
       "      <td>2016/11/14</td>\n",
       "      <td>A18177105952</td>\n",
       "      <td>CHANDO/自然堂凝时鲜颜肌活乳液120ML 淡化细纹补水滋润专柜正品</td>\n",
       "      <td>194.0</td>\n",
       "      <td>8122.0</td>\n",
       "      <td>1492.0</td>\n",
       "      <td>自然堂</td>\n",
       "    </tr>\n",
       "    <tr>\n",
       "      <th>2</th>\n",
       "      <td>2016/11/14</td>\n",
       "      <td>A18177226992</td>\n",
       "      <td>CHANDO/自然堂活泉保湿修护精华水（滋润型135ml 补水控油爽肤水</td>\n",
       "      <td>99.0</td>\n",
       "      <td>12668.0</td>\n",
       "      <td>589.0</td>\n",
       "      <td>自然堂</td>\n",
       "    </tr>\n",
       "    <tr>\n",
       "      <th>3</th>\n",
       "      <td>2016/11/14</td>\n",
       "      <td>A18178033846</td>\n",
       "      <td>CHANDO/自然堂 男士劲爽控油洁面膏 100g 深层清洁  男士洗面奶</td>\n",
       "      <td>38.0</td>\n",
       "      <td>25805.0</td>\n",
       "      <td>4287.0</td>\n",
       "      <td>自然堂</td>\n",
       "    </tr>\n",
       "    <tr>\n",
       "      <th>4</th>\n",
       "      <td>2016/11/14</td>\n",
       "      <td>A18178045259</td>\n",
       "      <td>CHANDO/自然堂雪域精粹纯粹滋润霜（清爽型）50g补水保湿滋润霜</td>\n",
       "      <td>139.0</td>\n",
       "      <td>5196.0</td>\n",
       "      <td>618.0</td>\n",
       "      <td>自然堂</td>\n",
       "    </tr>\n",
       "    <tr>\n",
       "      <th>...</th>\n",
       "      <td>...</td>\n",
       "      <td>...</td>\n",
       "      <td>...</td>\n",
       "      <td>...</td>\n",
       "      <td>...</td>\n",
       "      <td>...</td>\n",
       "      <td>...</td>\n",
       "    </tr>\n",
       "    <tr>\n",
       "      <th>27507</th>\n",
       "      <td>2016/11/5</td>\n",
       "      <td>A535642405757</td>\n",
       "      <td>SK-II【11-11】全新大眼眼霜skii放大双眼眼部修护精华紧致</td>\n",
       "      <td>590.0</td>\n",
       "      <td>NaN</td>\n",
       "      <td>NaN</td>\n",
       "      <td>SKII</td>\n",
       "    </tr>\n",
       "    <tr>\n",
       "      <th>27508</th>\n",
       "      <td>2016/11/5</td>\n",
       "      <td>A535911851408</td>\n",
       "      <td>SK-II 11-11预售skii大眼眼霜sk2眼部修护精华霜淡化黑眼圈</td>\n",
       "      <td>590.0</td>\n",
       "      <td>NaN</td>\n",
       "      <td>NaN</td>\n",
       "      <td>SKII</td>\n",
       "    </tr>\n",
       "    <tr>\n",
       "      <th>27509</th>\n",
       "      <td>2016/11/5</td>\n",
       "      <td>A537027211850</td>\n",
       "      <td>SK-II 11-11预售skii前男友护肤面膜sk2精华面膜贴密集修护</td>\n",
       "      <td>1740.0</td>\n",
       "      <td>NaN</td>\n",
       "      <td>NaN</td>\n",
       "      <td>SKII</td>\n",
       "    </tr>\n",
       "    <tr>\n",
       "      <th>27510</th>\n",
       "      <td>2016/11/5</td>\n",
       "      <td>A538212160126</td>\n",
       "      <td>SK-II 11-11预售skiisk2神仙水护肤精华油面部套装滋润补水密集修</td>\n",
       "      <td>1190.0</td>\n",
       "      <td>NaN</td>\n",
       "      <td>NaN</td>\n",
       "      <td>SKII</td>\n",
       "    </tr>\n",
       "    <tr>\n",
       "      <th>27511</th>\n",
       "      <td>2016/11/5</td>\n",
       "      <td>A538677326709</td>\n",
       "      <td>SK-II【11-11】神仙水护肤精华油面部套装滋润补水密集修</td>\n",
       "      <td>1190.0</td>\n",
       "      <td>NaN</td>\n",
       "      <td>NaN</td>\n",
       "      <td>SKII</td>\n",
       "    </tr>\n",
       "  </tbody>\n",
       "</table>\n",
       "<p>27512 rows × 7 columns</p>\n",
       "</div>"
      ],
      "text/plain": [
       "      update_time             id                                    title   price  sale_count  comment_count    店名\n",
       "0      2016/11/14   A18164178225      CHANDO/自然堂 雪域精粹纯粹滋润霜50g 补水保湿 滋润水润面霜   139.0     26719.0         2704.0   自然堂\n",
       "1      2016/11/14   A18177105952     CHANDO/自然堂凝时鲜颜肌活乳液120ML 淡化细纹补水滋润专柜正品   194.0      8122.0         1492.0   自然堂\n",
       "2      2016/11/14   A18177226992     CHANDO/自然堂活泉保湿修护精华水（滋润型135ml 补水控油爽肤水    99.0     12668.0          589.0   自然堂\n",
       "3      2016/11/14   A18178033846    CHANDO/自然堂 男士劲爽控油洁面膏 100g 深层清洁  男士洗面奶    38.0     25805.0         4287.0   自然堂\n",
       "4      2016/11/14   A18178045259       CHANDO/自然堂雪域精粹纯粹滋润霜（清爽型）50g补水保湿滋润霜   139.0      5196.0          618.0   自然堂\n",
       "...           ...            ...                                      ...     ...         ...            ...   ...\n",
       "27507   2016/11/5  A535642405757       SK-II【11-11】全新大眼眼霜skii放大双眼眼部修护精华紧致   590.0         NaN            NaN  SKII\n",
       "27508   2016/11/5  A535911851408     SK-II 11-11预售skii大眼眼霜sk2眼部修护精华霜淡化黑眼圈   590.0         NaN            NaN  SKII\n",
       "27509   2016/11/5  A537027211850     SK-II 11-11预售skii前男友护肤面膜sk2精华面膜贴密集修护  1740.0         NaN            NaN  SKII\n",
       "27510   2016/11/5  A538212160126  SK-II 11-11预售skiisk2神仙水护肤精华油面部套装滋润补水密集修  1190.0         NaN            NaN  SKII\n",
       "27511   2016/11/5  A538677326709          SK-II【11-11】神仙水护肤精华油面部套装滋润补水密集修  1190.0         NaN            NaN  SKII\n",
       "\n",
       "[27512 rows x 7 columns]"
      ]
     },
     "execution_count": 16,
     "metadata": {},
     "output_type": "execute_result"
    }
   ],
   "source": [
    "data"
   ]
  },
  {
   "cell_type": "code",
   "execution_count": 17,
   "id": "635e1ef1",
   "metadata": {},
   "outputs": [
    {
     "name": "stdout",
     "output_type": "stream",
     "text": [
      "<class 'pandas.core.frame.DataFrame'>\n",
      "RangeIndex: 27512 entries, 0 to 27511\n",
      "Data columns (total 7 columns):\n",
      " #   Column         Non-Null Count  Dtype  \n",
      "---  ------         --------------  -----  \n",
      " 0   update_time    27512 non-null  object \n",
      " 1   id             27512 non-null  object \n",
      " 2   title          27512 non-null  object \n",
      " 3   price          27512 non-null  float64\n",
      " 4   sale_count     25162 non-null  float64\n",
      " 5   comment_count  25162 non-null  float64\n",
      " 6   店名             27512 non-null  object \n",
      "dtypes: float64(3), object(4)\n",
      "memory usage: 1.5+ MB\n"
     ]
    }
   ],
   "source": [
    "data.info()"
   ]
  },
  {
   "cell_type": "markdown",
   "id": "af5c2046",
   "metadata": {},
   "source": [
    "#### 处理缺失值"
   ]
  },
  {
   "cell_type": "code",
   "execution_count": 19,
   "id": "7bf26dd0",
   "metadata": {},
   "outputs": [
    {
     "data": {
      "text/plain": [
       "update_time      False\n",
       "id               False\n",
       "title            False\n",
       "price            False\n",
       "sale_count        True\n",
       "comment_count     True\n",
       "店名               False\n",
       "dtype: bool"
      ]
     },
     "execution_count": 19,
     "metadata": {},
     "output_type": "execute_result"
    }
   ],
   "source": [
    "data.isnull().any()"
   ]
  },
  {
   "cell_type": "code",
   "execution_count": 22,
   "id": "8848051b",
   "metadata": {},
   "outputs": [
    {
     "data": {
      "text/plain": [
       "update_time         0\n",
       "id                  0\n",
       "title               0\n",
       "price               0\n",
       "sale_count       2350\n",
       "comment_count    2350\n",
       "店名                  0\n",
       "dtype: int64"
      ]
     },
     "execution_count": 22,
     "metadata": {},
     "output_type": "execute_result"
    }
   ],
   "source": [
    "data.isnull().sum()"
   ]
  },
  {
   "cell_type": "code",
   "execution_count": 24,
   "id": "5a309f58",
   "metadata": {},
   "outputs": [
    {
     "data": {
      "text/plain": [
       "0    0.0\n",
       "dtype: float64"
      ]
     },
     "execution_count": 24,
     "metadata": {},
     "output_type": "execute_result"
    }
   ],
   "source": [
    "# 计算众数\n",
    "data.sale_count.mode()"
   ]
  },
  {
   "cell_type": "code",
   "execution_count": 26,
   "id": "822b6b7f",
   "metadata": {},
   "outputs": [
    {
     "data": {
      "text/plain": [
       "0    0.0\n",
       "dtype: float64"
      ]
     },
     "execution_count": 26,
     "metadata": {},
     "output_type": "execute_result"
    }
   ],
   "source": [
    "data.comment_count.mode()"
   ]
  },
  {
   "cell_type": "code",
   "execution_count": 29,
   "id": "65c0d48c",
   "metadata": {},
   "outputs": [
    {
     "name": "stderr",
     "output_type": "stream",
     "text": [
      "D:\\Anaconda3\\lib\\site-packages\\pandas\\core\\frame.py:4462: SettingWithCopyWarning: \n",
      "A value is trying to be set on a copy of a slice from a DataFrame\n",
      "\n",
      "See the caveats in the documentation: https://pandas.pydata.org/pandas-docs/stable/user_guide/indexing.html#returning-a-view-versus-a-copy\n",
      "  return super().fillna(\n"
     ]
    }
   ],
   "source": [
    "# 因为要填充的是一样的，所以直接写0\n",
    "# 如果是不同列不同值，用 dict\n",
    "data.fillna( 0 ,inplace=True )"
   ]
  },
  {
   "cell_type": "code",
   "execution_count": 32,
   "id": "8aba36de",
   "metadata": {},
   "outputs": [
    {
     "data": {
      "text/plain": [
       "update_time      0\n",
       "id               0\n",
       "title            0\n",
       "price            0\n",
       "sale_count       0\n",
       "comment_count    0\n",
       "店名               0\n",
       "dtype: int64"
      ]
     },
     "execution_count": 32,
     "metadata": {},
     "output_type": "execute_result"
    }
   ],
   "source": [
    "data.isnull().sum()"
   ]
  },
  {
   "cell_type": "markdown",
   "id": "356cb8aa",
   "metadata": {},
   "source": [
    "####  提取title 列的有效信息，使用 jieba 分词\n",
    "    没有的话需要  pip install jieba"
   ]
  },
  {
   "cell_type": "code",
   "execution_count": 33,
   "id": "afe2c78d",
   "metadata": {},
   "outputs": [],
   "source": [
    "import jieba"
   ]
  },
  {
   "cell_type": "code",
   "execution_count": 39,
   "id": "8090a283",
   "metadata": {},
   "outputs": [
    {
     "data": {
      "text/plain": [
       "['我', '来到', '北京', '清华大学', '，', '瞧', '小', '表情', '多', '开心']"
      ]
     },
     "execution_count": 39,
     "metadata": {},
     "output_type": "execute_result"
    }
   ],
   "source": [
    "jieba.lcut('我来到北京清华大学，瞧小表情多开心')"
   ]
  },
  {
   "cell_type": "code",
   "execution_count": 38,
   "id": "25703d8b",
   "metadata": {},
   "outputs": [
    {
     "data": {
      "text/plain": [
       "['CHANDO',\n",
       " '/',\n",
       " '自然',\n",
       " '堂',\n",
       " ' ',\n",
       " '雪域',\n",
       " '精粹',\n",
       " '纯粹',\n",
       " '滋润霜',\n",
       " '50g',\n",
       " ' ',\n",
       " '补水',\n",
       " '保湿',\n",
       " ' ',\n",
       " '滋润',\n",
       " '水润',\n",
       " '面霜']"
      ]
     },
     "execution_count": 38,
     "metadata": {},
     "output_type": "execute_result"
    }
   ],
   "source": [
    "jieba.lcut( data.title[0] )"
   ]
  },
  {
   "cell_type": "markdown",
   "id": "299d644b",
   "metadata": {},
   "source": [
    "#### - 对 title 列 分词处理，结果新增为 一列   item_name_cut\n"
   ]
  },
  {
   "cell_type": "code",
   "execution_count": 42,
   "id": "fc49605c",
   "metadata": {},
   "outputs": [
    {
     "name": "stderr",
     "output_type": "stream",
     "text": [
      "<ipython-input-42-fcddb4b433c2>:3: SettingWithCopyWarning: \n",
      "A value is trying to be set on a copy of a slice from a DataFrame.\n",
      "Try using .loc[row_indexer,col_indexer] = value instead\n",
      "\n",
      "See the caveats in the documentation: https://pandas.pydata.org/pandas-docs/stable/user_guide/indexing.html#returning-a-view-versus-a-copy\n",
      "  data['item_name_cut'] = data.title.apply(jieba.lcut)\n"
     ]
    }
   ],
   "source": [
    "# 对 title 应用 apply  ，jieba.lcut 函数 ，会返回一列\n",
    "#  新增 为  列名 item_name_cut\n",
    "data['item_name_cut'] = data.title.apply(jieba.lcut)"
   ]
  },
  {
   "cell_type": "code",
   "execution_count": 43,
   "id": "31bc0a33",
   "metadata": {},
   "outputs": [
    {
     "data": {
      "text/html": [
       "<div>\n",
       "<style scoped>\n",
       "    .dataframe tbody tr th:only-of-type {\n",
       "        vertical-align: middle;\n",
       "    }\n",
       "\n",
       "    .dataframe tbody tr th {\n",
       "        vertical-align: top;\n",
       "    }\n",
       "\n",
       "    .dataframe thead th {\n",
       "        text-align: right;\n",
       "    }\n",
       "</style>\n",
       "<table border=\"1\" class=\"dataframe\">\n",
       "  <thead>\n",
       "    <tr style=\"text-align: right;\">\n",
       "      <th></th>\n",
       "      <th>update_time</th>\n",
       "      <th>id</th>\n",
       "      <th>title</th>\n",
       "      <th>price</th>\n",
       "      <th>sale_count</th>\n",
       "      <th>comment_count</th>\n",
       "      <th>店名</th>\n",
       "      <th>item_name_cut</th>\n",
       "    </tr>\n",
       "  </thead>\n",
       "  <tbody>\n",
       "    <tr>\n",
       "      <th>0</th>\n",
       "      <td>2016/11/14</td>\n",
       "      <td>A18164178225</td>\n",
       "      <td>CHANDO/自然堂 雪域精粹纯粹滋润霜50g 补水保湿 滋润水润面霜</td>\n",
       "      <td>139.0</td>\n",
       "      <td>26719.0</td>\n",
       "      <td>2704.0</td>\n",
       "      <td>自然堂</td>\n",
       "      <td>[CHANDO, /, 自然, 堂,  , 雪域, 精粹, 纯粹, 滋润霜, 50g,  ,...</td>\n",
       "    </tr>\n",
       "    <tr>\n",
       "      <th>1</th>\n",
       "      <td>2016/11/14</td>\n",
       "      <td>A18177105952</td>\n",
       "      <td>CHANDO/自然堂凝时鲜颜肌活乳液120ML 淡化细纹补水滋润专柜正品</td>\n",
       "      <td>194.0</td>\n",
       "      <td>8122.0</td>\n",
       "      <td>1492.0</td>\n",
       "      <td>自然堂</td>\n",
       "      <td>[CHANDO, /, 自然, 堂, 凝, 时鲜, 颜肌活, 乳液, 120ML,  , 淡...</td>\n",
       "    </tr>\n",
       "    <tr>\n",
       "      <th>2</th>\n",
       "      <td>2016/11/14</td>\n",
       "      <td>A18177226992</td>\n",
       "      <td>CHANDO/自然堂活泉保湿修护精华水（滋润型135ml 补水控油爽肤水</td>\n",
       "      <td>99.0</td>\n",
       "      <td>12668.0</td>\n",
       "      <td>589.0</td>\n",
       "      <td>自然堂</td>\n",
       "      <td>[CHANDO, /, 自然, 堂, 活泉, 保湿, 修护, 精华, 水, （, 滋润, 型...</td>\n",
       "    </tr>\n",
       "    <tr>\n",
       "      <th>3</th>\n",
       "      <td>2016/11/14</td>\n",
       "      <td>A18178033846</td>\n",
       "      <td>CHANDO/自然堂 男士劲爽控油洁面膏 100g 深层清洁  男士洗面奶</td>\n",
       "      <td>38.0</td>\n",
       "      <td>25805.0</td>\n",
       "      <td>4287.0</td>\n",
       "      <td>自然堂</td>\n",
       "      <td>[CHANDO, /, 自然, 堂,  , 男士, 劲爽, 控油, 洁面膏,  , 100g...</td>\n",
       "    </tr>\n",
       "    <tr>\n",
       "      <th>4</th>\n",
       "      <td>2016/11/14</td>\n",
       "      <td>A18178045259</td>\n",
       "      <td>CHANDO/自然堂雪域精粹纯粹滋润霜（清爽型）50g补水保湿滋润霜</td>\n",
       "      <td>139.0</td>\n",
       "      <td>5196.0</td>\n",
       "      <td>618.0</td>\n",
       "      <td>自然堂</td>\n",
       "      <td>[CHANDO, /, 自然, 堂, 雪域, 精粹, 纯粹, 滋润霜, （, 清爽型, ）,...</td>\n",
       "    </tr>\n",
       "    <tr>\n",
       "      <th>...</th>\n",
       "      <td>...</td>\n",
       "      <td>...</td>\n",
       "      <td>...</td>\n",
       "      <td>...</td>\n",
       "      <td>...</td>\n",
       "      <td>...</td>\n",
       "      <td>...</td>\n",
       "      <td>...</td>\n",
       "    </tr>\n",
       "    <tr>\n",
       "      <th>27507</th>\n",
       "      <td>2016/11/5</td>\n",
       "      <td>A535642405757</td>\n",
       "      <td>SK-II【11-11】全新大眼眼霜skii放大双眼眼部修护精华紧致</td>\n",
       "      <td>590.0</td>\n",
       "      <td>0.0</td>\n",
       "      <td>0.0</td>\n",
       "      <td>SKII</td>\n",
       "      <td>[SK, -, II, 【, 11, -, 11, 】, 全新, 大, 眼, 眼霜, ski...</td>\n",
       "    </tr>\n",
       "    <tr>\n",
       "      <th>27508</th>\n",
       "      <td>2016/11/5</td>\n",
       "      <td>A535911851408</td>\n",
       "      <td>SK-II 11-11预售skii大眼眼霜sk2眼部修护精华霜淡化黑眼圈</td>\n",
       "      <td>590.0</td>\n",
       "      <td>0.0</td>\n",
       "      <td>0.0</td>\n",
       "      <td>SKII</td>\n",
       "      <td>[SK, -, II,  , 11, -, 11, 预售, skii, 大眼, 眼霜, sk...</td>\n",
       "    </tr>\n",
       "    <tr>\n",
       "      <th>27509</th>\n",
       "      <td>2016/11/5</td>\n",
       "      <td>A537027211850</td>\n",
       "      <td>SK-II 11-11预售skii前男友护肤面膜sk2精华面膜贴密集修护</td>\n",
       "      <td>1740.0</td>\n",
       "      <td>0.0</td>\n",
       "      <td>0.0</td>\n",
       "      <td>SKII</td>\n",
       "      <td>[SK, -, II,  , 11, -, 11, 预售, skii, 前男友, 护肤, 面...</td>\n",
       "    </tr>\n",
       "    <tr>\n",
       "      <th>27510</th>\n",
       "      <td>2016/11/5</td>\n",
       "      <td>A538212160126</td>\n",
       "      <td>SK-II 11-11预售skiisk2神仙水护肤精华油面部套装滋润补水密集修</td>\n",
       "      <td>1190.0</td>\n",
       "      <td>0.0</td>\n",
       "      <td>0.0</td>\n",
       "      <td>SKII</td>\n",
       "      <td>[SK, -, II,  , 11, -, 11, 预售, skiisk2, 神仙, 水, ...</td>\n",
       "    </tr>\n",
       "    <tr>\n",
       "      <th>27511</th>\n",
       "      <td>2016/11/5</td>\n",
       "      <td>A538677326709</td>\n",
       "      <td>SK-II【11-11】神仙水护肤精华油面部套装滋润补水密集修</td>\n",
       "      <td>1190.0</td>\n",
       "      <td>0.0</td>\n",
       "      <td>0.0</td>\n",
       "      <td>SKII</td>\n",
       "      <td>[SK, -, II, 【, 11, -, 11, 】, 神仙, 水, 护肤, 精华, 油,...</td>\n",
       "    </tr>\n",
       "  </tbody>\n",
       "</table>\n",
       "<p>27512 rows × 8 columns</p>\n",
       "</div>"
      ],
      "text/plain": [
       "      update_time             id  ...    店名                                      item_name_cut\n",
       "0      2016/11/14   A18164178225  ...   自然堂  [CHANDO, /, 自然, 堂,  , 雪域, 精粹, 纯粹, 滋润霜, 50g,  ,...\n",
       "1      2016/11/14   A18177105952  ...   自然堂  [CHANDO, /, 自然, 堂, 凝, 时鲜, 颜肌活, 乳液, 120ML,  , 淡...\n",
       "2      2016/11/14   A18177226992  ...   自然堂  [CHANDO, /, 自然, 堂, 活泉, 保湿, 修护, 精华, 水, （, 滋润, 型...\n",
       "3      2016/11/14   A18178033846  ...   自然堂  [CHANDO, /, 自然, 堂,  , 男士, 劲爽, 控油, 洁面膏,  , 100g...\n",
       "4      2016/11/14   A18178045259  ...   自然堂  [CHANDO, /, 自然, 堂, 雪域, 精粹, 纯粹, 滋润霜, （, 清爽型, ）,...\n",
       "...           ...            ...  ...   ...                                                ...\n",
       "27507   2016/11/5  A535642405757  ...  SKII  [SK, -, II, 【, 11, -, 11, 】, 全新, 大, 眼, 眼霜, ski...\n",
       "27508   2016/11/5  A535911851408  ...  SKII  [SK, -, II,  , 11, -, 11, 预售, skii, 大眼, 眼霜, sk...\n",
       "27509   2016/11/5  A537027211850  ...  SKII  [SK, -, II,  , 11, -, 11, 预售, skii, 前男友, 护肤, 面...\n",
       "27510   2016/11/5  A538212160126  ...  SKII  [SK, -, II,  , 11, -, 11, 预售, skiisk2, 神仙, 水, ...\n",
       "27511   2016/11/5  A538677326709  ...  SKII  [SK, -, II, 【, 11, -, 11, 】, 神仙, 水, 护肤, 精华, 油,...\n",
       "\n",
       "[27512 rows x 8 columns]"
      ]
     },
     "execution_count": 43,
     "metadata": {},
     "output_type": "execute_result"
    }
   ],
   "source": [
    "# 处理后的数据\n",
    "data"
   ]
  },
  {
   "cell_type": "markdown",
   "id": "ed4dff63",
   "metadata": {},
   "source": [
    "####   根据数据，创建产品 与 主类别 子类别 的关系"
   ]
  },
  {
   "cell_type": "code",
   "execution_count": 44,
   "id": "f5870905",
   "metadata": {},
   "outputs": [],
   "source": [
    "sub_type = []   #子类别\n",
    "main_type = []  #主类别\n",
    "basic_config_data = \"\"\"护肤品\t套装\t套装\t\t\t\t\t\t\t\n",
    "护肤品\t乳液类\t乳液\t美白乳\t润肤乳\t凝乳\t柔肤液\t亮肤乳\t菁华乳\t修护乳\n",
    "护肤品\t眼部护理\t眼霜\t眼部精华\t眼膜\t\t\t\t\t\n",
    "护肤品\t面膜类\t面膜\t\t\t\t\t\t\t\t\t\t\t\t\t\n",
    "护肤品\t清洁类\t洗面\t洁面\t清洁\t卸妆\t洁颜\t洗颜\t去角质\t磨砂\t\t\t\t\t\t\n",
    "护肤品\t化妆水\t化妆水\t爽肤水\t柔肤水\t补水露\t凝露\t柔肤液\t精粹水\t亮肤水\t润肤水\t保湿水\t菁华水\t保湿喷雾\t舒缓喷雾\n",
    "护肤品\t面霜类\t面霜\t日霜\t晚霜\t柔肤霜\t滋润霜\t保湿霜\t凝霜\t日间霜\t晚间霜\t乳霜\t修护霜\t亮肤霜\t底霜\t菁华霜\n",
    "护肤品\t精华类\t精华液\t精华水\t精华露\t精华素\t\t\t\t\t\t\t\t\t\t\n",
    "护肤品\t防晒类\t防晒霜\t防晒喷雾\t\t\t\t\t\t\t\t\t\t\t\t\n",
    "化妆品\t口红类\t唇釉\t口红\t唇彩\t\t\t\t\t\t\t\t\t\t\t\n",
    "化妆品\t底妆类\t散粉\t蜜粉\t粉底液\t定妆粉 \t气垫\t粉饼\tBB\tCC\t遮瑕\t粉霜\t粉底膏\t粉底霜\t\t\n",
    "化妆品\t眼部彩妆\t眉粉\t染眉膏\t眼线\t眼影\t睫毛膏\t\t\t\t\t\t\t\t\t\n",
    "化妆品\t修容类\t鼻影\t修容粉\t高光\t腮红\t\t\t\t\t\t\t\t\t\t\n",
    "其他\t其他\t其他\"\"\""
   ]
  },
  {
   "cell_type": "code",
   "execution_count": 45,
   "id": "3f0049e6",
   "metadata": {},
   "outputs": [
    {
     "data": {
      "text/plain": [
       "'护肤品\\t套装\\t套装\\t\\t\\t\\t\\t\\t\\t\\n护肤品\\t乳液类\\t乳液\\t美白乳\\t润肤乳\\t凝乳\\t柔肤液\\t亮肤乳\\t菁华乳\\t修护乳\\n护肤品\\t眼部护理\\t眼霜\\t眼部精华\\t眼膜\\t\\t\\t\\t\\t\\n护肤品\\t面膜类\\t面膜\\t\\t\\t\\t\\t\\t\\t\\t\\t\\t\\t\\t\\t\\n护肤品\\t清洁类\\t洗面\\t洁面\\t清洁\\t卸妆\\t洁颜\\t洗颜\\t去角质\\t磨砂\\t\\t\\t\\t\\t\\t\\n护肤品\\t化妆水\\t化妆水\\t爽肤水\\t柔肤水\\t补水露\\t凝露\\t柔肤液\\t精粹水\\t亮肤水\\t润肤水\\t保湿水\\t菁华水\\t保湿喷雾\\t舒缓喷雾\\n护肤品\\t面霜类\\t面霜\\t日霜\\t晚霜\\t柔肤霜\\t滋润霜\\t保湿霜\\t凝霜\\t日间霜\\t晚间霜\\t乳霜\\t修护霜\\t亮肤霜\\t底霜\\t菁华霜\\n护肤品\\t精华类\\t精华液\\t精华水\\t精华露\\t精华素\\t\\t\\t\\t\\t\\t\\t\\t\\t\\t\\n护肤品\\t防晒类\\t防晒霜\\t防晒喷雾\\t\\t\\t\\t\\t\\t\\t\\t\\t\\t\\t\\t\\n化妆品\\t口红类\\t唇釉\\t口红\\t唇彩\\t\\t\\t\\t\\t\\t\\t\\t\\t\\t\\t\\n化妆品\\t底妆类\\t散粉\\t蜜粉\\t粉底液\\t定妆粉 \\t气垫\\t粉饼\\tBB\\tCC\\t遮瑕\\t粉霜\\t粉底膏\\t粉底霜\\t\\t\\n化妆品\\t眼部彩妆\\t眉粉\\t染眉膏\\t眼线\\t眼影\\t睫毛膏\\t\\t\\t\\t\\t\\t\\t\\t\\t\\n化妆品\\t修容类\\t鼻影\\t修容粉\\t高光\\t腮红\\t\\t\\t\\t\\t\\t\\t\\t\\t\\t\\n其他\\t其他\\t其他'"
      ]
     },
     "execution_count": 45,
     "metadata": {},
     "output_type": "execute_result"
    }
   ],
   "source": [
    "basic_config_data"
   ]
  },
  {
   "cell_type": "code",
   "execution_count": 63,
   "id": "e33032f5",
   "metadata": {
    "scrolled": true
   },
   "outputs": [],
   "source": [
    "# 方法1：得到字典\n",
    "category_config_map  = {}\n",
    "for each in basic_config_data.split('\\n'):\n",
    "    eachline = each.strip(' \\n\\t').split('\\t')  \n",
    "    for i in eachline[2:]:\n",
    "        category_config_map[i] = (eachline[0] ,eachline[1] )"
   ]
  },
  {
   "cell_type": "code",
   "execution_count": 50,
   "id": "884e633d",
   "metadata": {},
   "outputs": [],
   "source": [
    "# 方法2：正则\n",
    "import re\n",
    "reg = re.compile('\\w+')"
   ]
  },
  {
   "cell_type": "code",
   "execution_count": 64,
   "id": "00d1894a",
   "metadata": {
    "scrolled": true
   },
   "outputs": [
    {
     "data": {
      "text/plain": [
       "{'套装': ('护肤品', '套装'),\n",
       " '乳液': ('护肤品', '乳液类'),\n",
       " '美白乳': ('护肤品', '乳液类'),\n",
       " '润肤乳': ('护肤品', '乳液类'),\n",
       " '凝乳': ('护肤品', '乳液类'),\n",
       " '柔肤液': ('护肤品', '化妆水'),\n",
       " '亮肤乳': ('护肤品', '乳液类'),\n",
       " '菁华乳': ('护肤品', '乳液类'),\n",
       " '修护乳': ('护肤品', '乳液类'),\n",
       " '眼霜': ('护肤品', '眼部护理'),\n",
       " '眼部精华': ('护肤品', '眼部护理'),\n",
       " '眼膜': ('护肤品', '眼部护理'),\n",
       " '面膜': ('护肤品', '面膜类'),\n",
       " '洗面': ('护肤品', '清洁类'),\n",
       " '洁面': ('护肤品', '清洁类'),\n",
       " '清洁': ('护肤品', '清洁类'),\n",
       " '卸妆': ('护肤品', '清洁类'),\n",
       " '洁颜': ('护肤品', '清洁类'),\n",
       " '洗颜': ('护肤品', '清洁类'),\n",
       " '去角质': ('护肤品', '清洁类'),\n",
       " '磨砂': ('护肤品', '清洁类'),\n",
       " '化妆水': ('护肤品', '化妆水'),\n",
       " '爽肤水': ('护肤品', '化妆水'),\n",
       " '柔肤水': ('护肤品', '化妆水'),\n",
       " '补水露': ('护肤品', '化妆水'),\n",
       " '凝露': ('护肤品', '化妆水'),\n",
       " '精粹水': ('护肤品', '化妆水'),\n",
       " '亮肤水': ('护肤品', '化妆水'),\n",
       " '润肤水': ('护肤品', '化妆水'),\n",
       " '保湿水': ('护肤品', '化妆水'),\n",
       " '菁华水': ('护肤品', '化妆水'),\n",
       " '保湿喷雾': ('护肤品', '化妆水'),\n",
       " '舒缓喷雾': ('护肤品', '化妆水'),\n",
       " '面霜': ('护肤品', '面霜类'),\n",
       " '日霜': ('护肤品', '面霜类'),\n",
       " '晚霜': ('护肤品', '面霜类'),\n",
       " '柔肤霜': ('护肤品', '面霜类'),\n",
       " '滋润霜': ('护肤品', '面霜类'),\n",
       " '保湿霜': ('护肤品', '面霜类'),\n",
       " '凝霜': ('护肤品', '面霜类'),\n",
       " '日间霜': ('护肤品', '面霜类'),\n",
       " '晚间霜': ('护肤品', '面霜类'),\n",
       " '乳霜': ('护肤品', '面霜类'),\n",
       " '修护霜': ('护肤品', '面霜类'),\n",
       " '亮肤霜': ('护肤品', '面霜类'),\n",
       " '底霜': ('护肤品', '面霜类'),\n",
       " '菁华霜': ('护肤品', '面霜类'),\n",
       " '精华液': ('护肤品', '精华类'),\n",
       " '精华水': ('护肤品', '精华类'),\n",
       " '精华露': ('护肤品', '精华类'),\n",
       " '精华素': ('护肤品', '精华类'),\n",
       " '防晒霜': ('护肤品', '防晒类'),\n",
       " '防晒喷雾': ('护肤品', '防晒类'),\n",
       " '唇釉': ('化妆品', '口红类'),\n",
       " '口红': ('化妆品', '口红类'),\n",
       " '唇彩': ('化妆品', '口红类'),\n",
       " '散粉': ('化妆品', '底妆类'),\n",
       " '蜜粉': ('化妆品', '底妆类'),\n",
       " '粉底液': ('化妆品', '底妆类'),\n",
       " '定妆粉': ('化妆品', '底妆类'),\n",
       " '气垫': ('化妆品', '底妆类'),\n",
       " '粉饼': ('化妆品', '底妆类'),\n",
       " 'BB': ('化妆品', '底妆类'),\n",
       " 'CC': ('化妆品', '底妆类'),\n",
       " '遮瑕': ('化妆品', '底妆类'),\n",
       " '粉霜': ('化妆品', '底妆类'),\n",
       " '粉底膏': ('化妆品', '底妆类'),\n",
       " '粉底霜': ('化妆品', '底妆类'),\n",
       " '眉粉': ('化妆品', '眼部彩妆'),\n",
       " '染眉膏': ('化妆品', '眼部彩妆'),\n",
       " '眼线': ('化妆品', '眼部彩妆'),\n",
       " '眼影': ('化妆品', '眼部彩妆'),\n",
       " '睫毛膏': ('化妆品', '眼部彩妆'),\n",
       " '鼻影': ('化妆品', '修容类'),\n",
       " '修容粉': ('化妆品', '修容类'),\n",
       " '高光': ('化妆品', '修容类'),\n",
       " '腮红': ('化妆品', '修容类'),\n",
       " '其他': ('其他', '其他')}"
      ]
     },
     "execution_count": 64,
     "metadata": {},
     "output_type": "execute_result"
    }
   ],
   "source": [
    "category_config_map = {}\n",
    "basic_list = [re.findall(reg,each)  for each in basic_config_data.split('\\n')]\n",
    "for each in basic_list:\n",
    "    category_config_map.update( {}.fromkeys(each[2:] , tuple(each[:2]) )  )\n",
    "category_config_map"
   ]
  },
  {
   "cell_type": "code",
   "execution_count": 55,
   "id": "0e545f00",
   "metadata": {},
   "outputs": [
    {
     "data": {
      "text/plain": [
       "{'a': ('护肤品', '清洁类'), 'b': ('护肤品', '清洁类'), 'c': ('护肤品', '清洁类')}"
      ]
     },
     "execution_count": 55,
     "metadata": {},
     "output_type": "execute_result"
    }
   ],
   "source": [
    "{}.fromkeys(['a','b','c'], ('护肤品', '清洁类') )"
   ]
  },
  {
   "cell_type": "code",
   "execution_count": 61,
   "id": "adbdb060",
   "metadata": {},
   "outputs": [
    {
     "data": {
      "text/plain": [
       "{'a': ('护肤品', '清洁类'), 'b': ('护肤品', '清洁类'), 'c': ('护肤品', '清洁类')}"
      ]
     },
     "execution_count": 61,
     "metadata": {},
     "output_type": "execute_result"
    }
   ],
   "source": [
    "dict22 = {}\n",
    "dict22.update( {}.fromkeys(['a','b','c'], ('护肤品', '清洁类') )  )\n",
    "dict22"
   ]
  },
  {
   "cell_type": "markdown",
   "id": "bb2c9aef",
   "metadata": {},
   "source": [
    "####  对 分词后的 列 进行处理 data.item_name_cut\n",
    "    根据 词 在 类别字典 key， 去取值 ，得到 主 子类别"
   ]
  },
  {
   "cell_type": "markdown",
   "id": "018eb3d9",
   "metadata": {},
   "source": [
    "- 方法1 ： 在每行的 list中。第一次出现 ，就返回，类别 ，否则返回其他"
   ]
  },
  {
   "cell_type": "code",
   "execution_count": 67,
   "id": "b675c8b6",
   "metadata": {},
   "outputs": [
    {
     "data": {
      "text/plain": [
       "0    [CHANDO, /, 自然, 堂,  , 雪域, 精粹, 纯粹, 滋润霜, 50g,  ,...\n",
       "1    [CHANDO, /, 自然, 堂, 凝, 时鲜, 颜肌活, 乳液, 120ML,  , 淡...\n",
       "2    [CHANDO, /, 自然, 堂, 活泉, 保湿, 修护, 精华, 水, （, 滋润, 型...\n",
       "3    [CHANDO, /, 自然, 堂,  , 男士, 劲爽, 控油, 洁面膏,  , 100g...\n",
       "4    [CHANDO, /, 自然, 堂, 雪域, 精粹, 纯粹, 滋润霜, （, 清爽型, ）,...\n",
       "Name: item_name_cut, dtype: object"
      ]
     },
     "execution_count": 67,
     "metadata": {},
     "output_type": "execute_result"
    }
   ],
   "source": [
    "data.item_name_cut.head()"
   ]
  },
  {
   "cell_type": "code",
   "execution_count": 68,
   "id": "6c6a4253",
   "metadata": {},
   "outputs": [],
   "source": [
    "def deal_type( x ):\n",
    "    for each in x:\n",
    "        if each in category_config_map:\n",
    "            return category_config_map[each]\n",
    "    else:\n",
    "        return category_config_map['其他']"
   ]
  },
  {
   "cell_type": "markdown",
   "id": "66bead47",
   "metadata": {},
   "source": [
    "- 方法2： 根据所属类别的 次数， 进行返回 最终的类型"
   ]
  },
  {
   "cell_type": "code",
   "execution_count": 84,
   "id": "9ab33497",
   "metadata": {},
   "outputs": [],
   "source": [
    "def deal_type_byCount(x):\n",
    "    last = []\n",
    "    for each in x:\n",
    "        if each in category_config_map:\n",
    "            last.append( category_config_map[each] )\n",
    "    else:\n",
    "        if last:\n",
    "            # return pd.value_counts(last).index[0]\n",
    "            return Series(  last  ).mode().values[0]\n",
    "        else:\n",
    "            return category_config_map['其他']"
   ]
  },
  {
   "cell_type": "code",
   "execution_count": 85,
   "id": "eccb266a",
   "metadata": {},
   "outputs": [
    {
     "name": "stdout",
     "output_type": "stream",
     "text": [
      "Wall time: 10 s\n"
     ]
    }
   ],
   "source": [
    "%%time\n",
    "# 对 item_name_cut 进行处理返回 结果\n",
    "result_deal = data.item_name_cut.apply(deal_type_byCount)"
   ]
  },
  {
   "cell_type": "code",
   "execution_count": 86,
   "id": "a30e0f14",
   "metadata": {
    "scrolled": true
   },
   "outputs": [
    {
     "data": {
      "text/plain": [
       "0         (护肤品, 面霜类)\n",
       "1         (护肤品, 乳液类)\n",
       "2         (护肤品, 化妆水)\n",
       "3         (护肤品, 清洁类)\n",
       "4         (护肤品, 面霜类)\n",
       "            ...     \n",
       "27507    (护肤品, 眼部护理)\n",
       "27508    (护肤品, 眼部护理)\n",
       "27509     (护肤品, 面膜类)\n",
       "27510      (护肤品, 套装)\n",
       "27511      (护肤品, 套装)\n",
       "Name: item_name_cut, Length: 27512, dtype: object"
      ]
     },
     "execution_count": 86,
     "metadata": {},
     "output_type": "execute_result"
    }
   ],
   "source": [
    "result_deal"
   ]
  },
  {
   "cell_type": "code",
   "execution_count": 104,
   "id": "055f25e3",
   "metadata": {},
   "outputs": [],
   "source": [
    "# 主\n",
    "main_type = [each[0] for each in result_deal]\n",
    "# 子\n",
    "sub_type = [each[1] for each in result_deal]"
   ]
  },
  {
   "cell_type": "code",
   "execution_count": 105,
   "id": "ffc25993",
   "metadata": {},
   "outputs": [
    {
     "name": "stderr",
     "output_type": "stream",
     "text": [
      "<ipython-input-105-3c5b812330c3>:2: SettingWithCopyWarning: \n",
      "A value is trying to be set on a copy of a slice from a DataFrame.\n",
      "Try using .loc[row_indexer,col_indexer] = value instead\n",
      "\n",
      "See the caveats in the documentation: https://pandas.pydata.org/pandas-docs/stable/user_guide/indexing.html#returning-a-view-versus-a-copy\n",
      "  data['main_type'] = main_type\n",
      "<ipython-input-105-3c5b812330c3>:3: SettingWithCopyWarning: \n",
      "A value is trying to be set on a copy of a slice from a DataFrame.\n",
      "Try using .loc[row_indexer,col_indexer] = value instead\n",
      "\n",
      "See the caveats in the documentation: https://pandas.pydata.org/pandas-docs/stable/user_guide/indexing.html#returning-a-view-versus-a-copy\n",
      "  data['sub_type'] = sub_type\n"
     ]
    }
   ],
   "source": [
    "# 新增 列\n",
    "#  语法式写法 会 有警告， 建议用 insert( index,colname ,value ) 插入\n",
    "data['main_type'] = main_type\n",
    "data['sub_type'] = sub_type"
   ]
  },
  {
   "cell_type": "code",
   "execution_count": 106,
   "id": "53fddc40",
   "metadata": {
    "scrolled": true
   },
   "outputs": [
    {
     "data": {
      "text/html": [
       "<div>\n",
       "<style scoped>\n",
       "    .dataframe tbody tr th:only-of-type {\n",
       "        vertical-align: middle;\n",
       "    }\n",
       "\n",
       "    .dataframe tbody tr th {\n",
       "        vertical-align: top;\n",
       "    }\n",
       "\n",
       "    .dataframe thead th {\n",
       "        text-align: right;\n",
       "    }\n",
       "</style>\n",
       "<table border=\"1\" class=\"dataframe\">\n",
       "  <thead>\n",
       "    <tr style=\"text-align: right;\">\n",
       "      <th></th>\n",
       "      <th>update_time</th>\n",
       "      <th>id</th>\n",
       "      <th>title</th>\n",
       "      <th>price</th>\n",
       "      <th>sale_count</th>\n",
       "      <th>comment_count</th>\n",
       "      <th>店名</th>\n",
       "      <th>item_name_cut</th>\n",
       "      <th>main_type</th>\n",
       "      <th>sub_type</th>\n",
       "    </tr>\n",
       "  </thead>\n",
       "  <tbody>\n",
       "    <tr>\n",
       "      <th>0</th>\n",
       "      <td>2016/11/14</td>\n",
       "      <td>A18164178225</td>\n",
       "      <td>CHANDO/自然堂 雪域精粹纯粹滋润霜50g 补水保湿 滋润水润面霜</td>\n",
       "      <td>139.0</td>\n",
       "      <td>26719.0</td>\n",
       "      <td>2704.0</td>\n",
       "      <td>自然堂</td>\n",
       "      <td>[CHANDO, /, 自然, 堂,  , 雪域, 精粹, 纯粹, 滋润霜, 50g,  ,...</td>\n",
       "      <td>护肤品</td>\n",
       "      <td>面霜类</td>\n",
       "    </tr>\n",
       "    <tr>\n",
       "      <th>1</th>\n",
       "      <td>2016/11/14</td>\n",
       "      <td>A18177105952</td>\n",
       "      <td>CHANDO/自然堂凝时鲜颜肌活乳液120ML 淡化细纹补水滋润专柜正品</td>\n",
       "      <td>194.0</td>\n",
       "      <td>8122.0</td>\n",
       "      <td>1492.0</td>\n",
       "      <td>自然堂</td>\n",
       "      <td>[CHANDO, /, 自然, 堂, 凝, 时鲜, 颜肌活, 乳液, 120ML,  , 淡...</td>\n",
       "      <td>护肤品</td>\n",
       "      <td>乳液类</td>\n",
       "    </tr>\n",
       "    <tr>\n",
       "      <th>2</th>\n",
       "      <td>2016/11/14</td>\n",
       "      <td>A18177226992</td>\n",
       "      <td>CHANDO/自然堂活泉保湿修护精华水（滋润型135ml 补水控油爽肤水</td>\n",
       "      <td>99.0</td>\n",
       "      <td>12668.0</td>\n",
       "      <td>589.0</td>\n",
       "      <td>自然堂</td>\n",
       "      <td>[CHANDO, /, 自然, 堂, 活泉, 保湿, 修护, 精华, 水, （, 滋润, 型...</td>\n",
       "      <td>护肤品</td>\n",
       "      <td>化妆水</td>\n",
       "    </tr>\n",
       "    <tr>\n",
       "      <th>3</th>\n",
       "      <td>2016/11/14</td>\n",
       "      <td>A18178033846</td>\n",
       "      <td>CHANDO/自然堂 男士劲爽控油洁面膏 100g 深层清洁  男士洗面奶</td>\n",
       "      <td>38.0</td>\n",
       "      <td>25805.0</td>\n",
       "      <td>4287.0</td>\n",
       "      <td>自然堂</td>\n",
       "      <td>[CHANDO, /, 自然, 堂,  , 男士, 劲爽, 控油, 洁面膏,  , 100g...</td>\n",
       "      <td>护肤品</td>\n",
       "      <td>清洁类</td>\n",
       "    </tr>\n",
       "    <tr>\n",
       "      <th>4</th>\n",
       "      <td>2016/11/14</td>\n",
       "      <td>A18178045259</td>\n",
       "      <td>CHANDO/自然堂雪域精粹纯粹滋润霜（清爽型）50g补水保湿滋润霜</td>\n",
       "      <td>139.0</td>\n",
       "      <td>5196.0</td>\n",
       "      <td>618.0</td>\n",
       "      <td>自然堂</td>\n",
       "      <td>[CHANDO, /, 自然, 堂, 雪域, 精粹, 纯粹, 滋润霜, （, 清爽型, ）,...</td>\n",
       "      <td>护肤品</td>\n",
       "      <td>面霜类</td>\n",
       "    </tr>\n",
       "    <tr>\n",
       "      <th>...</th>\n",
       "      <td>...</td>\n",
       "      <td>...</td>\n",
       "      <td>...</td>\n",
       "      <td>...</td>\n",
       "      <td>...</td>\n",
       "      <td>...</td>\n",
       "      <td>...</td>\n",
       "      <td>...</td>\n",
       "      <td>...</td>\n",
       "      <td>...</td>\n",
       "    </tr>\n",
       "    <tr>\n",
       "      <th>27507</th>\n",
       "      <td>2016/11/5</td>\n",
       "      <td>A535642405757</td>\n",
       "      <td>SK-II【11-11】全新大眼眼霜skii放大双眼眼部修护精华紧致</td>\n",
       "      <td>590.0</td>\n",
       "      <td>0.0</td>\n",
       "      <td>0.0</td>\n",
       "      <td>SKII</td>\n",
       "      <td>[SK, -, II, 【, 11, -, 11, 】, 全新, 大, 眼, 眼霜, ski...</td>\n",
       "      <td>护肤品</td>\n",
       "      <td>眼部护理</td>\n",
       "    </tr>\n",
       "    <tr>\n",
       "      <th>27508</th>\n",
       "      <td>2016/11/5</td>\n",
       "      <td>A535911851408</td>\n",
       "      <td>SK-II 11-11预售skii大眼眼霜sk2眼部修护精华霜淡化黑眼圈</td>\n",
       "      <td>590.0</td>\n",
       "      <td>0.0</td>\n",
       "      <td>0.0</td>\n",
       "      <td>SKII</td>\n",
       "      <td>[SK, -, II,  , 11, -, 11, 预售, skii, 大眼, 眼霜, sk...</td>\n",
       "      <td>护肤品</td>\n",
       "      <td>眼部护理</td>\n",
       "    </tr>\n",
       "    <tr>\n",
       "      <th>27509</th>\n",
       "      <td>2016/11/5</td>\n",
       "      <td>A537027211850</td>\n",
       "      <td>SK-II 11-11预售skii前男友护肤面膜sk2精华面膜贴密集修护</td>\n",
       "      <td>1740.0</td>\n",
       "      <td>0.0</td>\n",
       "      <td>0.0</td>\n",
       "      <td>SKII</td>\n",
       "      <td>[SK, -, II,  , 11, -, 11, 预售, skii, 前男友, 护肤, 面...</td>\n",
       "      <td>护肤品</td>\n",
       "      <td>面膜类</td>\n",
       "    </tr>\n",
       "    <tr>\n",
       "      <th>27510</th>\n",
       "      <td>2016/11/5</td>\n",
       "      <td>A538212160126</td>\n",
       "      <td>SK-II 11-11预售skiisk2神仙水护肤精华油面部套装滋润补水密集修</td>\n",
       "      <td>1190.0</td>\n",
       "      <td>0.0</td>\n",
       "      <td>0.0</td>\n",
       "      <td>SKII</td>\n",
       "      <td>[SK, -, II,  , 11, -, 11, 预售, skiisk2, 神仙, 水, ...</td>\n",
       "      <td>护肤品</td>\n",
       "      <td>套装</td>\n",
       "    </tr>\n",
       "    <tr>\n",
       "      <th>27511</th>\n",
       "      <td>2016/11/5</td>\n",
       "      <td>A538677326709</td>\n",
       "      <td>SK-II【11-11】神仙水护肤精华油面部套装滋润补水密集修</td>\n",
       "      <td>1190.0</td>\n",
       "      <td>0.0</td>\n",
       "      <td>0.0</td>\n",
       "      <td>SKII</td>\n",
       "      <td>[SK, -, II, 【, 11, -, 11, 】, 神仙, 水, 护肤, 精华, 油,...</td>\n",
       "      <td>护肤品</td>\n",
       "      <td>套装</td>\n",
       "    </tr>\n",
       "  </tbody>\n",
       "</table>\n",
       "<p>27512 rows × 10 columns</p>\n",
       "</div>"
      ],
      "text/plain": [
       "      update_time             id  ... main_type  sub_type\n",
       "0      2016/11/14   A18164178225  ...       护肤品       面霜类\n",
       "1      2016/11/14   A18177105952  ...       护肤品       乳液类\n",
       "2      2016/11/14   A18177226992  ...       护肤品       化妆水\n",
       "3      2016/11/14   A18178033846  ...       护肤品       清洁类\n",
       "4      2016/11/14   A18178045259  ...       护肤品       面霜类\n",
       "...           ...            ...  ...       ...       ...\n",
       "27507   2016/11/5  A535642405757  ...       护肤品      眼部护理\n",
       "27508   2016/11/5  A535911851408  ...       护肤品      眼部护理\n",
       "27509   2016/11/5  A537027211850  ...       护肤品       面膜类\n",
       "27510   2016/11/5  A538212160126  ...       护肤品        套装\n",
       "27511   2016/11/5  A538677326709  ...       护肤品        套装\n",
       "\n",
       "[27512 rows x 10 columns]"
      ]
     },
     "execution_count": 106,
     "metadata": {},
     "output_type": "execute_result"
    }
   ],
   "source": [
    "data"
   ]
  },
  {
   "cell_type": "code",
   "execution_count": 107,
   "id": "fd27cc77",
   "metadata": {},
   "outputs": [],
   "source": [
    "# 简单看 类别的值统计"
   ]
  },
  {
   "cell_type": "code",
   "execution_count": 109,
   "id": "9b5c20a8",
   "metadata": {},
   "outputs": [
    {
     "data": {
      "text/plain": [
       "护肤品    15338\n",
       "其他      8085\n",
       "化妆品     4089\n",
       "Name: main_type, dtype: int64"
      ]
     },
     "execution_count": 109,
     "metadata": {},
     "output_type": "execute_result"
    }
   ],
   "source": [
    "data.main_type.value_counts()"
   ]
  },
  {
   "cell_type": "code",
   "execution_count": 110,
   "id": "58f19f6d",
   "metadata": {},
   "outputs": [
    {
     "data": {
      "text/plain": [
       "其他      8085\n",
       "套装      3494\n",
       "清洁类     2538\n",
       "面霜类     2226\n",
       "化妆水     1871\n",
       "底妆类     1793\n",
       "乳液类     1571\n",
       "面膜类     1422\n",
       "眼部彩妆    1138\n",
       "眼部护理    1045\n",
       "口红类      831\n",
       "精华类      695\n",
       "防晒类      476\n",
       "修容类      327\n",
       "Name: sub_type, dtype: int64"
      ]
     },
     "execution_count": 110,
     "metadata": {},
     "output_type": "execute_result"
    }
   ],
   "source": [
    "data.sub_type.value_counts()"
   ]
  },
  {
   "cell_type": "markdown",
   "id": "381274b9",
   "metadata": {},
   "source": [
    "####  新增 是否男士 专用\n",
    "    根据是否有 男 字 ，判断是否 男士专用 ，但是不准确\n",
    "    注意： 前男友 xx,牌子是 女士产品"
   ]
  },
  {
   "cell_type": "code",
   "execution_count": 112,
   "id": "66228179",
   "metadata": {},
   "outputs": [],
   "source": [
    "def judge_man(x):\n",
    "    if '前男友' not in x:\n",
    "        return  '是' if '男' in x else '否'\n",
    "    else:\n",
    "        return '否'"
   ]
  },
  {
   "cell_type": "code",
   "execution_count": 116,
   "id": "8695dac8",
   "metadata": {},
   "outputs": [
    {
     "name": "stderr",
     "output_type": "stream",
     "text": [
      "<ipython-input-116-72266a14e2fa>:1: SettingWithCopyWarning: \n",
      "A value is trying to be set on a copy of a slice from a DataFrame.\n",
      "Try using .loc[row_indexer,col_indexer] = value instead\n",
      "\n",
      "See the caveats in the documentation: https://pandas.pydata.org/pandas-docs/stable/user_guide/indexing.html#returning-a-view-versus-a-copy\n",
      "  data['是否男士专用'] = data.title.apply(judge_man)\n"
     ]
    }
   ],
   "source": [
    "data['是否男士专用'] = data.title.apply(judge_man)"
   ]
  },
  {
   "cell_type": "code",
   "execution_count": 117,
   "id": "43872e12",
   "metadata": {
    "scrolled": true
   },
   "outputs": [
    {
     "data": {
      "text/html": [
       "<div>\n",
       "<style scoped>\n",
       "    .dataframe tbody tr th:only-of-type {\n",
       "        vertical-align: middle;\n",
       "    }\n",
       "\n",
       "    .dataframe tbody tr th {\n",
       "        vertical-align: top;\n",
       "    }\n",
       "\n",
       "    .dataframe thead th {\n",
       "        text-align: right;\n",
       "    }\n",
       "</style>\n",
       "<table border=\"1\" class=\"dataframe\">\n",
       "  <thead>\n",
       "    <tr style=\"text-align: right;\">\n",
       "      <th></th>\n",
       "      <th>update_time</th>\n",
       "      <th>id</th>\n",
       "      <th>title</th>\n",
       "      <th>price</th>\n",
       "      <th>sale_count</th>\n",
       "      <th>comment_count</th>\n",
       "      <th>店名</th>\n",
       "      <th>item_name_cut</th>\n",
       "      <th>main_type</th>\n",
       "      <th>sub_type</th>\n",
       "      <th>是否男士专用</th>\n",
       "    </tr>\n",
       "  </thead>\n",
       "  <tbody>\n",
       "    <tr>\n",
       "      <th>0</th>\n",
       "      <td>2016/11/14</td>\n",
       "      <td>A18164178225</td>\n",
       "      <td>CHANDO/自然堂 雪域精粹纯粹滋润霜50g 补水保湿 滋润水润面霜</td>\n",
       "      <td>139.0</td>\n",
       "      <td>26719.0</td>\n",
       "      <td>2704.0</td>\n",
       "      <td>自然堂</td>\n",
       "      <td>[CHANDO, /, 自然, 堂,  , 雪域, 精粹, 纯粹, 滋润霜, 50g,  ,...</td>\n",
       "      <td>护肤品</td>\n",
       "      <td>面霜类</td>\n",
       "      <td>否</td>\n",
       "    </tr>\n",
       "    <tr>\n",
       "      <th>1</th>\n",
       "      <td>2016/11/14</td>\n",
       "      <td>A18177105952</td>\n",
       "      <td>CHANDO/自然堂凝时鲜颜肌活乳液120ML 淡化细纹补水滋润专柜正品</td>\n",
       "      <td>194.0</td>\n",
       "      <td>8122.0</td>\n",
       "      <td>1492.0</td>\n",
       "      <td>自然堂</td>\n",
       "      <td>[CHANDO, /, 自然, 堂, 凝, 时鲜, 颜肌活, 乳液, 120ML,  , 淡...</td>\n",
       "      <td>护肤品</td>\n",
       "      <td>乳液类</td>\n",
       "      <td>否</td>\n",
       "    </tr>\n",
       "    <tr>\n",
       "      <th>2</th>\n",
       "      <td>2016/11/14</td>\n",
       "      <td>A18177226992</td>\n",
       "      <td>CHANDO/自然堂活泉保湿修护精华水（滋润型135ml 补水控油爽肤水</td>\n",
       "      <td>99.0</td>\n",
       "      <td>12668.0</td>\n",
       "      <td>589.0</td>\n",
       "      <td>自然堂</td>\n",
       "      <td>[CHANDO, /, 自然, 堂, 活泉, 保湿, 修护, 精华, 水, （, 滋润, 型...</td>\n",
       "      <td>护肤品</td>\n",
       "      <td>化妆水</td>\n",
       "      <td>否</td>\n",
       "    </tr>\n",
       "    <tr>\n",
       "      <th>3</th>\n",
       "      <td>2016/11/14</td>\n",
       "      <td>A18178033846</td>\n",
       "      <td>CHANDO/自然堂 男士劲爽控油洁面膏 100g 深层清洁  男士洗面奶</td>\n",
       "      <td>38.0</td>\n",
       "      <td>25805.0</td>\n",
       "      <td>4287.0</td>\n",
       "      <td>自然堂</td>\n",
       "      <td>[CHANDO, /, 自然, 堂,  , 男士, 劲爽, 控油, 洁面膏,  , 100g...</td>\n",
       "      <td>护肤品</td>\n",
       "      <td>清洁类</td>\n",
       "      <td>是</td>\n",
       "    </tr>\n",
       "    <tr>\n",
       "      <th>4</th>\n",
       "      <td>2016/11/14</td>\n",
       "      <td>A18178045259</td>\n",
       "      <td>CHANDO/自然堂雪域精粹纯粹滋润霜（清爽型）50g补水保湿滋润霜</td>\n",
       "      <td>139.0</td>\n",
       "      <td>5196.0</td>\n",
       "      <td>618.0</td>\n",
       "      <td>自然堂</td>\n",
       "      <td>[CHANDO, /, 自然, 堂, 雪域, 精粹, 纯粹, 滋润霜, （, 清爽型, ）,...</td>\n",
       "      <td>护肤品</td>\n",
       "      <td>面霜类</td>\n",
       "      <td>否</td>\n",
       "    </tr>\n",
       "    <tr>\n",
       "      <th>...</th>\n",
       "      <td>...</td>\n",
       "      <td>...</td>\n",
       "      <td>...</td>\n",
       "      <td>...</td>\n",
       "      <td>...</td>\n",
       "      <td>...</td>\n",
       "      <td>...</td>\n",
       "      <td>...</td>\n",
       "      <td>...</td>\n",
       "      <td>...</td>\n",
       "      <td>...</td>\n",
       "    </tr>\n",
       "    <tr>\n",
       "      <th>27507</th>\n",
       "      <td>2016/11/5</td>\n",
       "      <td>A535642405757</td>\n",
       "      <td>SK-II【11-11】全新大眼眼霜skii放大双眼眼部修护精华紧致</td>\n",
       "      <td>590.0</td>\n",
       "      <td>0.0</td>\n",
       "      <td>0.0</td>\n",
       "      <td>SKII</td>\n",
       "      <td>[SK, -, II, 【, 11, -, 11, 】, 全新, 大, 眼, 眼霜, ski...</td>\n",
       "      <td>护肤品</td>\n",
       "      <td>眼部护理</td>\n",
       "      <td>否</td>\n",
       "    </tr>\n",
       "    <tr>\n",
       "      <th>27508</th>\n",
       "      <td>2016/11/5</td>\n",
       "      <td>A535911851408</td>\n",
       "      <td>SK-II 11-11预售skii大眼眼霜sk2眼部修护精华霜淡化黑眼圈</td>\n",
       "      <td>590.0</td>\n",
       "      <td>0.0</td>\n",
       "      <td>0.0</td>\n",
       "      <td>SKII</td>\n",
       "      <td>[SK, -, II,  , 11, -, 11, 预售, skii, 大眼, 眼霜, sk...</td>\n",
       "      <td>护肤品</td>\n",
       "      <td>眼部护理</td>\n",
       "      <td>否</td>\n",
       "    </tr>\n",
       "    <tr>\n",
       "      <th>27509</th>\n",
       "      <td>2016/11/5</td>\n",
       "      <td>A537027211850</td>\n",
       "      <td>SK-II 11-11预售skii前男友护肤面膜sk2精华面膜贴密集修护</td>\n",
       "      <td>1740.0</td>\n",
       "      <td>0.0</td>\n",
       "      <td>0.0</td>\n",
       "      <td>SKII</td>\n",
       "      <td>[SK, -, II,  , 11, -, 11, 预售, skii, 前男友, 护肤, 面...</td>\n",
       "      <td>护肤品</td>\n",
       "      <td>面膜类</td>\n",
       "      <td>否</td>\n",
       "    </tr>\n",
       "    <tr>\n",
       "      <th>27510</th>\n",
       "      <td>2016/11/5</td>\n",
       "      <td>A538212160126</td>\n",
       "      <td>SK-II 11-11预售skiisk2神仙水护肤精华油面部套装滋润补水密集修</td>\n",
       "      <td>1190.0</td>\n",
       "      <td>0.0</td>\n",
       "      <td>0.0</td>\n",
       "      <td>SKII</td>\n",
       "      <td>[SK, -, II,  , 11, -, 11, 预售, skiisk2, 神仙, 水, ...</td>\n",
       "      <td>护肤品</td>\n",
       "      <td>套装</td>\n",
       "      <td>否</td>\n",
       "    </tr>\n",
       "    <tr>\n",
       "      <th>27511</th>\n",
       "      <td>2016/11/5</td>\n",
       "      <td>A538677326709</td>\n",
       "      <td>SK-II【11-11】神仙水护肤精华油面部套装滋润补水密集修</td>\n",
       "      <td>1190.0</td>\n",
       "      <td>0.0</td>\n",
       "      <td>0.0</td>\n",
       "      <td>SKII</td>\n",
       "      <td>[SK, -, II, 【, 11, -, 11, 】, 神仙, 水, 护肤, 精华, 油,...</td>\n",
       "      <td>护肤品</td>\n",
       "      <td>套装</td>\n",
       "      <td>否</td>\n",
       "    </tr>\n",
       "  </tbody>\n",
       "</table>\n",
       "<p>27512 rows × 11 columns</p>\n",
       "</div>"
      ],
      "text/plain": [
       "      update_time             id                                    title  ...  main_type  sub_type  是否男士专用\n",
       "0      2016/11/14   A18164178225      CHANDO/自然堂 雪域精粹纯粹滋润霜50g 补水保湿 滋润水润面霜  ...        护肤品       面霜类       否\n",
       "1      2016/11/14   A18177105952     CHANDO/自然堂凝时鲜颜肌活乳液120ML 淡化细纹补水滋润专柜正品  ...        护肤品       乳液类       否\n",
       "2      2016/11/14   A18177226992     CHANDO/自然堂活泉保湿修护精华水（滋润型135ml 补水控油爽肤水  ...        护肤品       化妆水       否\n",
       "3      2016/11/14   A18178033846    CHANDO/自然堂 男士劲爽控油洁面膏 100g 深层清洁  男士洗面奶  ...        护肤品       清洁类       是\n",
       "4      2016/11/14   A18178045259       CHANDO/自然堂雪域精粹纯粹滋润霜（清爽型）50g补水保湿滋润霜  ...        护肤品       面霜类       否\n",
       "...           ...            ...                                      ...  ...        ...       ...     ...\n",
       "27507   2016/11/5  A535642405757       SK-II【11-11】全新大眼眼霜skii放大双眼眼部修护精华紧致  ...        护肤品      眼部护理       否\n",
       "27508   2016/11/5  A535911851408     SK-II 11-11预售skii大眼眼霜sk2眼部修护精华霜淡化黑眼圈  ...        护肤品      眼部护理       否\n",
       "27509   2016/11/5  A537027211850     SK-II 11-11预售skii前男友护肤面膜sk2精华面膜贴密集修护  ...        护肤品       面膜类       否\n",
       "27510   2016/11/5  A538212160126  SK-II 11-11预售skiisk2神仙水护肤精华油面部套装滋润补水密集修  ...        护肤品        套装       否\n",
       "27511   2016/11/5  A538677326709          SK-II【11-11】神仙水护肤精华油面部套装滋润补水密集修  ...        护肤品        套装       否\n",
       "\n",
       "[27512 rows x 11 columns]"
      ]
     },
     "execution_count": 117,
     "metadata": {},
     "output_type": "execute_result"
    }
   ],
   "source": [
    "data"
   ]
  },
  {
   "cell_type": "code",
   "execution_count": 118,
   "id": "2990fe0b",
   "metadata": {},
   "outputs": [
    {
     "data": {
      "text/plain": [
       "否    24959\n",
       "是     2553\n",
       "Name: 是否男士专用, dtype: int64"
      ]
     },
     "execution_count": 118,
     "metadata": {},
     "output_type": "execute_result"
    }
   ],
   "source": [
    "data['是否男士专用'].value_counts()"
   ]
  },
  {
   "cell_type": "code",
   "execution_count": null,
   "id": "82402ca0",
   "metadata": {},
   "outputs": [],
   "source": []
  },
  {
   "cell_type": "code",
   "execution_count": null,
   "id": "9a4b4008",
   "metadata": {},
   "outputs": [],
   "source": []
  }
 ],
 "metadata": {
  "kernelspec": {
   "display_name": "Python 3",
   "language": "python",
   "name": "python3"
  },
  "language_info": {
   "codemirror_mode": {
    "name": "ipython",
    "version": 3
   },
   "file_extension": ".py",
   "mimetype": "text/x-python",
   "name": "python",
   "nbconvert_exporter": "python",
   "pygments_lexer": "ipython3",
   "version": "3.8.8"
  },
  "varInspector": {
   "cols": {
    "lenName": 16,
    "lenType": 16,
    "lenVar": 40
   },
   "kernels_config": {
    "python": {
     "delete_cmd_postfix": "",
     "delete_cmd_prefix": "del ",
     "library": "var_list.py",
     "varRefreshCmd": "print(var_dic_list())"
    },
    "r": {
     "delete_cmd_postfix": ") ",
     "delete_cmd_prefix": "rm(",
     "library": "var_list.r",
     "varRefreshCmd": "cat(var_dic_list()) "
    }
   },
   "types_to_exclude": [
    "module",
    "function",
    "builtin_function_or_method",
    "instance",
    "_Feature"
   ],
   "window_display": false
  }
 },
 "nbformat": 4,
 "nbformat_minor": 5
}
