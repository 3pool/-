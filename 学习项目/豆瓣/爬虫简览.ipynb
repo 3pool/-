{
 "cells": [
  {
   "cell_type": "markdown",
   "id": "5af5ce84",
   "metadata": {},
   "source": [
    "###  抓取 豆瓣 top250"
   ]
  },
  {
   "cell_type": "code",
   "execution_count": 23,
   "id": "83039232",
   "metadata": {},
   "outputs": [],
   "source": [
    "import requests\n",
    "from bs4 import BeautifulSoup\n",
    "import re\n",
    "import chardet\n",
    "import pandas as pd"
   ]
  },
  {
   "cell_type": "code",
   "execution_count": 9,
   "id": "38c45ca1",
   "metadata": {},
   "outputs": [],
   "source": [
    "def get_html(url):\n",
    "    res = requests.get(url,\n",
    "                      headers = {'User-Agent': 'Mozilla/5.0 (Windows NT 10.0; Win64; x64) AppleWebKit/537.36 (KHTML, like Gecko) Chrome/92.0.4515.159 Safari/537.36'}\n",
    "                      )\n",
    "    res.encoding = 'utf-8'\n",
    "    return res"
   ]
  },
  {
   "cell_type": "code",
   "execution_count": 10,
   "id": "0070a62e",
   "metadata": {},
   "outputs": [],
   "source": [
    "res = get_html('https://movie.douban.com/top250?start=25&filter=')"
   ]
  },
  {
   "cell_type": "code",
   "execution_count": 11,
   "id": "8517f703",
   "metadata": {},
   "outputs": [],
   "source": [
    "soup = BeautifulSoup(res.text , 'html.parser')"
   ]
  },
  {
   "cell_type": "code",
   "execution_count": 15,
   "id": "eda6e90d",
   "metadata": {},
   "outputs": [],
   "source": [
    "divs = soup.find_all(class_='hd')"
   ]
  },
  {
   "cell_type": "code",
   "execution_count": 17,
   "id": "9248d4c9",
   "metadata": {},
   "outputs": [
    {
     "data": {
      "text/plain": [
       "['https://movie.douban.com/subject/6786002/',\n",
       " 'https://movie.douban.com/subject/1293172/',\n",
       " 'https://movie.douban.com/subject/1851857/',\n",
       " 'https://movie.douban.com/subject/20495023/',\n",
       " 'https://movie.douban.com/subject/1292365/',\n",
       " 'https://movie.douban.com/subject/1291552/',\n",
       " 'https://movie.douban.com/subject/1295038/',\n",
       " 'https://movie.douban.com/subject/1300267/',\n",
       " 'https://movie.douban.com/subject/30170448/',\n",
       " 'https://movie.douban.com/subject/2129039/',\n",
       " 'https://movie.douban.com/subject/21937452/',\n",
       " 'https://movie.douban.com/subject/26387939/',\n",
       " 'https://movie.douban.com/subject/1293182/',\n",
       " 'https://movie.douban.com/subject/1929463/',\n",
       " 'https://movie.douban.com/subject/1308807/',\n",
       " 'https://movie.douban.com/subject/1291858/',\n",
       " 'https://movie.douban.com/subject/26752088/',\n",
       " 'https://movie.douban.com/subject/1299398/',\n",
       " 'https://movie.douban.com/subject/1291583/',\n",
       " 'https://movie.douban.com/subject/1291828/',\n",
       " 'https://movie.douban.com/subject/1298624/',\n",
       " 'https://movie.douban.com/subject/1291572/',\n",
       " 'https://movie.douban.com/subject/1293839/',\n",
       " 'https://movie.douban.com/subject/1305487/',\n",
       " 'https://movie.douban.com/subject/21937445/']"
      ]
     },
     "execution_count": 17,
     "metadata": {},
     "output_type": "execute_result"
    }
   ],
   "source": [
    "hrefs = [each.a['href'] for each in divs]\n",
    "hrefs"
   ]
  },
  {
   "cell_type": "code",
   "execution_count": 18,
   "id": "2f86c07a",
   "metadata": {},
   "outputs": [],
   "source": [
    "def get_one_page(url):\n",
    "    res =get_html(url)\n",
    "    soup = BeautifulSoup(res.text , 'html.parser')\n",
    "    divs = soup.find_all(class_='hd')\n",
    "    hrefs = [each.a['href'] for each in divs]\n",
    "    return hrefs"
   ]
  },
  {
   "cell_type": "code",
   "execution_count": 20,
   "id": "a17525ca",
   "metadata": {},
   "outputs": [],
   "source": [
    "href_data = []\n",
    "for i in range(10):\n",
    "    url = f'https://movie.douban.com/top250?start={i*25}&filter='\n",
    "    hrefs = get_one_page(url)\n",
    "    href_data+=hrefs"
   ]
  },
  {
   "cell_type": "code",
   "execution_count": 26,
   "id": "edadf2a9",
   "metadata": {},
   "outputs": [],
   "source": [
    "pd.Series(href_data).to_csv('hrefs.csv', index=False ,header=False)"
   ]
  },
  {
   "cell_type": "code",
   "execution_count": 27,
   "id": "ea879b86",
   "metadata": {},
   "outputs": [],
   "source": [
    "# 定义抓取详情页的函数\n",
    "def get_detail_page(url):\n",
    "    res =get_html(url)\n",
    "    # \n",
    "    data = []\n",
    "    return data"
   ]
  },
  {
   "cell_type": "code",
   "execution_count": 30,
   "id": "1b282476",
   "metadata": {},
   "outputs": [],
   "source": [
    "import  time\n",
    "import random\n",
    "def main(start,end):\n",
    "    \n",
    "    for index in  range(start,end):\n",
    "        time.sleep(random.uniform(30,60))\n",
    "        print(f'正在抓取第{index}页')\n",
    "        url = href_data[index]\n",
    "        data = get_detail_page(url)\n",
    "        \n",
    "        pd.DataFrame(data).to_csv('xxx.csv',mode='a')\n",
    "        \n",
    "        "
   ]
  },
  {
   "cell_type": "code",
   "execution_count": null,
   "id": "1e3af217",
   "metadata": {},
   "outputs": [],
   "source": [
    "main(200,250)"
   ]
  }
 ],
 "metadata": {
  "kernelspec": {
   "display_name": "Python 3",
   "language": "python",
   "name": "python3"
  },
  "language_info": {
   "codemirror_mode": {
    "name": "ipython",
    "version": 3
   },
   "file_extension": ".py",
   "mimetype": "text/x-python",
   "name": "python",
   "nbconvert_exporter": "python",
   "pygments_lexer": "ipython3",
   "version": "3.8.8"
  },
  "varInspector": {
   "cols": {
    "lenName": 16,
    "lenType": 16,
    "lenVar": 40
   },
   "kernels_config": {
    "python": {
     "delete_cmd_postfix": "",
     "delete_cmd_prefix": "del ",
     "library": "var_list.py",
     "varRefreshCmd": "print(var_dic_list())"
    },
    "r": {
     "delete_cmd_postfix": ") ",
     "delete_cmd_prefix": "rm(",
     "library": "var_list.r",
     "varRefreshCmd": "cat(var_dic_list()) "
    }
   },
   "types_to_exclude": [
    "module",
    "function",
    "builtin_function_or_method",
    "instance",
    "_Feature"
   ],
   "window_display": false
  }
 },
 "nbformat": 4,
 "nbformat_minor": 5
}
