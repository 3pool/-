{
 "cells": [
  {
   "cell_type": "code",
   "execution_count": 1,
   "id": "d76a81be",
   "metadata": {},
   "outputs": [],
   "source": [
    "import numpy as np\n",
    "import pandas as pd\n",
    "from pandas import Series,DataFrame\n",
    "\n",
    "from datetime import datetime,timedelta\n",
    "from dateutil.parser import parse"
   ]
  },
  {
   "cell_type": "markdown",
   "id": "5495769d",
   "metadata": {},
   "source": [
    "### 1、背景信息"
   ]
  },
  {
   "cell_type": "markdown",
   "id": "f5b8bb0f",
   "metadata": {},
   "source": [
    "### 2、数据理解"
   ]
  },
  {
   "cell_type": "markdown",
   "id": "8ad6ae03",
   "metadata": {},
   "source": [
    "####  2.1、读取数据"
   ]
  },
  {
   "cell_type": "code",
   "execution_count": 5,
   "id": "1194722d",
   "metadata": {},
   "outputs": [
    {
     "data": {
      "text/html": [
       "<div>\n",
       "<style scoped>\n",
       "    .dataframe tbody tr th:only-of-type {\n",
       "        vertical-align: middle;\n",
       "    }\n",
       "\n",
       "    .dataframe tbody tr th {\n",
       "        vertical-align: top;\n",
       "    }\n",
       "\n",
       "    .dataframe thead th {\n",
       "        text-align: right;\n",
       "    }\n",
       "</style>\n",
       "<table border=\"1\" class=\"dataframe\">\n",
       "  <thead>\n",
       "    <tr style=\"text-align: right;\">\n",
       "      <th></th>\n",
       "      <th>C_ID</th>\n",
       "      <th>Pur_int</th>\n",
       "      <th>gender</th>\n",
       "      <th>age</th>\n",
       "      <th>degree</th>\n",
       "      <th>YNkid</th>\n",
       "      <th>kid_num</th>\n",
       "      <th>kid0002</th>\n",
       "      <th>kid0305</th>\n",
       "      <th>kid0610</th>\n",
       "      <th>...</th>\n",
       "      <th>PMH</th>\n",
       "      <th>PDP</th>\n",
       "      <th>PMP</th>\n",
       "      <th>PHO</th>\n",
       "      <th>PSFH</th>\n",
       "      <th>PKF</th>\n",
       "      <th>reside_year</th>\n",
       "      <th>PPMP</th>\n",
       "      <th>FIZLR</th>\n",
       "      <th>meda</th>\n",
       "    </tr>\n",
       "  </thead>\n",
       "  <tbody>\n",
       "    <tr>\n",
       "      <th>0</th>\n",
       "      <td>281478</td>\n",
       "      <td>0</td>\n",
       "      <td>M</td>\n",
       "      <td>67.0</td>\n",
       "      <td>5</td>\n",
       "      <td>Y</td>\n",
       "      <td>5</td>\n",
       "      <td>4</td>\n",
       "      <td>0</td>\n",
       "      <td>5</td>\n",
       "      <td>...</td>\n",
       "      <td>0</td>\n",
       "      <td>14</td>\n",
       "      <td>52</td>\n",
       "      <td>65</td>\n",
       "      <td>71.0</td>\n",
       "      <td>22</td>\n",
       "      <td>15.0</td>\n",
       "      <td>42</td>\n",
       "      <td>8</td>\n",
       "      <td>64.0</td>\n",
       "    </tr>\n",
       "    <tr>\n",
       "      <th>1</th>\n",
       "      <td>290485</td>\n",
       "      <td>0</td>\n",
       "      <td>M</td>\n",
       "      <td>76.0</td>\n",
       "      <td>4</td>\n",
       "      <td>U</td>\n",
       "      <td>0</td>\n",
       "      <td>0</td>\n",
       "      <td>0</td>\n",
       "      <td>0</td>\n",
       "      <td>...</td>\n",
       "      <td>0</td>\n",
       "      <td>15</td>\n",
       "      <td>44</td>\n",
       "      <td>81</td>\n",
       "      <td>99.0</td>\n",
       "      <td>37</td>\n",
       "      <td>17.0</td>\n",
       "      <td>46</td>\n",
       "      <td>3</td>\n",
       "      <td>61.0</td>\n",
       "    </tr>\n",
       "    <tr>\n",
       "      <th>2</th>\n",
       "      <td>299949</td>\n",
       "      <td>0</td>\n",
       "      <td>F</td>\n",
       "      <td>67.0</td>\n",
       "      <td>4</td>\n",
       "      <td>U</td>\n",
       "      <td>0</td>\n",
       "      <td>0</td>\n",
       "      <td>0</td>\n",
       "      <td>0</td>\n",
       "      <td>...</td>\n",
       "      <td>0</td>\n",
       "      <td>17</td>\n",
       "      <td>38</td>\n",
       "      <td>44</td>\n",
       "      <td>62.0</td>\n",
       "      <td>44</td>\n",
       "      <td>20.0</td>\n",
       "      <td>46</td>\n",
       "      <td>3</td>\n",
       "      <td>61.0</td>\n",
       "    </tr>\n",
       "    <tr>\n",
       "      <th>3</th>\n",
       "      <td>314635</td>\n",
       "      <td>0</td>\n",
       "      <td>F</td>\n",
       "      <td>71.0</td>\n",
       "      <td>4</td>\n",
       "      <td>Y</td>\n",
       "      <td>1</td>\n",
       "      <td>0</td>\n",
       "      <td>4</td>\n",
       "      <td>0</td>\n",
       "      <td>...</td>\n",
       "      <td>0</td>\n",
       "      <td>14</td>\n",
       "      <td>45</td>\n",
       "      <td>71</td>\n",
       "      <td>99.0</td>\n",
       "      <td>39</td>\n",
       "      <td>4.0</td>\n",
       "      <td>37</td>\n",
       "      <td>9</td>\n",
       "      <td>62.0</td>\n",
       "    </tr>\n",
       "    <tr>\n",
       "      <th>4</th>\n",
       "      <td>363702</td>\n",
       "      <td>0</td>\n",
       "      <td>F</td>\n",
       "      <td>75.0</td>\n",
       "      <td>4</td>\n",
       "      <td>U</td>\n",
       "      <td>0</td>\n",
       "      <td>0</td>\n",
       "      <td>0</td>\n",
       "      <td>0</td>\n",
       "      <td>...</td>\n",
       "      <td>10</td>\n",
       "      <td>29</td>\n",
       "      <td>32</td>\n",
       "      <td>13</td>\n",
       "      <td>36.0</td>\n",
       "      <td>15</td>\n",
       "      <td>9.0</td>\n",
       "      <td>37</td>\n",
       "      <td>3</td>\n",
       "      <td>NaN</td>\n",
       "    </tr>\n",
       "    <tr>\n",
       "      <th>...</th>\n",
       "      <td>...</td>\n",
       "      <td>...</td>\n",
       "      <td>...</td>\n",
       "      <td>...</td>\n",
       "      <td>...</td>\n",
       "      <td>...</td>\n",
       "      <td>...</td>\n",
       "      <td>...</td>\n",
       "      <td>...</td>\n",
       "      <td>...</td>\n",
       "      <td>...</td>\n",
       "      <td>...</td>\n",
       "      <td>...</td>\n",
       "      <td>...</td>\n",
       "      <td>...</td>\n",
       "      <td>...</td>\n",
       "      <td>...</td>\n",
       "      <td>...</td>\n",
       "      <td>...</td>\n",
       "      <td>...</td>\n",
       "      <td>...</td>\n",
       "    </tr>\n",
       "    <tr>\n",
       "      <th>43661</th>\n",
       "      <td>408977775</td>\n",
       "      <td>1</td>\n",
       "      <td>F</td>\n",
       "      <td>65.0</td>\n",
       "      <td>4</td>\n",
       "      <td>Y</td>\n",
       "      <td>2</td>\n",
       "      <td>4</td>\n",
       "      <td>0</td>\n",
       "      <td>0</td>\n",
       "      <td>...</td>\n",
       "      <td>0</td>\n",
       "      <td>13</td>\n",
       "      <td>63</td>\n",
       "      <td>87</td>\n",
       "      <td>97.0</td>\n",
       "      <td>42</td>\n",
       "      <td>3.0</td>\n",
       "      <td>75</td>\n",
       "      <td>6</td>\n",
       "      <td>37.0</td>\n",
       "    </tr>\n",
       "    <tr>\n",
       "      <th>43662</th>\n",
       "      <td>408977955</td>\n",
       "      <td>1</td>\n",
       "      <td>F</td>\n",
       "      <td>70.0</td>\n",
       "      <td>4</td>\n",
       "      <td>U</td>\n",
       "      <td>0</td>\n",
       "      <td>0</td>\n",
       "      <td>0</td>\n",
       "      <td>0</td>\n",
       "      <td>...</td>\n",
       "      <td>0</td>\n",
       "      <td>18</td>\n",
       "      <td>28</td>\n",
       "      <td>86</td>\n",
       "      <td>95.0</td>\n",
       "      <td>33</td>\n",
       "      <td>1.0</td>\n",
       "      <td>40</td>\n",
       "      <td>6</td>\n",
       "      <td>49.0</td>\n",
       "    </tr>\n",
       "    <tr>\n",
       "      <th>43663</th>\n",
       "      <td>408978092</td>\n",
       "      <td>1</td>\n",
       "      <td>M</td>\n",
       "      <td>65.0</td>\n",
       "      <td>6</td>\n",
       "      <td>U</td>\n",
       "      <td>0</td>\n",
       "      <td>0</td>\n",
       "      <td>0</td>\n",
       "      <td>0</td>\n",
       "      <td>...</td>\n",
       "      <td>0</td>\n",
       "      <td>5</td>\n",
       "      <td>22</td>\n",
       "      <td>65</td>\n",
       "      <td>79.0</td>\n",
       "      <td>31</td>\n",
       "      <td>25.0</td>\n",
       "      <td>46</td>\n",
       "      <td>8</td>\n",
       "      <td>61.0</td>\n",
       "    </tr>\n",
       "    <tr>\n",
       "      <th>43664</th>\n",
       "      <td>408978770</td>\n",
       "      <td>1</td>\n",
       "      <td>M</td>\n",
       "      <td>75.0</td>\n",
       "      <td>4</td>\n",
       "      <td>U</td>\n",
       "      <td>0</td>\n",
       "      <td>0</td>\n",
       "      <td>0</td>\n",
       "      <td>0</td>\n",
       "      <td>...</td>\n",
       "      <td>0</td>\n",
       "      <td>17</td>\n",
       "      <td>45</td>\n",
       "      <td>42</td>\n",
       "      <td>40.0</td>\n",
       "      <td>23</td>\n",
       "      <td>17.0</td>\n",
       "      <td>83</td>\n",
       "      <td>5</td>\n",
       "      <td>31.0</td>\n",
       "    </tr>\n",
       "    <tr>\n",
       "      <th>43665</th>\n",
       "      <td>408979600</td>\n",
       "      <td>1</td>\n",
       "      <td>M</td>\n",
       "      <td>76.0</td>\n",
       "      <td>3</td>\n",
       "      <td>U</td>\n",
       "      <td>0</td>\n",
       "      <td>0</td>\n",
       "      <td>0</td>\n",
       "      <td>0</td>\n",
       "      <td>...</td>\n",
       "      <td>36</td>\n",
       "      <td>12</td>\n",
       "      <td>58</td>\n",
       "      <td>74</td>\n",
       "      <td>61.0</td>\n",
       "      <td>36</td>\n",
       "      <td>0.0</td>\n",
       "      <td>65</td>\n",
       "      <td>2</td>\n",
       "      <td>46.0</td>\n",
       "    </tr>\n",
       "  </tbody>\n",
       "</table>\n",
       "<p>43666 rows × 76 columns</p>\n",
       "</div>"
      ],
      "text/plain": [
       "            C_ID  Pur_int gender   age  degree YNkid  kid_num  kid0002  \\\n",
       "0         281478        0      M  67.0       5     Y        5        4   \n",
       "1         290485        0      M  76.0       4     U        0        0   \n",
       "2         299949        0      F  67.0       4     U        0        0   \n",
       "3         314635        0      F  71.0       4     Y        1        0   \n",
       "4         363702        0      F  75.0       4     U        0        0   \n",
       "...          ...      ...    ...   ...     ...   ...      ...      ...   \n",
       "43661  408977775        1      F  65.0       4     Y        2        4   \n",
       "43662  408977955        1      F  70.0       4     U        0        0   \n",
       "43663  408978092        1      M  65.0       6     U        0        0   \n",
       "43664  408978770        1      M  75.0       4     U        0        0   \n",
       "43665  408979600        1      M  76.0       3     U        0        0   \n",
       "\n",
       "       kid0305  kid0610  ...  PMH  PDP  PMP  PHO  PSFH PKF reside_year PPMP  \\\n",
       "0            0        5  ...    0   14   52   65  71.0  22        15.0   42   \n",
       "1            0        0  ...    0   15   44   81  99.0  37        17.0   46   \n",
       "2            0        0  ...    0   17   38   44  62.0  44        20.0   46   \n",
       "3            4        0  ...    0   14   45   71  99.0  39         4.0   37   \n",
       "4            0        0  ...   10   29   32   13  36.0  15         9.0   37   \n",
       "...        ...      ...  ...  ...  ...  ...  ...   ...  ..         ...  ...   \n",
       "43661        0        0  ...    0   13   63   87  97.0  42         3.0   75   \n",
       "43662        0        0  ...    0   18   28   86  95.0  33         1.0   40   \n",
       "43663        0        0  ...    0    5   22   65  79.0  31        25.0   46   \n",
       "43664        0        0  ...    0   17   45   42  40.0  23        17.0   83   \n",
       "43665        0        0  ...   36   12   58   74  61.0  36         0.0   65   \n",
       "\n",
       "      FIZLR  meda  \n",
       "0         8  64.0  \n",
       "1         3  61.0  \n",
       "2         3  61.0  \n",
       "3         9  62.0  \n",
       "4         3   NaN  \n",
       "...     ...   ...  \n",
       "43661     6  37.0  \n",
       "43662     6  49.0  \n",
       "43663     8  61.0  \n",
       "43664     5  31.0  \n",
       "43665     2  46.0  \n",
       "\n",
       "[43666 rows x 76 columns]"
      ]
     },
     "execution_count": 5,
     "metadata": {},
     "output_type": "execute_result"
    }
   ],
   "source": [
    "df1 = pd.read_csv('InsuranceData.csv',encoding='gbk')\n",
    "df1"
   ]
  },
  {
   "cell_type": "markdown",
   "id": "043b6e89",
   "metadata": {},
   "source": [
    "#### 2.2 观察数据"
   ]
  },
  {
   "cell_type": "code",
   "execution_count": 6,
   "id": "4ff7956a",
   "metadata": {},
   "outputs": [
    {
     "data": {
      "text/plain": [
       "(43666, 76)"
      ]
     },
     "execution_count": 6,
     "metadata": {},
     "output_type": "execute_result"
    }
   ],
   "source": [
    "df1.shape"
   ]
  },
  {
   "cell_type": "code",
   "execution_count": 7,
   "id": "fdcca22a",
   "metadata": {
    "scrolled": true
   },
   "outputs": [
    {
     "name": "stdout",
     "output_type": "stream",
     "text": [
      "<class 'pandas.core.frame.DataFrame'>\n",
      "RangeIndex: 43666 entries, 0 to 43665\n",
      "Data columns (total 76 columns):\n",
      " #   Column           Non-Null Count  Dtype  \n",
      "---  ------           --------------  -----  \n",
      " 0   C_ID             43666 non-null  int64  \n",
      " 1   Pur_int          43666 non-null  int64  \n",
      " 2   gender           43666 non-null  object \n",
      " 3   age              43662 non-null  float64\n",
      " 4   degree           43666 non-null  int64  \n",
      " 5   YNkid            43666 non-null  object \n",
      " 6   kid_num          43666 non-null  int64  \n",
      " 7   kid0002          43666 non-null  int64  \n",
      " 8   kid0305          43666 non-null  int64  \n",
      " 9   kid0610          43666 non-null  int64  \n",
      " 10  kid1115          43666 non-null  int64  \n",
      " 11  kid1618          43666 non-null  int64  \n",
      " 12  adult_num        43666 non-null  int64  \n",
      " 13  fam_mem_num      43666 non-null  int64  \n",
      " 14  FYNU18           43666 non-null  object \n",
      " 15  FYN1819          43657 non-null  object \n",
      " 16  FYN2029          43666 non-null  object \n",
      " 17  FYN3039          43666 non-null  object \n",
      " 18  FYN4049          43666 non-null  object \n",
      " 19  FYN5059          43666 non-null  object \n",
      " 20  FYN6064          43666 non-null  object \n",
      " 21  FYN65P           43666 non-null  object \n",
      " 22  YNelder          43658 non-null  object \n",
      " 23  AART             43666 non-null  object \n",
      " 24  ADBT             43666 non-null  object \n",
      " 25  ADEP             43666 non-null  object \n",
      " 26  AHBP             43666 non-null  object \n",
      " 27  AHCH             43666 non-null  object \n",
      " 28  ARES             43666 non-null  object \n",
      " 29  AHRT             43666 non-null  object \n",
      " 30  AASN             43656 non-null  object \n",
      " 31  ADGS             43666 non-null  object \n",
      " 32  AHRL             43666 non-null  object \n",
      " 33  ASKN             43658 non-null  object \n",
      " 34  AVIS             43666 non-null  object \n",
      " 35  YNBR             43666 non-null  object \n",
      " 36  YNcollege        43658 non-null  object \n",
      " 37  YNI              43666 non-null  object \n",
      " 38  YNLI             43666 non-null  object \n",
      " 39  YNMI             43666 non-null  object \n",
      " 40  YNinvest         43666 non-null  object \n",
      " 41  YNOS             43666 non-null  object \n",
      " 42  YNEP             43659 non-null  object \n",
      " 43  city_size        43656 non-null  object \n",
      " 44  YNONL            43666 non-null  object \n",
      " 45  YNLA             43666 non-null  object \n",
      " 46  YNLS             43666 non-null  object \n",
      " 47  YNOE             43666 non-null  object \n",
      " 48  YNLE             43666 non-null  object \n",
      " 49  YNST             43666 non-null  object \n",
      " 50  happiness_index  43661 non-null  float64\n",
      " 51  YNHouse          43656 non-null  object \n",
      " 52  YNHIS            43655 non-null  object \n",
      " 53  income_rank      43664 non-null  float64\n",
      " 54  FEPI             43666 non-null  int64  \n",
      " 55  family_income    43659 non-null  float64\n",
      " 56  house_value      43651 non-null  float64\n",
      " 57  SESS             43666 non-null  int64  \n",
      " 58  family_time      43651 non-null  float64\n",
      " 59  LS_num           43666 non-null  int64  \n",
      " 60  State_Name       43666 non-null  object \n",
      " 61  PAP              43666 non-null  int64  \n",
      " 62  PBP              43666 non-null  int64  \n",
      " 63  CA2000           43661 non-null  float64\n",
      " 64  PBC              43666 non-null  int64  \n",
      " 65  PWC              43652 non-null  float64\n",
      " 66  PMH              43666 non-null  int64  \n",
      " 67  PDP              43666 non-null  int64  \n",
      " 68  PMP              43666 non-null  int64  \n",
      " 69  PHO              43666 non-null  int64  \n",
      " 70  PSFH             43643 non-null  float64\n",
      " 71  PKF              43666 non-null  int64  \n",
      " 72  reside_year      43660 non-null  float64\n",
      " 73  PPMP             43666 non-null  int64  \n",
      " 74  FIZLR            43666 non-null  int64  \n",
      " 75  meda             43651 non-null  float64\n",
      "dtypes: float64(11), int64(24), object(41)\n",
      "memory usage: 25.3+ MB\n"
     ]
    }
   ],
   "source": [
    "df1.info()"
   ]
  },
  {
   "cell_type": "code",
   "execution_count": 10,
   "id": "25b7ee19",
   "metadata": {},
   "outputs": [
    {
     "data": {
      "text/plain": [
       "0    26177\n",
       "1    17489\n",
       "Name: Pur_int, dtype: int64"
      ]
     },
     "execution_count": 10,
     "metadata": {},
     "output_type": "execute_result"
    }
   ],
   "source": [
    "# df1.Pur_int.unique()\n",
    "df1.Pur_int.value_counts()"
   ]
  },
  {
   "cell_type": "code",
   "execution_count": 12,
   "id": "912ec6b1",
   "metadata": {},
   "outputs": [
    {
     "data": {
      "text/html": [
       "<div>\n",
       "<style scoped>\n",
       "    .dataframe tbody tr th:only-of-type {\n",
       "        vertical-align: middle;\n",
       "    }\n",
       "\n",
       "    .dataframe tbody tr th {\n",
       "        vertical-align: top;\n",
       "    }\n",
       "\n",
       "    .dataframe thead th {\n",
       "        text-align: right;\n",
       "    }\n",
       "</style>\n",
       "<table border=\"1\" class=\"dataframe\">\n",
       "  <thead>\n",
       "    <tr style=\"text-align: right;\">\n",
       "      <th></th>\n",
       "      <th>count</th>\n",
       "      <th>mean</th>\n",
       "      <th>std</th>\n",
       "      <th>min</th>\n",
       "      <th>25%</th>\n",
       "      <th>50%</th>\n",
       "      <th>75%</th>\n",
       "      <th>max</th>\n",
       "    </tr>\n",
       "  </thead>\n",
       "  <tbody>\n",
       "    <tr>\n",
       "      <th>C_ID</th>\n",
       "      <td>43666.0</td>\n",
       "      <td>1.789466e+08</td>\n",
       "      <td>9.822350e+07</td>\n",
       "      <td>281478.0</td>\n",
       "      <td>108906510.5</td>\n",
       "      <td>181964294.5</td>\n",
       "      <td>220731848.0</td>\n",
       "      <td>408979600.0</td>\n",
       "    </tr>\n",
       "    <tr>\n",
       "      <th>Pur_int</th>\n",
       "      <td>43666.0</td>\n",
       "      <td>4.005176e-01</td>\n",
       "      <td>4.900089e-01</td>\n",
       "      <td>0.0</td>\n",
       "      <td>0.0</td>\n",
       "      <td>0.0</td>\n",
       "      <td>1.0</td>\n",
       "      <td>1.0</td>\n",
       "    </tr>\n",
       "    <tr>\n",
       "      <th>age</th>\n",
       "      <td>43662.0</td>\n",
       "      <td>7.122555e+01</td>\n",
       "      <td>4.318244e+00</td>\n",
       "      <td>65.0</td>\n",
       "      <td>67.0</td>\n",
       "      <td>71.0</td>\n",
       "      <td>75.0</td>\n",
       "      <td>101.0</td>\n",
       "    </tr>\n",
       "    <tr>\n",
       "      <th>degree</th>\n",
       "      <td>43666.0</td>\n",
       "      <td>4.142857e+00</td>\n",
       "      <td>1.071313e+00</td>\n",
       "      <td>0.0</td>\n",
       "      <td>3.0</td>\n",
       "      <td>4.0</td>\n",
       "      <td>5.0</td>\n",
       "      <td>8.0</td>\n",
       "    </tr>\n",
       "    <tr>\n",
       "      <th>kid_num</th>\n",
       "      <td>43666.0</td>\n",
       "      <td>4.657170e-01</td>\n",
       "      <td>1.045087e+00</td>\n",
       "      <td>0.0</td>\n",
       "      <td>0.0</td>\n",
       "      <td>0.0</td>\n",
       "      <td>0.0</td>\n",
       "      <td>9.0</td>\n",
       "    </tr>\n",
       "    <tr>\n",
       "      <th>kid0002</th>\n",
       "      <td>43666.0</td>\n",
       "      <td>2.678056e-01</td>\n",
       "      <td>9.964586e-01</td>\n",
       "      <td>0.0</td>\n",
       "      <td>0.0</td>\n",
       "      <td>0.0</td>\n",
       "      <td>0.0</td>\n",
       "      <td>6.0</td>\n",
       "    </tr>\n",
       "    <tr>\n",
       "      <th>kid0305</th>\n",
       "      <td>43666.0</td>\n",
       "      <td>2.140338e-01</td>\n",
       "      <td>8.869144e-01</td>\n",
       "      <td>0.0</td>\n",
       "      <td>0.0</td>\n",
       "      <td>0.0</td>\n",
       "      <td>0.0</td>\n",
       "      <td>7.0</td>\n",
       "    </tr>\n",
       "    <tr>\n",
       "      <th>kid0610</th>\n",
       "      <td>43666.0</td>\n",
       "      <td>3.819677e-01</td>\n",
       "      <td>1.178281e+00</td>\n",
       "      <td>0.0</td>\n",
       "      <td>0.0</td>\n",
       "      <td>0.0</td>\n",
       "      <td>0.0</td>\n",
       "      <td>7.0</td>\n",
       "    </tr>\n",
       "    <tr>\n",
       "      <th>kid1115</th>\n",
       "      <td>43666.0</td>\n",
       "      <td>3.131956e-01</td>\n",
       "      <td>1.047293e+00</td>\n",
       "      <td>0.0</td>\n",
       "      <td>0.0</td>\n",
       "      <td>0.0</td>\n",
       "      <td>0.0</td>\n",
       "      <td>7.0</td>\n",
       "    </tr>\n",
       "    <tr>\n",
       "      <th>kid1618</th>\n",
       "      <td>43666.0</td>\n",
       "      <td>2.243164e-01</td>\n",
       "      <td>8.582031e-01</td>\n",
       "      <td>0.0</td>\n",
       "      <td>0.0</td>\n",
       "      <td>0.0</td>\n",
       "      <td>0.0</td>\n",
       "      <td>7.0</td>\n",
       "    </tr>\n",
       "    <tr>\n",
       "      <th>adult_num</th>\n",
       "      <td>43666.0</td>\n",
       "      <td>2.080818e+00</td>\n",
       "      <td>1.215852e+00</td>\n",
       "      <td>0.0</td>\n",
       "      <td>1.0</td>\n",
       "      <td>2.0</td>\n",
       "      <td>3.0</td>\n",
       "      <td>9.0</td>\n",
       "    </tr>\n",
       "    <tr>\n",
       "      <th>fam_mem_num</th>\n",
       "      <td>43666.0</td>\n",
       "      <td>2.546535e+00</td>\n",
       "      <td>1.903632e+00</td>\n",
       "      <td>0.0</td>\n",
       "      <td>1.0</td>\n",
       "      <td>2.0</td>\n",
       "      <td>3.0</td>\n",
       "      <td>16.0</td>\n",
       "    </tr>\n",
       "    <tr>\n",
       "      <th>happiness_index</th>\n",
       "      <td>43661.0</td>\n",
       "      <td>2.842125e+00</td>\n",
       "      <td>1.172255e+00</td>\n",
       "      <td>1.0</td>\n",
       "      <td>2.0</td>\n",
       "      <td>3.0</td>\n",
       "      <td>4.0</td>\n",
       "      <td>6.0</td>\n",
       "    </tr>\n",
       "    <tr>\n",
       "      <th>income_rank</th>\n",
       "      <td>43664.0</td>\n",
       "      <td>5.415880e+01</td>\n",
       "      <td>2.839289e+01</td>\n",
       "      <td>1.0</td>\n",
       "      <td>30.0</td>\n",
       "      <td>57.0</td>\n",
       "      <td>79.0</td>\n",
       "      <td>99.0</td>\n",
       "    </tr>\n",
       "    <tr>\n",
       "      <th>FEPI</th>\n",
       "      <td>43666.0</td>\n",
       "      <td>5.559234e+01</td>\n",
       "      <td>2.312063e+01</td>\n",
       "      <td>0.0</td>\n",
       "      <td>40.0</td>\n",
       "      <td>52.0</td>\n",
       "      <td>68.0</td>\n",
       "      <td>303.0</td>\n",
       "    </tr>\n",
       "    <tr>\n",
       "      <th>family_income</th>\n",
       "      <td>43659.0</td>\n",
       "      <td>6.835454e+01</td>\n",
       "      <td>3.243213e+01</td>\n",
       "      <td>0.0</td>\n",
       "      <td>46.0</td>\n",
       "      <td>63.0</td>\n",
       "      <td>85.0</td>\n",
       "      <td>255.0</td>\n",
       "    </tr>\n",
       "    <tr>\n",
       "      <th>house_value</th>\n",
       "      <td>43651.0</td>\n",
       "      <td>3.172760e+02</td>\n",
       "      <td>2.395435e+02</td>\n",
       "      <td>0.0</td>\n",
       "      <td>140.0</td>\n",
       "      <td>233.0</td>\n",
       "      <td>429.0</td>\n",
       "      <td>999.0</td>\n",
       "    </tr>\n",
       "    <tr>\n",
       "      <th>SESS</th>\n",
       "      <td>43666.0</td>\n",
       "      <td>8.926989e+01</td>\n",
       "      <td>1.945274e+01</td>\n",
       "      <td>60.0</td>\n",
       "      <td>75.0</td>\n",
       "      <td>85.0</td>\n",
       "      <td>99.0</td>\n",
       "      <td>170.0</td>\n",
       "    </tr>\n",
       "    <tr>\n",
       "      <th>family_time</th>\n",
       "      <td>43651.0</td>\n",
       "      <td>5.295240e+01</td>\n",
       "      <td>6.492013e+00</td>\n",
       "      <td>0.0</td>\n",
       "      <td>49.0</td>\n",
       "      <td>53.0</td>\n",
       "      <td>57.0</td>\n",
       "      <td>85.0</td>\n",
       "    </tr>\n",
       "    <tr>\n",
       "      <th>LS_num</th>\n",
       "      <td>43666.0</td>\n",
       "      <td>7.865135e+00</td>\n",
       "      <td>3.562592e+00</td>\n",
       "      <td>1.0</td>\n",
       "      <td>5.0</td>\n",
       "      <td>8.0</td>\n",
       "      <td>11.0</td>\n",
       "      <td>19.0</td>\n",
       "    </tr>\n",
       "    <tr>\n",
       "      <th>PAP</th>\n",
       "      <td>43666.0</td>\n",
       "      <td>8.878152e+01</td>\n",
       "      <td>1.117887e+01</td>\n",
       "      <td>0.0</td>\n",
       "      <td>85.0</td>\n",
       "      <td>93.0</td>\n",
       "      <td>97.0</td>\n",
       "      <td>99.0</td>\n",
       "    </tr>\n",
       "    <tr>\n",
       "      <th>PBP</th>\n",
       "      <td>43666.0</td>\n",
       "      <td>1.105918e+01</td>\n",
       "      <td>1.070534e+01</td>\n",
       "      <td>0.0</td>\n",
       "      <td>3.0</td>\n",
       "      <td>7.0</td>\n",
       "      <td>15.0</td>\n",
       "      <td>99.0</td>\n",
       "    </tr>\n",
       "    <tr>\n",
       "      <th>CA2000</th>\n",
       "      <td>43661.0</td>\n",
       "      <td>1.478484e+01</td>\n",
       "      <td>1.574934e+01</td>\n",
       "      <td>0.0</td>\n",
       "      <td>4.0</td>\n",
       "      <td>10.0</td>\n",
       "      <td>19.0</td>\n",
       "      <td>99.0</td>\n",
       "    </tr>\n",
       "    <tr>\n",
       "      <th>PBC</th>\n",
       "      <td>43666.0</td>\n",
       "      <td>1.940258e+01</td>\n",
       "      <td>9.970788e+00</td>\n",
       "      <td>0.0</td>\n",
       "      <td>12.0</td>\n",
       "      <td>19.0</td>\n",
       "      <td>26.0</td>\n",
       "      <td>67.0</td>\n",
       "    </tr>\n",
       "    <tr>\n",
       "      <th>PWC</th>\n",
       "      <td>43652.0</td>\n",
       "      <td>6.152845e+01</td>\n",
       "      <td>1.532013e+01</td>\n",
       "      <td>0.0</td>\n",
       "      <td>51.0</td>\n",
       "      <td>61.0</td>\n",
       "      <td>73.0</td>\n",
       "      <td>99.0</td>\n",
       "    </tr>\n",
       "    <tr>\n",
       "      <th>PMH</th>\n",
       "      <td>43666.0</td>\n",
       "      <td>2.713393e+00</td>\n",
       "      <td>8.808566e+00</td>\n",
       "      <td>0.0</td>\n",
       "      <td>0.0</td>\n",
       "      <td>0.0</td>\n",
       "      <td>0.0</td>\n",
       "      <td>99.0</td>\n",
       "    </tr>\n",
       "    <tr>\n",
       "      <th>PDP</th>\n",
       "      <td>43666.0</td>\n",
       "      <td>1.580349e+01</td>\n",
       "      <td>5.460422e+00</td>\n",
       "      <td>0.0</td>\n",
       "      <td>12.0</td>\n",
       "      <td>15.0</td>\n",
       "      <td>19.0</td>\n",
       "      <td>55.0</td>\n",
       "    </tr>\n",
       "    <tr>\n",
       "      <th>PMP</th>\n",
       "      <td>43666.0</td>\n",
       "      <td>4.428434e+01</td>\n",
       "      <td>1.376376e+01</td>\n",
       "      <td>0.0</td>\n",
       "      <td>35.0</td>\n",
       "      <td>45.0</td>\n",
       "      <td>55.0</td>\n",
       "      <td>82.0</td>\n",
       "    </tr>\n",
       "    <tr>\n",
       "      <th>PHO</th>\n",
       "      <td>43666.0</td>\n",
       "      <td>6.023609e+01</td>\n",
       "      <td>2.493741e+01</td>\n",
       "      <td>0.0</td>\n",
       "      <td>42.0</td>\n",
       "      <td>66.0</td>\n",
       "      <td>81.0</td>\n",
       "      <td>99.0</td>\n",
       "    </tr>\n",
       "    <tr>\n",
       "      <th>PSFH</th>\n",
       "      <td>43643.0</td>\n",
       "      <td>6.804560e+01</td>\n",
       "      <td>3.049988e+01</td>\n",
       "      <td>0.0</td>\n",
       "      <td>49.0</td>\n",
       "      <td>78.0</td>\n",
       "      <td>95.0</td>\n",
       "      <td>99.0</td>\n",
       "    </tr>\n",
       "    <tr>\n",
       "      <th>PKF</th>\n",
       "      <td>43666.0</td>\n",
       "      <td>3.328358e+01</td>\n",
       "      <td>1.196219e+01</td>\n",
       "      <td>0.0</td>\n",
       "      <td>26.0</td>\n",
       "      <td>33.0</td>\n",
       "      <td>40.0</td>\n",
       "      <td>99.0</td>\n",
       "    </tr>\n",
       "    <tr>\n",
       "      <th>reside_year</th>\n",
       "      <td>43660.0</td>\n",
       "      <td>1.801496e+01</td>\n",
       "      <td>1.917474e+01</td>\n",
       "      <td>0.0</td>\n",
       "      <td>7.0</td>\n",
       "      <td>15.0</td>\n",
       "      <td>19.0</td>\n",
       "      <td>99.0</td>\n",
       "    </tr>\n",
       "    <tr>\n",
       "      <th>PPMP</th>\n",
       "      <td>43666.0</td>\n",
       "      <td>5.557493e+01</td>\n",
       "      <td>1.320481e+01</td>\n",
       "      <td>26.0</td>\n",
       "      <td>46.0</td>\n",
       "      <td>54.0</td>\n",
       "      <td>65.0</td>\n",
       "      <td>99.0</td>\n",
       "    </tr>\n",
       "    <tr>\n",
       "      <th>FIZLR</th>\n",
       "      <td>43666.0</td>\n",
       "      <td>4.406792e+00</td>\n",
       "      <td>3.089849e+00</td>\n",
       "      <td>0.0</td>\n",
       "      <td>1.0</td>\n",
       "      <td>4.0</td>\n",
       "      <td>7.0</td>\n",
       "      <td>9.0</td>\n",
       "    </tr>\n",
       "    <tr>\n",
       "      <th>meda</th>\n",
       "      <td>43651.0</td>\n",
       "      <td>5.083487e+01</td>\n",
       "      <td>1.567596e+01</td>\n",
       "      <td>6.0</td>\n",
       "      <td>39.0</td>\n",
       "      <td>51.0</td>\n",
       "      <td>61.0</td>\n",
       "      <td>93.0</td>\n",
       "    </tr>\n",
       "  </tbody>\n",
       "</table>\n",
       "</div>"
      ],
      "text/plain": [
       "                   count          mean           std       min          25%  \\\n",
       "C_ID             43666.0  1.789466e+08  9.822350e+07  281478.0  108906510.5   \n",
       "Pur_int          43666.0  4.005176e-01  4.900089e-01       0.0          0.0   \n",
       "age              43662.0  7.122555e+01  4.318244e+00      65.0         67.0   \n",
       "degree           43666.0  4.142857e+00  1.071313e+00       0.0          3.0   \n",
       "kid_num          43666.0  4.657170e-01  1.045087e+00       0.0          0.0   \n",
       "kid0002          43666.0  2.678056e-01  9.964586e-01       0.0          0.0   \n",
       "kid0305          43666.0  2.140338e-01  8.869144e-01       0.0          0.0   \n",
       "kid0610          43666.0  3.819677e-01  1.178281e+00       0.0          0.0   \n",
       "kid1115          43666.0  3.131956e-01  1.047293e+00       0.0          0.0   \n",
       "kid1618          43666.0  2.243164e-01  8.582031e-01       0.0          0.0   \n",
       "adult_num        43666.0  2.080818e+00  1.215852e+00       0.0          1.0   \n",
       "fam_mem_num      43666.0  2.546535e+00  1.903632e+00       0.0          1.0   \n",
       "happiness_index  43661.0  2.842125e+00  1.172255e+00       1.0          2.0   \n",
       "income_rank      43664.0  5.415880e+01  2.839289e+01       1.0         30.0   \n",
       "FEPI             43666.0  5.559234e+01  2.312063e+01       0.0         40.0   \n",
       "family_income    43659.0  6.835454e+01  3.243213e+01       0.0         46.0   \n",
       "house_value      43651.0  3.172760e+02  2.395435e+02       0.0        140.0   \n",
       "SESS             43666.0  8.926989e+01  1.945274e+01      60.0         75.0   \n",
       "family_time      43651.0  5.295240e+01  6.492013e+00       0.0         49.0   \n",
       "LS_num           43666.0  7.865135e+00  3.562592e+00       1.0          5.0   \n",
       "PAP              43666.0  8.878152e+01  1.117887e+01       0.0         85.0   \n",
       "PBP              43666.0  1.105918e+01  1.070534e+01       0.0          3.0   \n",
       "CA2000           43661.0  1.478484e+01  1.574934e+01       0.0          4.0   \n",
       "PBC              43666.0  1.940258e+01  9.970788e+00       0.0         12.0   \n",
       "PWC              43652.0  6.152845e+01  1.532013e+01       0.0         51.0   \n",
       "PMH              43666.0  2.713393e+00  8.808566e+00       0.0          0.0   \n",
       "PDP              43666.0  1.580349e+01  5.460422e+00       0.0         12.0   \n",
       "PMP              43666.0  4.428434e+01  1.376376e+01       0.0         35.0   \n",
       "PHO              43666.0  6.023609e+01  2.493741e+01       0.0         42.0   \n",
       "PSFH             43643.0  6.804560e+01  3.049988e+01       0.0         49.0   \n",
       "PKF              43666.0  3.328358e+01  1.196219e+01       0.0         26.0   \n",
       "reside_year      43660.0  1.801496e+01  1.917474e+01       0.0          7.0   \n",
       "PPMP             43666.0  5.557493e+01  1.320481e+01      26.0         46.0   \n",
       "FIZLR            43666.0  4.406792e+00  3.089849e+00       0.0          1.0   \n",
       "meda             43651.0  5.083487e+01  1.567596e+01       6.0         39.0   \n",
       "\n",
       "                         50%          75%          max  \n",
       "C_ID             181964294.5  220731848.0  408979600.0  \n",
       "Pur_int                  0.0          1.0          1.0  \n",
       "age                     71.0         75.0        101.0  \n",
       "degree                   4.0          5.0          8.0  \n",
       "kid_num                  0.0          0.0          9.0  \n",
       "kid0002                  0.0          0.0          6.0  \n",
       "kid0305                  0.0          0.0          7.0  \n",
       "kid0610                  0.0          0.0          7.0  \n",
       "kid1115                  0.0          0.0          7.0  \n",
       "kid1618                  0.0          0.0          7.0  \n",
       "adult_num                2.0          3.0          9.0  \n",
       "fam_mem_num              2.0          3.0         16.0  \n",
       "happiness_index          3.0          4.0          6.0  \n",
       "income_rank             57.0         79.0         99.0  \n",
       "FEPI                    52.0         68.0        303.0  \n",
       "family_income           63.0         85.0        255.0  \n",
       "house_value            233.0        429.0        999.0  \n",
       "SESS                    85.0         99.0        170.0  \n",
       "family_time             53.0         57.0         85.0  \n",
       "LS_num                   8.0         11.0         19.0  \n",
       "PAP                     93.0         97.0         99.0  \n",
       "PBP                      7.0         15.0         99.0  \n",
       "CA2000                  10.0         19.0         99.0  \n",
       "PBC                     19.0         26.0         67.0  \n",
       "PWC                     61.0         73.0         99.0  \n",
       "PMH                      0.0          0.0         99.0  \n",
       "PDP                     15.0         19.0         55.0  \n",
       "PMP                     45.0         55.0         82.0  \n",
       "PHO                     66.0         81.0         99.0  \n",
       "PSFH                    78.0         95.0         99.0  \n",
       "PKF                     33.0         40.0         99.0  \n",
       "reside_year             15.0         19.0         99.0  \n",
       "PPMP                    54.0         65.0         99.0  \n",
       "FIZLR                    4.0          7.0          9.0  \n",
       "meda                    51.0         61.0         93.0  "
      ]
     },
     "execution_count": 12,
     "metadata": {},
     "output_type": "execute_result"
    }
   ],
   "source": [
    "# 描述统计\n",
    "df1.describe().T"
   ]
  },
  {
   "cell_type": "markdown",
   "id": "698985cd",
   "metadata": {},
   "source": [
    "### 3、可视化分析"
   ]
  },
  {
   "cell_type": "code",
   "execution_count": 13,
   "id": "1ca93336",
   "metadata": {},
   "outputs": [],
   "source": [
    "import numpy as np\n",
    "import pandas as pd\n",
    "from pandas import Series,DataFrame\n",
    "\n",
    "import matplotlib.pyplot as plt\n",
    "# 解决中文显示\n",
    "plt.rcParams['font.sans-serif'] = ['SimHei']\n",
    "# plt.rcParams['font.sans-serif'] = ['Arial Unicode MS']  # mac 用这行\n",
    "# 负号正常显示\n",
    "plt.rcParams['axes.unicode_minus'] = False\n",
    "plt.rcParams.update({'font.size':12})        # 设置字号大小\n",
    "\n",
    "import random\n",
    "def getColor(n=None):\n",
    "    if n:\n",
    "        return ['#'+''.join(random.choices('0123456789abcdef',k=6)) for i in range(n)]\n",
    "    else:\n",
    "        return '#'+''.join(random.choices('0123456789abcdef',k=6))"
   ]
  },
  {
   "cell_type": "markdown",
   "id": "00542a74",
   "metadata": {},
   "source": [
    "#### 3.1、对是否购买的 目标变量 进行 处理"
   ]
  },
  {
   "cell_type": "code",
   "execution_count": 14,
   "id": "03c017f9",
   "metadata": {
    "scrolled": true
   },
   "outputs": [
    {
     "data": {
      "text/plain": [
       "0    26177\n",
       "1    17489\n",
       "Name: Pur_int, dtype: int64"
      ]
     },
     "execution_count": 14,
     "metadata": {},
     "output_type": "execute_result"
    }
   ],
   "source": [
    "# 值统计\n",
    "Purchase_freq = df1.Pur_int.value_counts()\n",
    "Purchase_freq"
   ]
  },
  {
   "cell_type": "code",
   "execution_count": 17,
   "id": "52282fa6",
   "metadata": {},
   "outputs": [],
   "source": [
    "# 根据是否购买， 分为 购买用户 与 未购买用户\n",
    "df_Pur01 = df1[ df1.Pur_int ==1 ].reset_index()\n",
    "df_Pur00 = df1[ df1.Pur_int ==0 ].reset_index()"
   ]
  },
  {
   "cell_type": "markdown",
   "id": "4d6748a9",
   "metadata": {},
   "source": [
    "- 对是否购买做可视化展示"
   ]
  },
  {
   "cell_type": "code",
   "execution_count": 23,
   "id": "9031ad9a",
   "metadata": {},
   "outputs": [
    {
     "data": {
      "text/plain": [
       "<AxesSubplot:title={'center':'购买意愿饼图'}, ylabel='Pur_int'>"
      ]
     },
     "execution_count": 23,
     "metadata": {},
     "output_type": "execute_result"
    },
    {
     "data": {
      "image/png": "[encoded data removed]",
      "text/plain": [
       "<Figure size 864x432 with 2 Axes>"
      ]
     },
     "metadata": {
      "needs_background": "light"
     },
     "output_type": "display_data"
    }
   ],
   "source": [
    "fig,axes = plt.subplots( 1,2 ,figsize=(12,6) )\n",
    "\n",
    "Purchase_freq.plot.bar( ax = axes[0] ,title='购买意愿柱状图')\n",
    "\n",
    "Purchase_freq.plot.pie( ax = axes[1] ,title='购买意愿饼图' ,autopct='%.2f%%')"
   ]
  },
  {
   "cell_type": "markdown",
   "id": "4086296d",
   "metadata": {},
   "source": [
    "#### 3.2 探索性分析 - 用户个人情况 与 是否购买 的关系"
   ]
  },
  {
   "cell_type": "markdown",
   "id": "921b5976",
   "metadata": {},
   "source": [
    "#####  1 、用户年龄 与 是否购买"
   ]
  },
  {
   "cell_type": "markdown",
   "id": "f0f3a22b",
   "metadata": {},
   "source": [
    "（1） age分布直方图"
   ]
  },
  {
   "cell_type": "code",
   "execution_count": 43,
   "id": "a9ab0808",
   "metadata": {},
   "outputs": [
    {
     "data": {
      "text/plain": [
       "65.0     3475\n",
       "66.0     3967\n",
       "67.0     3670\n",
       "68.0     3423\n",
       "69.0     3449\n",
       "70.0     2948\n",
       "71.0     2943\n",
       "72.0     2909\n",
       "73.0     2814\n",
       "74.0     2817\n",
       "75.0     2448\n",
       "76.0     2220\n",
       "77.0     2012\n",
       "78.0     2038\n",
       "79.0     1823\n",
       "80.0      691\n",
       "82.0        1\n",
       "86.0        2\n",
       "87.0        1\n",
       "88.0        2\n",
       "90.0        1\n",
       "91.0        2\n",
       "94.0        1\n",
       "95.0        1\n",
       "96.0        1\n",
       "98.0        1\n",
       "99.0        1\n",
       "101.0       1\n",
       "Name: age, dtype: int64"
      ]
     },
     "execution_count": 43,
     "metadata": {},
     "output_type": "execute_result"
    }
   ],
   "source": [
    "df1.age.value_counts().sort_index()"
   ]
  },
  {
   "cell_type": "code",
   "execution_count": 42,
   "id": "cd18eb0d",
   "metadata": {},
   "outputs": [
    {
     "data": {
      "text/plain": [
       "<AxesSubplot:>"
      ]
     },
     "execution_count": 42,
     "metadata": {},
     "output_type": "execute_result"
    },
    {
     "data": {
      "image/png": "[encoded data removed]",
      "text/plain": [
       "<Figure size 432x288 with 1 Axes>"
      ]
     },
     "metadata": {
      "needs_background": "light"
     },
     "output_type": "display_data"
    }
   ],
   "source": [
    "df1.age.value_counts().sort_index().plot.bar()"
   ]
  },
  {
   "cell_type": "code",
   "execution_count": 35,
   "id": "45c86b43",
   "metadata": {},
   "outputs": [
    {
     "data": {
      "text/plain": [
       "<AxesSubplot:ylabel='Frequency'>"
      ]
     },
     "execution_count": 35,
     "metadata": {},
     "output_type": "execute_result"
    },
    {
     "data": {
      "image/png": "[encoded data removed]",
      "text/plain": [
       "<Figure size 432x288 with 1 Axes>"
      ]
     },
     "metadata": {
      "needs_background": "light"
     },
     "output_type": "display_data"
    }
   ],
   "source": [
    "# 直方图 , 分为多少份  102-65\n",
    "df1.age.plot.hist(bins= 37 )"
   ]
  },
  {
   "cell_type": "markdown",
   "id": "0b6ced64",
   "metadata": {},
   "source": [
    "    结论： 大部分购买用户在 65-80之间，而 65-69 是一个更多的购买数"
   ]
  },
  {
   "cell_type": "markdown",
   "id": "acb85c2d",
   "metadata": {},
   "source": [
    "##### (2)、用户 是否购买 的 平均年龄"
   ]
  },
  {
   "cell_type": "code",
   "execution_count": 45,
   "id": "746fb8a0",
   "metadata": {},
   "outputs": [
    {
     "data": {
      "text/html": [
       "<div>\n",
       "<style scoped>\n",
       "    .dataframe tbody tr th:only-of-type {\n",
       "        vertical-align: middle;\n",
       "    }\n",
       "\n",
       "    .dataframe tbody tr th {\n",
       "        vertical-align: top;\n",
       "    }\n",
       "\n",
       "    .dataframe thead th {\n",
       "        text-align: right;\n",
       "    }\n",
       "</style>\n",
       "<table border=\"1\" class=\"dataframe\">\n",
       "  <thead>\n",
       "    <tr style=\"text-align: right;\">\n",
       "      <th></th>\n",
       "      <th>age</th>\n",
       "    </tr>\n",
       "    <tr>\n",
       "      <th>Pur_int</th>\n",
       "      <th></th>\n",
       "    </tr>\n",
       "  </thead>\n",
       "  <tbody>\n",
       "    <tr>\n",
       "      <th>0</th>\n",
       "      <td>71.456998</td>\n",
       "    </tr>\n",
       "    <tr>\n",
       "      <th>1</th>\n",
       "      <td>70.879181</td>\n",
       "    </tr>\n",
       "  </tbody>\n",
       "</table>\n",
       "</div>"
      ],
      "text/plain": [
       "               age\n",
       "Pur_int           \n",
       "0        71.456998\n",
       "1        70.879181"
      ]
     },
     "execution_count": 45,
     "metadata": {},
     "output_type": "execute_result"
    }
   ],
   "source": [
    "df1.pivot_table(values='age' , index='Pur_int')"
   ]
  },
  {
   "cell_type": "markdown",
   "id": "363b6706",
   "metadata": {},
   "source": [
    "#####  (3)  查看 购买客户的 年龄分布情况"
   ]
  },
  {
   "cell_type": "code",
   "execution_count": 47,
   "id": "feb3a819",
   "metadata": {},
   "outputs": [
    {
     "data": {
      "text/plain": [
       "66.0     1873\n",
       "67.0     1589\n",
       "65.0     1537\n",
       "68.0     1473\n",
       "69.0     1424\n",
       "70.0     1243\n",
       "71.0     1093\n",
       "72.0     1081\n",
       "74.0     1024\n",
       "73.0     1020\n",
       "75.0      897\n",
       "76.0      820\n",
       "78.0      764\n",
       "77.0      743\n",
       "79.0      652\n",
       "80.0      244\n",
       "86.0        2\n",
       "88.0        2\n",
       "91.0        2\n",
       "98.0        1\n",
       "82.0        1\n",
       "101.0       1\n",
       "96.0        1\n",
       "87.0        1\n",
       "99.0        1\n",
       "Name: age, dtype: int64"
      ]
     },
     "execution_count": 47,
     "metadata": {},
     "output_type": "execute_result"
    }
   ],
   "source": [
    "df_Pur01.age.value_counts()"
   ]
  },
  {
   "cell_type": "markdown",
   "id": "deee4b42",
   "metadata": {},
   "source": [
    "#### 2、 性别 gender 与 是否购买的 关系"
   ]
  },
  {
   "cell_type": "markdown",
   "id": "383efe3e",
   "metadata": {},
   "source": [
    "##### (1) 客户性别"
   ]
  },
  {
   "cell_type": "code",
   "execution_count": 49,
   "id": "39e5fa02",
   "metadata": {},
   "outputs": [
    {
     "data": {
      "text/plain": [
       "F    25405\n",
       "M    18261\n",
       "Name: gender, dtype: int64"
      ]
     },
     "execution_count": 49,
     "metadata": {},
     "output_type": "execute_result"
    }
   ],
   "source": [
    "df1.gender.value_counts()"
   ]
  },
  {
   "cell_type": "markdown",
   "id": "580c50d0",
   "metadata": {},
   "source": [
    "##### (2) 分组统计展示 是否 购买的 性别比列"
   ]
  },
  {
   "cell_type": "code",
   "execution_count": 60,
   "id": "9179acf6",
   "metadata": {},
   "outputs": [
    {
     "data": {
      "text/html": [
       "<div>\n",
       "<style scoped>\n",
       "    .dataframe tbody tr th:only-of-type {\n",
       "        vertical-align: middle;\n",
       "    }\n",
       "\n",
       "    .dataframe tbody tr th {\n",
       "        vertical-align: top;\n",
       "    }\n",
       "\n",
       "    .dataframe thead th {\n",
       "        text-align: right;\n",
       "    }\n",
       "</style>\n",
       "<table border=\"1\" class=\"dataframe\">\n",
       "  <thead>\n",
       "    <tr style=\"text-align: right;\">\n",
       "      <th>gender</th>\n",
       "      <th>F</th>\n",
       "      <th>M</th>\n",
       "    </tr>\n",
       "    <tr>\n",
       "      <th>Pur_int</th>\n",
       "      <th></th>\n",
       "      <th></th>\n",
       "    </tr>\n",
       "  </thead>\n",
       "  <tbody>\n",
       "    <tr>\n",
       "      <th>0</th>\n",
       "      <td>15117</td>\n",
       "      <td>11060</td>\n",
       "    </tr>\n",
       "    <tr>\n",
       "      <th>1</th>\n",
       "      <td>10288</td>\n",
       "      <td>7201</td>\n",
       "    </tr>\n",
       "  </tbody>\n",
       "</table>\n",
       "</div>"
      ],
      "text/plain": [
       "gender       F      M\n",
       "Pur_int              \n",
       "0        15117  11060\n",
       "1        10288   7201"
      ]
     },
     "execution_count": 60,
     "metadata": {},
     "output_type": "execute_result"
    }
   ],
   "source": [
    "df1.groupby(by=['Pur_int','gender'])['gender'].count().unstack()"
   ]
  },
  {
   "cell_type": "code",
   "execution_count": 68,
   "id": "c758bd2d",
   "metadata": {},
   "outputs": [
    {
     "data": {
      "text/html": [
       "<div>\n",
       "<style scoped>\n",
       "    .dataframe tbody tr th:only-of-type {\n",
       "        vertical-align: middle;\n",
       "    }\n",
       "\n",
       "    .dataframe tbody tr th {\n",
       "        vertical-align: top;\n",
       "    }\n",
       "\n",
       "    .dataframe thead th {\n",
       "        text-align: right;\n",
       "    }\n",
       "</style>\n",
       "<table border=\"1\" class=\"dataframe\">\n",
       "  <thead>\n",
       "    <tr style=\"text-align: right;\">\n",
       "      <th>gender</th>\n",
       "      <th>F</th>\n",
       "      <th>M</th>\n",
       "      <th>All</th>\n",
       "    </tr>\n",
       "    <tr>\n",
       "      <th>Pur_int</th>\n",
       "      <th></th>\n",
       "      <th></th>\n",
       "      <th></th>\n",
       "    </tr>\n",
       "  </thead>\n",
       "  <tbody>\n",
       "    <tr>\n",
       "      <th>0</th>\n",
       "      <td>15115</td>\n",
       "      <td>11058</td>\n",
       "      <td>26173</td>\n",
       "    </tr>\n",
       "    <tr>\n",
       "      <th>1</th>\n",
       "      <td>10288</td>\n",
       "      <td>7201</td>\n",
       "      <td>17489</td>\n",
       "    </tr>\n",
       "    <tr>\n",
       "      <th>All</th>\n",
       "      <td>25403</td>\n",
       "      <td>18259</td>\n",
       "      <td>43662</td>\n",
       "    </tr>\n",
       "  </tbody>\n",
       "</table>\n",
       "</div>"
      ],
      "text/plain": [
       "gender       F      M    All\n",
       "Pur_int                     \n",
       "0        15115  11058  26173\n",
       "1        10288   7201  17489\n",
       "All      25403  18259  43662"
      ]
     },
     "execution_count": 68,
     "metadata": {},
     "output_type": "execute_result"
    }
   ],
   "source": [
    "df1.pivot_table( values='age', index='Pur_int' , columns='gender' ,aggfunc='count' ,margins=True ,dropna=True)"
   ]
  },
  {
   "cell_type": "code",
   "execution_count": 65,
   "id": "4a2df957",
   "metadata": {},
   "outputs": [
    {
     "data": {
      "text/html": [
       "<div>\n",
       "<style scoped>\n",
       "    .dataframe tbody tr th:only-of-type {\n",
       "        vertical-align: middle;\n",
       "    }\n",
       "\n",
       "    .dataframe tbody tr th {\n",
       "        vertical-align: top;\n",
       "    }\n",
       "\n",
       "    .dataframe thead th {\n",
       "        text-align: right;\n",
       "    }\n",
       "</style>\n",
       "<table border=\"1\" class=\"dataframe\">\n",
       "  <thead>\n",
       "    <tr style=\"text-align: right;\">\n",
       "      <th>gender</th>\n",
       "      <th>F</th>\n",
       "      <th>M</th>\n",
       "      <th>All</th>\n",
       "    </tr>\n",
       "    <tr>\n",
       "      <th>Pur_int</th>\n",
       "      <th></th>\n",
       "      <th></th>\n",
       "      <th></th>\n",
       "    </tr>\n",
       "  </thead>\n",
       "  <tbody>\n",
       "    <tr>\n",
       "      <th>0</th>\n",
       "      <td>15117</td>\n",
       "      <td>11060</td>\n",
       "      <td>26177</td>\n",
       "    </tr>\n",
       "    <tr>\n",
       "      <th>1</th>\n",
       "      <td>10288</td>\n",
       "      <td>7201</td>\n",
       "      <td>17489</td>\n",
       "    </tr>\n",
       "    <tr>\n",
       "      <th>All</th>\n",
       "      <td>25405</td>\n",
       "      <td>18261</td>\n",
       "      <td>43666</td>\n",
       "    </tr>\n",
       "  </tbody>\n",
       "</table>\n",
       "</div>"
      ],
      "text/plain": [
       "gender       F      M    All\n",
       "Pur_int                     \n",
       "0        15117  11060  26177\n",
       "1        10288   7201  17489\n",
       "All      25405  18261  43666"
      ]
     },
     "execution_count": 65,
     "metadata": {},
     "output_type": "execute_result"
    }
   ],
   "source": [
    "# 交叉表\n",
    "pd.crosstab( df1.Pur_int ,df1.gender ,margins=True)"
   ]
  },
  {
   "cell_type": "markdown",
   "id": "e32e85c0",
   "metadata": {},
   "source": [
    "- 探索女性别男性 购买人数多的其他原因"
   ]
  },
  {
   "cell_type": "markdown",
   "id": "715f69b1",
   "metadata": {},
   "source": [
    "- a.性别"
   ]
  },
  {
   "cell_type": "code",
   "execution_count": 73,
   "id": "06aef75d",
   "metadata": {},
   "outputs": [
    {
     "data": {
      "text/html": [
       "<div>\n",
       "<style scoped>\n",
       "    .dataframe tbody tr th:only-of-type {\n",
       "        vertical-align: middle;\n",
       "    }\n",
       "\n",
       "    .dataframe tbody tr th {\n",
       "        vertical-align: top;\n",
       "    }\n",
       "\n",
       "    .dataframe thead th {\n",
       "        text-align: right;\n",
       "    }\n",
       "</style>\n",
       "<table border=\"1\" class=\"dataframe\">\n",
       "  <thead>\n",
       "    <tr style=\"text-align: right;\">\n",
       "      <th></th>\n",
       "      <th>age</th>\n",
       "    </tr>\n",
       "    <tr>\n",
       "      <th>gender</th>\n",
       "      <th></th>\n",
       "    </tr>\n",
       "  </thead>\n",
       "  <tbody>\n",
       "    <tr>\n",
       "      <th>F</th>\n",
       "      <td>71.114891</td>\n",
       "    </tr>\n",
       "    <tr>\n",
       "      <th>M</th>\n",
       "      <td>70.542425</td>\n",
       "    </tr>\n",
       "  </tbody>\n",
       "</table>\n",
       "</div>"
      ],
      "text/plain": [
       "              age\n",
       "gender           \n",
       "F       71.114891\n",
       "M       70.542425"
      ]
     },
     "execution_count": 73,
     "metadata": {},
     "output_type": "execute_result"
    }
   ],
   "source": [
    "df_Pur01.groupby('gender').agg({'age':'mean'})"
   ]
  },
  {
   "cell_type": "markdown",
   "id": "eb8e6069",
   "metadata": {},
   "source": [
    "- b. 教育程度"
   ]
  },
  {
   "cell_type": "code",
   "execution_count": 77,
   "id": "e7c1a8ac",
   "metadata": {},
   "outputs": [
    {
     "data": {
      "text/plain": [
       "N    15556\n",
       "Y     1933\n",
       "Name: YNcollege, dtype: int64"
      ]
     },
     "execution_count": 77,
     "metadata": {},
     "output_type": "execute_result"
    }
   ],
   "source": [
    "df_Pur01.YNcollege.value_counts()"
   ]
  },
  {
   "cell_type": "code",
   "execution_count": 81,
   "id": "4821d8f2",
   "metadata": {},
   "outputs": [
    {
     "data": {
      "text/plain": [
       "gender  YNcollege\n",
       "F       N            9071\n",
       "        Y            1217\n",
       "M       N            6485\n",
       "        Y             716\n",
       "Name: YNcollege, dtype: int64"
      ]
     },
     "execution_count": 81,
     "metadata": {},
     "output_type": "execute_result"
    }
   ],
   "source": [
    "df_Pur01.groupby( ['gender','YNcollege'] )['YNcollege'].count()"
   ]
  },
  {
   "cell_type": "code",
   "execution_count": 82,
   "id": "bcbb4ae9",
   "metadata": {},
   "outputs": [
    {
     "data": {
      "text/plain": [
       "0.11829315707620529"
      ]
     },
     "execution_count": 82,
     "metadata": {},
     "output_type": "execute_result"
    }
   ],
   "source": [
    "1217/(9071+1217)"
   ]
  },
  {
   "cell_type": "code",
   "execution_count": 83,
   "id": "6b4a650f",
   "metadata": {},
   "outputs": [
    {
     "data": {
      "text/plain": [
       "0.0994306346340786"
      ]
     },
     "execution_count": 83,
     "metadata": {},
     "output_type": "execute_result"
    }
   ],
   "source": [
    "716/(716+6485)"
   ]
  },
  {
   "cell_type": "markdown",
   "id": "a9fd7eb1",
   "metadata": {},
   "source": [
    "- c.是否买过保险"
   ]
  },
  {
   "cell_type": "code",
   "execution_count": 84,
   "id": "abee48dd",
   "metadata": {
    "scrolled": true
   },
   "outputs": [
    {
     "data": {
      "text/plain": [
       "gender  YNI\n",
       "F       N      8253\n",
       "        Y      2035\n",
       "M       N      5852\n",
       "        Y      1349\n",
       "Name: gender, dtype: int64"
      ]
     },
     "execution_count": 84,
     "metadata": {},
     "output_type": "execute_result"
    }
   ],
   "source": [
    "df_Pur01.groupby( ['gender','YNI'] )['gender'].count()"
   ]
  },
  {
   "cell_type": "code",
   "execution_count": 88,
   "id": "e85e8f1c",
   "metadata": {},
   "outputs": [
    {
     "data": {
      "text/plain": [
       "gender\n",
       "F    0.197803\n",
       "M    0.187335\n",
       "Name: gender, dtype: float64"
      ]
     },
     "execution_count": 88,
     "metadata": {},
     "output_type": "execute_result"
    }
   ],
   "source": [
    "get_pct = lambda x: x.loc[:,'Y']/x.sum(level=0) \n",
    "get_pct(df_Pur01.groupby( ['gender','YNI'] )['gender'].count())"
   ]
  },
  {
   "cell_type": "markdown",
   "id": "6090482e",
   "metadata": {},
   "source": [
    "- d.是否有过投资"
   ]
  },
  {
   "cell_type": "code",
   "execution_count": 89,
   "id": "06ed6667",
   "metadata": {},
   "outputs": [
    {
     "data": {
      "text/plain": [
       "gender\n",
       "F    0.249611\n",
       "M    0.229968\n",
       "Name: gender, dtype: float64"
      ]
     },
     "execution_count": 89,
     "metadata": {},
     "output_type": "execute_result"
    }
   ],
   "source": [
    "get_pct(df_Pur01.groupby( ['gender','YNinvest'] )['gender'].count())"
   ]
  },
  {
   "cell_type": "markdown",
   "id": "8c06892e",
   "metadata": {},
   "source": [
    "#### 3、学历degree 与 是否购买的关系"
   ]
  },
  {
   "cell_type": "markdown",
   "id": "0f8ce6b8",
   "metadata": {},
   "source": [
    "（1）值统计"
   ]
  },
  {
   "cell_type": "code",
   "execution_count": 91,
   "id": "6a677cae",
   "metadata": {
    "scrolled": true
   },
   "outputs": [
    {
     "data": {
      "text/plain": [
       "4    18597\n",
       "3    12437\n",
       "6     7493\n",
       "5     4474\n",
       "2      462\n",
       "7      130\n",
       "0       60\n",
       "1        9\n",
       "8        4\n",
       "Name: degree, dtype: int64"
      ]
     },
     "execution_count": 91,
     "metadata": {},
     "output_type": "execute_result"
    }
   ],
   "source": [
    "df1.degree.value_counts()"
   ]
  },
  {
   "cell_type": "code",
   "execution_count": 95,
   "id": "76668e20",
   "metadata": {},
   "outputs": [
    {
     "data": {
      "text/plain": [
       "{0: nan,\n",
       " 1: '初中',\n",
       " 2: '高中未毕业',\n",
       " 3: '高中',\n",
       " 4: '大学未毕业',\n",
       " 5: '大专',\n",
       " 6: '本科',\n",
       " 7: '研究生',\n",
       " 8: '专科',\n",
       " 9: '博士'}"
      ]
     },
     "execution_count": 95,
     "metadata": {},
     "output_type": "execute_result"
    }
   ],
   "source": [
    "degree_dict = {\n",
    "    0:np.nan,\n",
    "    1:'初中',\n",
    "    2:'高中未毕业',\n",
    "    3:'高中',\n",
    "    4:'大学未毕业',\n",
    "    5:'大专',\n",
    "    6:'本科',\n",
    "    7:'研究生',\n",
    "    8:'专科',\n",
    "    9:'博士'\n",
    "}\n",
    "degree_dict"
   ]
  },
  {
   "cell_type": "code",
   "execution_count": 98,
   "id": "750eabcf",
   "metadata": {},
   "outputs": [
    {
     "data": {
      "text/plain": [
       "<AxesSubplot:>"
      ]
     },
     "execution_count": 98,
     "metadata": {},
     "output_type": "execute_result"
    },
    {
     "data": {
      "image/png": "[encoded data removed]",
      "text/plain": [
       "<Figure size 432x288 with 1 Axes>"
      ]
     },
     "metadata": {
      "needs_background": "light"
     },
     "output_type": "display_data"
    }
   ],
   "source": [
    "df1.degree.value_counts().rename(index=degree_dict).plot.bar(rot=30)"
   ]
  },
  {
   "cell_type": "markdown",
   "id": "aa8666cb",
   "metadata": {},
   "source": [
    "- 疾病史 与 是否 购买"
   ]
  },
  {
   "cell_type": "code",
   "execution_count": 101,
   "id": "264d79b2",
   "metadata": {},
   "outputs": [
    {
     "data": {
      "text/plain": [
       "Index(['C_ID', 'Pur_int', 'gender', 'age', 'degree', 'YNkid', 'kid_num',\n",
       "       'kid0002', 'kid0305', 'kid0610', 'kid1115', 'kid1618', 'adult_num',\n",
       "       'fam_mem_num', 'FYNU18', 'FYN1819', 'FYN2029', 'FYN3039', 'FYN4049',\n",
       "       'FYN5059', 'FYN6064', 'FYN65P', 'YNelder', 'AART', 'ADBT', 'ADEP',\n",
       "       'AHBP', 'AHCH', 'ARES', 'AHRT', 'AASN', 'ADGS', 'AHRL', 'ASKN', 'AVIS',\n",
       "       'YNBR', 'YNcollege', 'YNI', 'YNLI', 'YNMI', 'YNinvest', 'YNOS', 'YNEP',\n",
       "       'city_size', 'YNONL', 'YNLA', 'YNLS', 'YNOE', 'YNLE', 'YNST',\n",
       "       'happiness_index', 'YNHouse', 'YNHIS', 'income_rank', 'FEPI',\n",
       "       'family_income', 'house_value', 'SESS', 'family_time', 'LS_num',\n",
       "       'State_Name', 'PAP', 'PBP', 'CA2000', 'PBC', 'PWC', 'PMH', 'PDP', 'PMP',\n",
       "       'PHO', 'PSFH', 'PKF', 'reside_year', 'PPMP', 'FIZLR', 'meda'],\n",
       "      dtype='object')"
      ]
     },
     "execution_count": 101,
     "metadata": {},
     "output_type": "execute_result"
    }
   ],
   "source": [
    "df1.columns"
   ]
  },
  {
   "cell_type": "code",
   "execution_count": 111,
   "id": "cddb13b2",
   "metadata": {},
   "outputs": [],
   "source": [
    "df_disease = df1[df1.columns[23:35]]\n",
    "YNdis = df_disease.apply(pd.value_counts ,axis=1)"
   ]
  },
  {
   "cell_type": "code",
   "execution_count": 115,
   "id": "8800c08a",
   "metadata": {},
   "outputs": [],
   "source": [
    "YNdis = YNdis.fillna(0).rename(columns={'N':'Ndis','Y':'Ydis'})"
   ]
  },
  {
   "cell_type": "code",
   "execution_count": 118,
   "id": "5b709422",
   "metadata": {},
   "outputs": [],
   "source": [
    "df2 = pd.concat( [df1,YNdis]  ,axis=1)"
   ]
  },
  {
   "cell_type": "code",
   "execution_count": 120,
   "id": "721d9eea",
   "metadata": {},
   "outputs": [
    {
     "data": {
      "text/html": [
       "<div>\n",
       "<style scoped>\n",
       "    .dataframe tbody tr th:only-of-type {\n",
       "        vertical-align: middle;\n",
       "    }\n",
       "\n",
       "    .dataframe tbody tr th {\n",
       "        vertical-align: top;\n",
       "    }\n",
       "\n",
       "    .dataframe thead th {\n",
       "        text-align: right;\n",
       "    }\n",
       "</style>\n",
       "<table border=\"1\" class=\"dataframe\">\n",
       "  <thead>\n",
       "    <tr style=\"text-align: right;\">\n",
       "      <th></th>\n",
       "      <th>C_ID</th>\n",
       "      <th>Pur_int</th>\n",
       "      <th>gender</th>\n",
       "      <th>age</th>\n",
       "      <th>degree</th>\n",
       "      <th>YNkid</th>\n",
       "      <th>kid_num</th>\n",
       "      <th>kid0002</th>\n",
       "      <th>kid0305</th>\n",
       "      <th>kid0610</th>\n",
       "      <th>...</th>\n",
       "      <th>PMP</th>\n",
       "      <th>PHO</th>\n",
       "      <th>PSFH</th>\n",
       "      <th>PKF</th>\n",
       "      <th>reside_year</th>\n",
       "      <th>PPMP</th>\n",
       "      <th>FIZLR</th>\n",
       "      <th>meda</th>\n",
       "      <th>Ndis</th>\n",
       "      <th>Ydis</th>\n",
       "    </tr>\n",
       "  </thead>\n",
       "  <tbody>\n",
       "    <tr>\n",
       "      <th>0</th>\n",
       "      <td>281478</td>\n",
       "      <td>0</td>\n",
       "      <td>M</td>\n",
       "      <td>67.0</td>\n",
       "      <td>5</td>\n",
       "      <td>Y</td>\n",
       "      <td>5</td>\n",
       "      <td>4</td>\n",
       "      <td>0</td>\n",
       "      <td>5</td>\n",
       "      <td>...</td>\n",
       "      <td>52</td>\n",
       "      <td>65</td>\n",
       "      <td>71.0</td>\n",
       "      <td>22</td>\n",
       "      <td>15.0</td>\n",
       "      <td>42</td>\n",
       "      <td>8</td>\n",
       "      <td>64.0</td>\n",
       "      <td>12.0</td>\n",
       "      <td>0.0</td>\n",
       "    </tr>\n",
       "    <tr>\n",
       "      <th>1</th>\n",
       "      <td>290485</td>\n",
       "      <td>0</td>\n",
       "      <td>M</td>\n",
       "      <td>76.0</td>\n",
       "      <td>4</td>\n",
       "      <td>U</td>\n",
       "      <td>0</td>\n",
       "      <td>0</td>\n",
       "      <td>0</td>\n",
       "      <td>0</td>\n",
       "      <td>...</td>\n",
       "      <td>44</td>\n",
       "      <td>81</td>\n",
       "      <td>99.0</td>\n",
       "      <td>37</td>\n",
       "      <td>17.0</td>\n",
       "      <td>46</td>\n",
       "      <td>3</td>\n",
       "      <td>61.0</td>\n",
       "      <td>12.0</td>\n",
       "      <td>0.0</td>\n",
       "    </tr>\n",
       "    <tr>\n",
       "      <th>2</th>\n",
       "      <td>299949</td>\n",
       "      <td>0</td>\n",
       "      <td>F</td>\n",
       "      <td>67.0</td>\n",
       "      <td>4</td>\n",
       "      <td>U</td>\n",
       "      <td>0</td>\n",
       "      <td>0</td>\n",
       "      <td>0</td>\n",
       "      <td>0</td>\n",
       "      <td>...</td>\n",
       "      <td>38</td>\n",
       "      <td>44</td>\n",
       "      <td>62.0</td>\n",
       "      <td>44</td>\n",
       "      <td>20.0</td>\n",
       "      <td>46</td>\n",
       "      <td>3</td>\n",
       "      <td>61.0</td>\n",
       "      <td>12.0</td>\n",
       "      <td>0.0</td>\n",
       "    </tr>\n",
       "    <tr>\n",
       "      <th>3</th>\n",
       "      <td>314635</td>\n",
       "      <td>0</td>\n",
       "      <td>F</td>\n",
       "      <td>71.0</td>\n",
       "      <td>4</td>\n",
       "      <td>Y</td>\n",
       "      <td>1</td>\n",
       "      <td>0</td>\n",
       "      <td>4</td>\n",
       "      <td>0</td>\n",
       "      <td>...</td>\n",
       "      <td>45</td>\n",
       "      <td>71</td>\n",
       "      <td>99.0</td>\n",
       "      <td>39</td>\n",
       "      <td>4.0</td>\n",
       "      <td>37</td>\n",
       "      <td>9</td>\n",
       "      <td>62.0</td>\n",
       "      <td>12.0</td>\n",
       "      <td>0.0</td>\n",
       "    </tr>\n",
       "    <tr>\n",
       "      <th>4</th>\n",
       "      <td>363702</td>\n",
       "      <td>0</td>\n",
       "      <td>F</td>\n",
       "      <td>75.0</td>\n",
       "      <td>4</td>\n",
       "      <td>U</td>\n",
       "      <td>0</td>\n",
       "      <td>0</td>\n",
       "      <td>0</td>\n",
       "      <td>0</td>\n",
       "      <td>...</td>\n",
       "      <td>32</td>\n",
       "      <td>13</td>\n",
       "      <td>36.0</td>\n",
       "      <td>15</td>\n",
       "      <td>9.0</td>\n",
       "      <td>37</td>\n",
       "      <td>3</td>\n",
       "      <td>NaN</td>\n",
       "      <td>12.0</td>\n",
       "      <td>0.0</td>\n",
       "    </tr>\n",
       "  </tbody>\n",
       "</table>\n",
       "<p>5 rows × 78 columns</p>\n",
       "</div>"
      ],
      "text/plain": [
       "     C_ID  Pur_int gender   age  degree YNkid  kid_num  kid0002  kid0305  \\\n",
       "0  281478        0      M  67.0       5     Y        5        4        0   \n",
       "1  290485        0      M  76.0       4     U        0        0        0   \n",
       "2  299949        0      F  67.0       4     U        0        0        0   \n",
       "3  314635        0      F  71.0       4     Y        1        0        4   \n",
       "4  363702        0      F  75.0       4     U        0        0        0   \n",
       "\n",
       "   kid0610  ...  PMP  PHO  PSFH  PKF reside_year PPMP FIZLR  meda  Ndis Ydis  \n",
       "0        5  ...   52   65  71.0   22        15.0   42     8  64.0  12.0  0.0  \n",
       "1        0  ...   44   81  99.0   37        17.0   46     3  61.0  12.0  0.0  \n",
       "2        0  ...   38   44  62.0   44        20.0   46     3  61.0  12.0  0.0  \n",
       "3        0  ...   45   71  99.0   39         4.0   37     9  62.0  12.0  0.0  \n",
       "4        0  ...   32   13  36.0   15         9.0   37     3   NaN  12.0  0.0  \n",
       "\n",
       "[5 rows x 78 columns]"
      ]
     },
     "execution_count": 120,
     "metadata": {},
     "output_type": "execute_result"
    }
   ],
   "source": [
    "df2.head()"
   ]
  },
  {
   "cell_type": "code",
   "execution_count": 126,
   "id": "33704c3e",
   "metadata": {},
   "outputs": [
    {
     "data": {
      "text/html": [
       "<div>\n",
       "<style scoped>\n",
       "    .dataframe tbody tr th:only-of-type {\n",
       "        vertical-align: middle;\n",
       "    }\n",
       "\n",
       "    .dataframe tbody tr th {\n",
       "        vertical-align: top;\n",
       "    }\n",
       "\n",
       "    .dataframe thead th {\n",
       "        text-align: right;\n",
       "    }\n",
       "</style>\n",
       "<table border=\"1\" class=\"dataframe\">\n",
       "  <thead>\n",
       "    <tr style=\"text-align: right;\">\n",
       "      <th>Ydis</th>\n",
       "      <th>0.0</th>\n",
       "      <th>1.0</th>\n",
       "      <th>2.0</th>\n",
       "      <th>3.0</th>\n",
       "      <th>4.0</th>\n",
       "      <th>5.0</th>\n",
       "      <th>6.0</th>\n",
       "      <th>7.0</th>\n",
       "      <th>8.0</th>\n",
       "      <th>9.0</th>\n",
       "      <th>10.0</th>\n",
       "      <th>11.0</th>\n",
       "      <th>12.0</th>\n",
       "    </tr>\n",
       "    <tr>\n",
       "      <th>Pur_int</th>\n",
       "      <th></th>\n",
       "      <th></th>\n",
       "      <th></th>\n",
       "      <th></th>\n",
       "      <th></th>\n",
       "      <th></th>\n",
       "      <th></th>\n",
       "      <th></th>\n",
       "      <th></th>\n",
       "      <th></th>\n",
       "      <th></th>\n",
       "      <th></th>\n",
       "      <th></th>\n",
       "    </tr>\n",
       "  </thead>\n",
       "  <tbody>\n",
       "    <tr>\n",
       "      <th>0</th>\n",
       "      <td>21133</td>\n",
       "      <td>399</td>\n",
       "      <td>421</td>\n",
       "      <td>590</td>\n",
       "      <td>684</td>\n",
       "      <td>765</td>\n",
       "      <td>716</td>\n",
       "      <td>582</td>\n",
       "      <td>410</td>\n",
       "      <td>269</td>\n",
       "      <td>117</td>\n",
       "      <td>68</td>\n",
       "      <td>23</td>\n",
       "    </tr>\n",
       "    <tr>\n",
       "      <th>1</th>\n",
       "      <td>13089</td>\n",
       "      <td>307</td>\n",
       "      <td>383</td>\n",
       "      <td>466</td>\n",
       "      <td>587</td>\n",
       "      <td>614</td>\n",
       "      <td>587</td>\n",
       "      <td>502</td>\n",
       "      <td>397</td>\n",
       "      <td>277</td>\n",
       "      <td>154</td>\n",
       "      <td>83</td>\n",
       "      <td>43</td>\n",
       "    </tr>\n",
       "  </tbody>\n",
       "</table>\n",
       "</div>"
      ],
      "text/plain": [
       "Ydis      0.0   1.0   2.0   3.0   4.0   5.0   6.0   7.0   8.0   9.0   10.0  \\\n",
       "Pur_int                                                                      \n",
       "0        21133   399   421   590   684   765   716   582   410   269   117   \n",
       "1        13089   307   383   466   587   614   587   502   397   277   154   \n",
       "\n",
       "Ydis     11.0  12.0  \n",
       "Pur_int              \n",
       "0          68    23  \n",
       "1          83    43  "
      ]
     },
     "execution_count": 126,
     "metadata": {},
     "output_type": "execute_result"
    }
   ],
   "source": [
    "pd.crosstab( df2.Pur_int ,df2.Ydis )"
   ]
  },
  {
   "cell_type": "code",
   "execution_count": 131,
   "id": "d256ccc6",
   "metadata": {},
   "outputs": [
    {
     "data": {
      "text/html": [
       "<div>\n",
       "<style scoped>\n",
       "    .dataframe tbody tr th:only-of-type {\n",
       "        vertical-align: middle;\n",
       "    }\n",
       "\n",
       "    .dataframe tbody tr th {\n",
       "        vertical-align: top;\n",
       "    }\n",
       "\n",
       "    .dataframe thead th {\n",
       "        text-align: right;\n",
       "    }\n",
       "</style>\n",
       "<table border=\"1\" class=\"dataframe\">\n",
       "  <thead>\n",
       "    <tr style=\"text-align: right;\">\n",
       "      <th>Ydis</th>\n",
       "      <th>0.0</th>\n",
       "      <th>1.0</th>\n",
       "      <th>2.0</th>\n",
       "      <th>3.0</th>\n",
       "      <th>4.0</th>\n",
       "      <th>5.0</th>\n",
       "      <th>6.0</th>\n",
       "      <th>7.0</th>\n",
       "      <th>8.0</th>\n",
       "      <th>9.0</th>\n",
       "      <th>10.0</th>\n",
       "      <th>11.0</th>\n",
       "      <th>12.0</th>\n",
       "    </tr>\n",
       "    <tr>\n",
       "      <th>Pur_int</th>\n",
       "      <th></th>\n",
       "      <th></th>\n",
       "      <th></th>\n",
       "      <th></th>\n",
       "      <th></th>\n",
       "      <th></th>\n",
       "      <th></th>\n",
       "      <th></th>\n",
       "      <th></th>\n",
       "      <th></th>\n",
       "      <th></th>\n",
       "      <th></th>\n",
       "      <th></th>\n",
       "    </tr>\n",
       "  </thead>\n",
       "  <tbody>\n",
       "    <tr>\n",
       "      <th>0</th>\n",
       "      <td>21129</td>\n",
       "      <td>399</td>\n",
       "      <td>421</td>\n",
       "      <td>590</td>\n",
       "      <td>684</td>\n",
       "      <td>765</td>\n",
       "      <td>716</td>\n",
       "      <td>582</td>\n",
       "      <td>410</td>\n",
       "      <td>269</td>\n",
       "      <td>117</td>\n",
       "      <td>68</td>\n",
       "      <td>23</td>\n",
       "    </tr>\n",
       "    <tr>\n",
       "      <th>1</th>\n",
       "      <td>13089</td>\n",
       "      <td>307</td>\n",
       "      <td>383</td>\n",
       "      <td>466</td>\n",
       "      <td>587</td>\n",
       "      <td>614</td>\n",
       "      <td>587</td>\n",
       "      <td>502</td>\n",
       "      <td>397</td>\n",
       "      <td>277</td>\n",
       "      <td>154</td>\n",
       "      <td>83</td>\n",
       "      <td>43</td>\n",
       "    </tr>\n",
       "  </tbody>\n",
       "</table>\n",
       "</div>"
      ],
      "text/plain": [
       "Ydis      0.0   1.0   2.0   3.0   4.0   5.0   6.0   7.0   8.0   9.0   10.0  \\\n",
       "Pur_int                                                                      \n",
       "0        21129   399   421   590   684   765   716   582   410   269   117   \n",
       "1        13089   307   383   466   587   614   587   502   397   277   154   \n",
       "\n",
       "Ydis     11.0  12.0  \n",
       "Pur_int              \n",
       "0          68    23  \n",
       "1          83    43  "
      ]
     },
     "execution_count": 131,
     "metadata": {},
     "output_type": "execute_result"
    }
   ],
   "source": [
    "df2.groupby(['Pur_int','Ydis']).count()['age'].unstack()"
   ]
  },
  {
   "cell_type": "code",
   "execution_count": 136,
   "id": "cef95806",
   "metadata": {},
   "outputs": [
    {
     "data": {
      "text/html": [
       "<div>\n",
       "<style scoped>\n",
       "    .dataframe tbody tr th:only-of-type {\n",
       "        vertical-align: middle;\n",
       "    }\n",
       "\n",
       "    .dataframe tbody tr th {\n",
       "        vertical-align: top;\n",
       "    }\n",
       "\n",
       "    .dataframe thead th {\n",
       "        text-align: right;\n",
       "    }\n",
       "</style>\n",
       "<table border=\"1\" class=\"dataframe\">\n",
       "  <thead>\n",
       "    <tr style=\"text-align: right;\">\n",
       "      <th>Ydis</th>\n",
       "      <th>0.0</th>\n",
       "      <th>1.0</th>\n",
       "      <th>2.0</th>\n",
       "      <th>3.0</th>\n",
       "      <th>4.0</th>\n",
       "      <th>5.0</th>\n",
       "      <th>6.0</th>\n",
       "      <th>7.0</th>\n",
       "      <th>8.0</th>\n",
       "      <th>9.0</th>\n",
       "      <th>10.0</th>\n",
       "      <th>11.0</th>\n",
       "      <th>12.0</th>\n",
       "    </tr>\n",
       "    <tr>\n",
       "      <th>Pur_int</th>\n",
       "      <th></th>\n",
       "      <th></th>\n",
       "      <th></th>\n",
       "      <th></th>\n",
       "      <th></th>\n",
       "      <th></th>\n",
       "      <th></th>\n",
       "      <th></th>\n",
       "      <th></th>\n",
       "      <th></th>\n",
       "      <th></th>\n",
       "      <th></th>\n",
       "      <th></th>\n",
       "    </tr>\n",
       "  </thead>\n",
       "  <tbody>\n",
       "    <tr>\n",
       "      <th>0</th>\n",
       "      <td>0.617527</td>\n",
       "      <td>0.565156</td>\n",
       "      <td>0.523632</td>\n",
       "      <td>0.558712</td>\n",
       "      <td>0.538159</td>\n",
       "      <td>0.55475</td>\n",
       "      <td>0.549501</td>\n",
       "      <td>0.5369</td>\n",
       "      <td>0.508055</td>\n",
       "      <td>0.492674</td>\n",
       "      <td>0.431734</td>\n",
       "      <td>0.450331</td>\n",
       "      <td>0.348485</td>\n",
       "    </tr>\n",
       "    <tr>\n",
       "      <th>1</th>\n",
       "      <td>0.382473</td>\n",
       "      <td>0.434844</td>\n",
       "      <td>0.476368</td>\n",
       "      <td>0.441288</td>\n",
       "      <td>0.461841</td>\n",
       "      <td>0.44525</td>\n",
       "      <td>0.450499</td>\n",
       "      <td>0.4631</td>\n",
       "      <td>0.491945</td>\n",
       "      <td>0.507326</td>\n",
       "      <td>0.568266</td>\n",
       "      <td>0.549669</td>\n",
       "      <td>0.651515</td>\n",
       "    </tr>\n",
       "  </tbody>\n",
       "</table>\n",
       "</div>"
      ],
      "text/plain": [
       "Ydis         0.0       1.0       2.0       3.0       4.0      5.0       6.0   \\\n",
       "Pur_int                                                                        \n",
       "0        0.617527  0.565156  0.523632  0.558712  0.538159  0.55475  0.549501   \n",
       "1        0.382473  0.434844  0.476368  0.441288  0.461841  0.44525  0.450499   \n",
       "\n",
       "Ydis       7.0       8.0       9.0       10.0      11.0      12.0  \n",
       "Pur_int                                                            \n",
       "0        0.5369  0.508055  0.492674  0.431734  0.450331  0.348485  \n",
       "1        0.4631  0.491945  0.507326  0.568266  0.549669  0.651515  "
      ]
     },
     "execution_count": 136,
     "metadata": {},
     "output_type": "execute_result"
    }
   ],
   "source": [
    "pd.crosstab( df2.Pur_int ,df2.Ydis ).apply(lambda x:x/x.sum() ,axis=0 )"
   ]
  },
  {
   "cell_type": "code",
   "execution_count": 139,
   "id": "1f122dfa",
   "metadata": {},
   "outputs": [
    {
     "data": {
      "text/plain": [
       "<AxesSubplot:xlabel='Ydis'>"
      ]
     },
     "execution_count": 139,
     "metadata": {},
     "output_type": "execute_result"
    },
    {
     "data": {
      "image/png": "[encoded data removed]",
      "text/plain": [
       "<Figure size 432x288 with 1 Axes>"
      ]
     },
     "metadata": {
      "needs_background": "light"
     },
     "output_type": "display_data"
    }
   ],
   "source": [
    "pd.crosstab( df2.Pur_int ,df2.Ydis ).apply(lambda x:x/x.sum() ,axis=0 ).iloc[1].plot.bar()"
   ]
  },
  {
   "cell_type": "code",
   "execution_count": null,
   "id": "578b3f9c",
   "metadata": {},
   "outputs": [],
   "source": []
  }
 ],
 "metadata": {
  "kernelspec": {
   "display_name": "Python 3",
   "language": "python",
   "name": "python3"
  },
  "language_info": {
   "codemirror_mode": {
    "name": "ipython",
    "version": 3
   },
   "file_extension": ".py",
   "mimetype": "text/x-python",
   "name": "python",
   "nbconvert_exporter": "python",
   "pygments_lexer": "ipython3",
   "version": "3.8.8"
  },
  "varInspector": {
   "cols": {
    "lenName": 16,
    "lenType": 16,
    "lenVar": 40
   },
   "kernels_config": {
    "python": {
     "delete_cmd_postfix": "",
     "delete_cmd_prefix": "del ",
     "library": "var_list.py",
     "varRefreshCmd": "print(var_dic_list())"
    },
    "r": {
     "delete_cmd_postfix": ") ",
     "delete_cmd_prefix": "rm(",
     "library": "var_list.r",
     "varRefreshCmd": "cat(var_dic_list()) "
    }
   },
   "types_to_exclude": [
    "module",
    "function",
    "builtin_function_or_method",
    "instance",
    "_Feature"
   ],
   "window_display": false
  }
 },
 "nbformat": 4,
 "nbformat_minor": 5
}
